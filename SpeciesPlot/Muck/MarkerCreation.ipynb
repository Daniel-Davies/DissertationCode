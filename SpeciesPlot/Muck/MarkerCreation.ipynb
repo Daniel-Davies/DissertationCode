{
 "cells": [
  {
   "cell_type": "markdown",
   "metadata": {},
   "source": [
    "# Changing PNG color\n"
   ]
  },
  {
   "cell_type": "code",
   "execution_count": null,
   "metadata": {
    "collapsed": true
   },
   "outputs": [],
   "source": [
    "from PIL import Image \n",
    "import os\n",
    "\n",
    "def newMarker(color, imageIndex):\n",
    "    image = Image.open('circularOrg.png')\n",
    "    pixelMap = image.load()\n",
    "    newImg = Image.new(image.mode,image.size)\n",
    "    pixelsNew = newImg.load() \n",
    "    width,height = newImg.size\n",
    "    \n",
    "    \n",
    "    h = color.lstrip('#')\n",
    "    color = tuple(int(h[i:i+2], 16) for i in (0, 2, 4))\n",
    "    color = color + (255,)\n",
    "    \n",
    "    for i in range(width): \n",
    "        for j in range(height):\n",
    "            pixelsNew[i,j] = pixelMap[i,j]\n",
    "            if pixelMap[i,j][3] < 250:\n",
    "                pixelsNew[i,j] = (255,255,255,255)\n",
    "            elif pixelMap[i,j][0] < 255:\n",
    "                pixelsNew[i,j] = color\n",
    "    newImg.save( r\"C:\\Users\\davie\\Desktop\\Masters' year\\Dissertation\\Code\\SpeciesPlot\\SpeciesPlot\\markertmp.png\", 'png')\n",
    "\n",
    "    img = Image.open('markertmp.png')\n",
    "    img = img.convert(\"RGBA\")\n",
    "    datas = img.getdata()\n",
    "\n",
    "    newData = []\n",
    "    for item in datas:\n",
    "        if item[0] == 255 and item[1] == 255 and item[2] == 255:\n",
    "            newData.append((255, 255, 255, 0))\n",
    "        else:\n",
    "            newData.append(item)\n",
    "\n",
    "    img.putdata(newData)\n",
    "    img.save(\"marker\"+str(imageIndex)+\".png\", \"PNG\")\n",
    "    os.remove(\"markertmp.png\")"
   ]
  },
  {
   "cell_type": "code",
   "execution_count": null,
   "metadata": {
    "collapsed": true
   },
   "outputs": [],
   "source": [
    "def includeTransparency(color, imageIndex):\n",
    "    image = Image.open('circularOrg.png')\n",
    "    pixelMap = image.load()\n",
    "    newImg = Image.new(image.mode,image.size)\n",
    "    pixelsNew = newImg.load() \n",
    "    width,height = newImg.size\n",
    "    \n",
    "    \n",
    "    h = color.lstrip('#')\n",
    "    color = tuple(int(h[i:i+2], 16) for i in (0, 2, 4))\n",
    "    color = color + (255,)\n",
    "    \n",
    "    for i in range(width): \n",
    "        for j in range(height):\n",
    "            pixelsNew[i,j] = pixelMap[i,j]\n",
    "            if pixelMap[i,j][3] < 250:\n",
    "                pixelsNew[i,j] = (255,255,255,255)\n",
    "            elif pixelMap[i,j][0] < 255:\n",
    "                if pixelMap[i,j][1] == 188:\n",
    "                    a,b,c,d = color \n",
    "                    pixelsNew[i,j] = (a,b,c,210)\n",
    "                elif pixelMap[i,j][1] == 128:\n",
    "                    pixelsNew[i,j] = color\n",
    "    newImg.save( r\"C:\\Users\\davie\\Desktop\\Masters\\Dissertation\\Code\\SpeciesPlot\\SpeciesPlot\\markertmp.png\", 'png')\n",
    "\n",
    "    img = Image.open('markertmp.png')\n",
    "    img = img.convert(\"RGBA\")\n",
    "    datas = img.getdata()\n",
    "\n",
    "    newData = []\n",
    "    for item in datas:\n",
    "        if item[0] == 255 and item[1] == 255 and item[2] == 255:\n",
    "            newData.append((255, 255, 255, 0))\n",
    "        else:\n",
    "            newData.append(item)\n",
    "\n",
    "    img.putdata(newData)\n",
    "    img.save(\"marker\"+str(imageIndex)+\".png\", \"PNG\")\n",
    "    os.remove(\"markertmp.png\")"
   ]
  },
  {
   "cell_type": "code",
   "execution_count": null,
   "metadata": {
    "collapsed": true
   },
   "outputs": [],
   "source": [
    "def generateNMarkers(n):\n",
    "    jump = int(14777216 / n)\n",
    "    offset = 2000000\n",
    "    for i in range(0, n):\n",
    "        hexidec = '#{0:06x}'.format(int(i * jump))\n",
    "        newMarker(hexidec, i)\n",
    "\n",
    "#includeTransparency(\"#E74C3C\", 0)"
   ]
  },
  {
   "cell_type": "code",
   "execution_count": null,
   "metadata": {
    "collapsed": true
   },
   "outputs": [],
   "source": [
    "from PIL import Image \n",
    "import os\n",
    "import math\n",
    "\n",
    "def redToBlue(n):\n",
    "    buildArray = []\n",
    "    lowRange = 255\n",
    "    highRange = 255\n",
    "    \n",
    "    redNum = int(math.floor(n / 2))\n",
    "    blueNum = int(math.ceil(n / 2))\n",
    "    \n",
    "    currentRed = 0\n",
    "    redStep = int(lowRange / redNum)\n",
    "    for i in range(0, redNum):\n",
    "        color = currentRed * redStep\n",
    "        hexidec = '#%02x%02x%02x' % (255, 0, color)\n",
    "        buildArray.append(hexidec)\n",
    "        currentRed += 1\n",
    "    \n",
    "    temp = []\n",
    "    currentBlue = 0\n",
    "    blueStep = int(lowRange / blueNum)\n",
    "    for i in range(0, redNum):\n",
    "        color = currentBlue * blueStep\n",
    "        hexidec = '#%02x%02x%02x' % (color, 0, 255)\n",
    "        temp.append(hexidec)\n",
    "        currentBlue += 1\n",
    "    \n",
    "    temp = temp[::-1] #reverse the blue colours- they go in the opposite order\n",
    "    buildArray.extend(temp)\n",
    "    return buildArray\n",
    "    "
   ]
  },
  {
   "cell_type": "code",
   "execution_count": null,
   "metadata": {
    "collapsed": true
   },
   "outputs": [],
   "source": [
    "def generateColorMapMarkers(n):\n",
    "    colorMap = redToBlue(n)\n",
    "    \n",
    "    for k,i in enumerate(colorMap):\n",
    "        newMarker(i, k)\n",
    "\n",
    "def generateColorMapWTransparency(n):\n",
    "    colorMap = redToBlue(n)\n",
    "    \n",
    "    for k,i in enumerate(colorMap):\n",
    "        includeTransparency(i, k)\n",
    "\n",
    "generateColorMapWTransparency(78)"
   ]
  },
  {
   "cell_type": "code",
   "execution_count": null,
   "metadata": {
    "collapsed": true
   },
   "outputs": [],
   "source": [
    "from PIL import Image\n",
    "from PIL import ImageDraw\n",
    "image = Image.new('RGBA', (200, 200))\n",
    "\n",
    "draw = ImageDraw.Draw(image)\n",
    "draw.ellipse((10, 10, 195, 195), fill = '#5B2C6F', outline ='#5B2C6F')\n",
    "draw.ellipse((25, 25, 180, 180), fill = '#AF7AC5', outline ='#AF7AC5')\n",
    "\n",
    "image.save(\"circularOrg\"+\".png\", \"PNG\")\n"
   ]
  }
 ],
 "metadata": {
  "kernelspec": {
   "display_name": "Python 3",
   "language": "python",
   "name": "python3"
  },
  "language_info": {
   "codemirror_mode": {
    "name": "ipython",
    "version": 3
   },
   "file_extension": ".py",
   "mimetype": "text/x-python",
   "name": "python",
   "nbconvert_exporter": "python",
   "pygments_lexer": "ipython3",
   "version": "3.6.3"
  }
 },
 "nbformat": 4,
 "nbformat_minor": 2
}
