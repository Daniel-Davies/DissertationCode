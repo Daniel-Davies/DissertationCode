{
 "cells": [
  {
   "cell_type": "markdown",
   "metadata": {},
   "source": [
    "# Was the power grid a tourist attraction / what was the effect on Power grid for observations around the power grid locations?"
   ]
  },
  {
   "cell_type": "code",
   "execution_count": 1,
   "metadata": {
    "collapsed": true
   },
   "outputs": [],
   "source": [
    "%matplotlib inline\n",
    "import sys\n",
    "sys.path.insert(1,'../Utilities')\n",
    "# notebook\n",
    "import matplotlib.pylab as pylab\n",
    "import matplotlib.pyplot as plt\n",
    "from collections import Counter\n",
    "import numpy as np\n",
    "import pandas as pd\n",
    "import networkx as nx\n",
    "from math import sin, cos, sqrt, atan2, radians\n",
    "from data import listedEiggHotels, pointsOfInterest, residentialEntry\n",
    "from utils import *\n",
    "from data import *\n",
    "#make the graphs bigger\n",
    "pylab.rcParams['figure.figsize'] = (32.0, 24.0)\n",
    "pylab.rcParams['font.size'] = 24"
   ]
  },
  {
   "cell_type": "code",
   "execution_count": 2,
   "metadata": {
    "collapsed": true
   },
   "outputs": [],
   "source": [
    "def graphTwoSetsByObservations(buildingLocs,obsLocs,dist=50):\n",
    "    distance_away = dist\n",
    "\n",
    "    G = nx.Graph()\n",
    "\n",
    "    colorMap = (['gold'] * len(buildingLocs)) + (['blue'] * len(obsLocs))\n",
    "\n",
    "    for k,r in enumerate(buildingLocs):\n",
    "        G.add_node(k, color=\"green\")\n",
    "\n",
    "    for k,o in enumerate(obsLocs):\n",
    "        G.add_node(k+len(buildingLocs), color=\"blue\")\n",
    "\n",
    "    for o_index,o in enumerate(obsLocs):\n",
    "        for r_index,r in enumerate(buildingLocs):\n",
    "            if seperationInMetres(o,r) < distance_away:\n",
    "                G.add_edge(o_index+len(buildingLocs),r_index)\n",
    "                \n",
    "    return G, colorMap"
   ]
  },
  {
   "cell_type": "code",
   "execution_count": 3,
   "metadata": {
    "collapsed": true
   },
   "outputs": [],
   "source": [
    "def getDataPrePowerGrid():\n",
    "    df = eiggRawData()\n",
    "    df = df[(df['Start date year'] < 2008.0)]\n",
    "    return list((list(map(lambda x: (x[0],x[1]),convertFrameCoordsToUsableLatLon(df)))))\n",
    "\n",
    "def getDataPostPowerGrid():\n",
    "    df = eiggRawData()\n",
    "    df = df[(df['Start date year'] >= 2008.0)]\n",
    "    return list((list(map(lambda x: (x[0],x[1]),convertFrameCoordsToUsableLatLon(df)))))\n",
    "\n",
    "def getPowerGridCoords():\n",
    "    return toUsableLatLonList(electricGrid())\n",
    "\n",
    "def totalPossibleEdges(numEdges): return numEdges*(numEdges-1)/2"
   ]
  },
  {
   "cell_type": "code",
   "execution_count": 4,
   "metadata": {},
   "outputs": [
    {
     "name": "stderr",
     "output_type": "stream",
     "text": [
      "C:\\Users\\davie\\Anaconda3\\lib\\site-packages\\ipykernel_launcher.py:1: DtypeWarning: Columns (9,22) have mixed types. Specify dtype option on import or set low_memory=False.\n",
      "  \"\"\"Entry point for launching an IPython kernel.\n"
     ]
    },
    {
     "name": "stdout",
     "output_type": "stream",
     "text": [
      "Pre-power grid\n",
      "--------------\n",
      "Total nodes: 23395\n",
      "Total connected nodes: 511\n",
      "Ratio of nodes: connected nodes 0.021842273990168838\n",
      "P(edge): 1.8527226883598202e-06\n"
     ]
    }
   ],
   "source": [
    "Gpre, colorMapPre = graphTwoSetsByObservations(getPowerGridCoords(), getDataPrePowerGrid())\n",
    "# file = nx.to_numpy_matrix(Gpre)\n",
    "# print(file.shape)\n",
    "# print()\n",
    "# print(file)\n",
    "# np.savetxt(\"prePowerGrid.txt\",file, \"%d\")   \n",
    "connectedNodes = (len(list(filter(lambda x: x[1] != 0,Gpre.degree))))\n",
    "totalNodes = (len(Gpre.nodes))\n",
    "print(\"Pre-power grid\")\n",
    "print(\"--------------\")\n",
    "print(\"Total nodes: \" + str(totalNodes))\n",
    "print(\"Total connected nodes: \" + str(connectedNodes))\n",
    "print(\"Ratio of nodes: connected nodes \" + str(connectedNodes/totalNodes))\n",
    "print(\"P(edge): \" + str(len(Gpre.edges())/totalPossibleEdges(totalNodes)))\n",
    "#nx.draw(Gpre, node_color=colorMapPre)"
   ]
  },
  {
   "cell_type": "code",
   "execution_count": 5,
   "metadata": {},
   "outputs": [
    {
     "name": "stderr",
     "output_type": "stream",
     "text": [
      "C:\\Users\\davie\\Anaconda3\\lib\\site-packages\\ipykernel_launcher.py:1: DtypeWarning: Columns (9,22) have mixed types. Specify dtype option on import or set low_memory=False.\n",
      "  \"\"\"Entry point for launching an IPython kernel.\n"
     ]
    },
    {
     "name": "stdout",
     "output_type": "stream",
     "text": [
      "Post-power grid\n",
      "--------------\n",
      "Total nodes: 13874\n",
      "Total connected nodes: 723\n",
      "Ratio of nodes: connected nodes 0.05211186391812023\n",
      "P(edge): 5.268243967826886e-06\n"
     ]
    }
   ],
   "source": [
    "Gpost, colorMapPost = graphTwoSetsByObservations(getPowerGridCoords(), getDataPostPowerGrid())\n",
    "connectedNodes = (len(list(filter(lambda x: x[1] != 0,Gpost.degree))))\n",
    "totalNodes = (len(Gpost.nodes))\n",
    "print(\"Post-power grid\")\n",
    "print(\"--------------\")\n",
    "print(\"Total nodes: \" + str(totalNodes))\n",
    "print(\"Total connected nodes: \" + str(connectedNodes))\n",
    "print(\"Ratio of nodes: connected nodes \" + str(connectedNodes/totalNodes))\n",
    "print(\"P(edge): \" + str(len(Gpre.edges())/totalPossibleEdges(totalNodes)))\n",
    "#nx.draw(Gpost, node_color=colorMapPost)"
   ]
  },
  {
   "cell_type": "code",
   "execution_count": null,
   "metadata": {
    "collapsed": true
   },
   "outputs": [],
   "source": []
  },
  {
   "cell_type": "code",
   "execution_count": null,
   "metadata": {
    "collapsed": true
   },
   "outputs": [],
   "source": []
  },
  {
   "cell_type": "code",
   "execution_count": null,
   "metadata": {
    "collapsed": true
   },
   "outputs": [],
   "source": []
  }
 ],
 "metadata": {
  "kernelspec": {
   "display_name": "Python 3",
   "language": "python",
   "name": "python3"
  },
  "language_info": {
   "codemirror_mode": {
    "name": "ipython",
    "version": 3
   },
   "file_extension": ".py",
   "mimetype": "text/x-python",
   "name": "python",
   "nbconvert_exporter": "python",
   "pygments_lexer": "ipython3",
   "version": "3.6.3"
  }
 },
 "nbformat": 4,
 "nbformat_minor": 2
}
