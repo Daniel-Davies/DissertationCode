{
 "cells": [
  {
   "cell_type": "markdown",
   "metadata": {},
   "source": [
    "# See anyone from the observer file on the businesses file?\n",
    "\n"
   ]
  },
  {
   "cell_type": "code",
   "execution_count": 1,
   "metadata": {
    "collapsed": true
   },
   "outputs": [],
   "source": [
    "%matplotlib inline\n",
    "import sys\n",
    "sys.path.insert(1,'../Utilities')\n",
    "# notebook\n",
    "import matplotlib.pylab as pylab\n",
    "import matplotlib.pyplot as plt\n",
    "from collections import Counter, defaultdict\n",
    "import numpy as np\n",
    "import pandas as pd\n",
    "import networkx as nx\n",
    "import json\n",
    "from math import sin, cos, sqrt, atan2, radians\n",
    "from utils import *\n",
    "from data import *\n",
    "#make the graphs bigger\n",
    "pylab.rcParams['figure.figsize'] = (32.0, 24.0)\n",
    "pylab.rcParams['font.size'] = 24"
   ]
  },
  {
   "cell_type": "markdown",
   "metadata": {},
   "source": [
    "## Step 1: get all correlating names"
   ]
  },
  {
   "cell_type": "code",
   "execution_count": 2,
   "metadata": {},
   "outputs": [
    {
     "name": "stderr",
     "output_type": "stream",
     "text": [
      "C:\\Users\\davie\\Anaconda3\\lib\\site-packages\\IPython\\core\\interactiveshell.py:2862: DtypeWarning: Columns (9,22) have mixed types. Specify dtype option on import or set low_memory=False.\n",
      "  exec(code_obj, self.user_global_ns, self.user_ns)\n"
     ]
    }
   ],
   "source": [
    "people = inferredNamesGraph()\n",
    "observers = eiggRawData()"
   ]
  },
  {
   "cell_type": "code",
   "execution_count": 3,
   "metadata": {
    "collapsed": true
   },
   "outputs": [],
   "source": [
    "#Exact Match\n",
    "observers = observers.dropna(subset=['Recorder'])\n",
    "observers = observers[\"Recorder\"]\n",
    "observers = list(observers)\n",
    "observers = list(map(lambda x: x.lower(), observers))\n",
    "\n",
    "people = people.keys()\n",
    "people = list(map(lambda x: x.lower(), people))\n",
    "\n"
   ]
  },
  {
   "cell_type": "code",
   "execution_count": 4,
   "metadata": {},
   "outputs": [
    {
     "data": {
      "text/plain": [
       "['neil robertson',\n",
       " 'eddie scott',\n",
       " 'colin carr',\n",
       " 'alex boden',\n",
       " 'kenneth kean',\n",
       " 'john booth',\n",
       " 'george carr',\n",
       " 'bob wallace',\n",
       " 'stuart millar',\n",
       " 'pascal carr',\n",
       " 'mairi mckinnon']"
      ]
     },
     "execution_count": 4,
     "metadata": {},
     "output_type": "execute_result"
    }
   ],
   "source": [
    "lookup = []\n",
    "q = set(observers)\n",
    "for p in people:\n",
    "    if p in q:\n",
    "        lookup.append(p)\n",
    "lookup"
   ]
  },
  {
   "cell_type": "code",
   "execution_count": 5,
   "metadata": {},
   "outputs": [
    {
     "data": {
      "text/plain": [
       "7449"
      ]
     },
     "execution_count": 5,
     "metadata": {},
     "output_type": "execute_result"
    }
   ],
   "source": [
    "res = []\n",
    "for p in people:\n",
    "    for o in observers:\n",
    "        if p in o:\n",
    "            res.append((p,o))\n",
    "len(res)"
   ]
  },
  {
   "cell_type": "code",
   "execution_count": 6,
   "metadata": {},
   "outputs": [
    {
     "data": {
      "text/plain": [
       "[('marie carr', 'colin carr;marie carr'),\n",
       " ('katrin bach', 'john chester;katrin bach'),\n",
       " ('simon helliwell', 'karen helliwell;simon helliwell'),\n",
       " ('simon helliwell', 'james leck;karen helliwell;simon helliwell'),\n",
       " ('karen helliwell', 'karen helliwell;simon helliwell'),\n",
       " ('karen helliwell', 'james leck;karen helliwell;simon helliwell'),\n",
       " ('jenny robertson', 'jenny robertson;john chester'),\n",
       " ('jenny robertson', 'jenny robertson;john chester'),\n",
       " ('stuart fergusson', 'dennis mccullough;francis carr;stuart fergusson')]"
      ]
     },
     "execution_count": 6,
     "metadata": {},
     "output_type": "execute_result"
    }
   ],
   "source": [
    "inter = list(filter(lambda x: x[0] not in lookup and x[0] != 'john',res))\n",
    "inter"
   ]
  },
  {
   "cell_type": "code",
   "execution_count": 7,
   "metadata": {},
   "outputs": [
    {
     "data": {
      "text/plain": [
       "{'alex boden',\n",
       " 'bob wallace',\n",
       " 'colin carr',\n",
       " 'eddie scott',\n",
       " 'george carr',\n",
       " 'jenny robertson',\n",
       " 'john booth',\n",
       " 'karen helliwell',\n",
       " 'katrin bach',\n",
       " 'kenneth kean',\n",
       " 'mairi mckinnon',\n",
       " 'marie carr',\n",
       " 'neil robertson',\n",
       " 'pascal carr',\n",
       " 'simon helliwell',\n",
       " 'stuart fergusson',\n",
       " 'stuart millar'}"
      ]
     },
     "execution_count": 7,
     "metadata": {},
     "output_type": "execute_result"
    }
   ],
   "source": [
    "final = set(lookup + list(map(lambda x: x[0],inter)))\n",
    "final"
   ]
  },
  {
   "cell_type": "markdown",
   "metadata": {},
   "source": [
    "## Step 2: get observed animals for a person"
   ]
  },
  {
   "cell_type": "code",
   "execution_count": 8,
   "metadata": {},
   "outputs": [
    {
     "name": "stderr",
     "output_type": "stream",
     "text": [
      "C:\\Users\\davie\\Anaconda3\\lib\\site-packages\\IPython\\core\\interactiveshell.py:2862: DtypeWarning: Columns (9,22) have mixed types. Specify dtype option on import or set low_memory=False.\n",
      "  exec(code_obj, self.user_global_ns, self.user_ns)\n"
     ]
    },
    {
     "data": {
      "text/html": [
       "<div>\n",
       "<style>\n",
       "    .dataframe thead tr:only-child th {\n",
       "        text-align: right;\n",
       "    }\n",
       "\n",
       "    .dataframe thead th {\n",
       "        text-align: left;\n",
       "    }\n",
       "\n",
       "    .dataframe tbody tr th {\n",
       "        vertical-align: top;\n",
       "    }\n",
       "</style>\n",
       "<table border=\"1\" class=\"dataframe\">\n",
       "  <thead>\n",
       "    <tr style=\"text-align: right;\">\n",
       "      <th></th>\n",
       "      <th>Recorder</th>\n",
       "      <th>Scientific name</th>\n",
       "      <th>Common name</th>\n",
       "    </tr>\n",
       "  </thead>\n",
       "  <tbody>\n",
       "    <tr>\n",
       "      <th>0</th>\n",
       "      <td>unknown</td>\n",
       "      <td>Meloe violaceus</td>\n",
       "      <td>Violet Oil-beetle</td>\n",
       "    </tr>\n",
       "    <tr>\n",
       "      <th>1</th>\n",
       "      <td>frank balfour-browne</td>\n",
       "      <td>Rhantus suturellus</td>\n",
       "      <td>NaN</td>\n",
       "    </tr>\n",
       "    <tr>\n",
       "      <th>2</th>\n",
       "      <td>frank balfour-browne</td>\n",
       "      <td>Gyrinus substriatus</td>\n",
       "      <td>NaN</td>\n",
       "    </tr>\n",
       "    <tr>\n",
       "      <th>3</th>\n",
       "      <td>frank balfour-browne</td>\n",
       "      <td>Enochrus fuscipennis</td>\n",
       "      <td>NaN</td>\n",
       "    </tr>\n",
       "    <tr>\n",
       "      <th>4</th>\n",
       "      <td>frank balfour-browne</td>\n",
       "      <td>Boreonectes multilineatus</td>\n",
       "      <td>NaN</td>\n",
       "    </tr>\n",
       "  </tbody>\n",
       "</table>\n",
       "</div>"
      ],
      "text/plain": [
       "               Recorder            Scientific name        Common name\n",
       "0               unknown            Meloe violaceus  Violet Oil-beetle\n",
       "1  frank balfour-browne         Rhantus suturellus                NaN\n",
       "2  frank balfour-browne        Gyrinus substriatus                NaN\n",
       "3  frank balfour-browne       Enochrus fuscipennis                NaN\n",
       "4  frank balfour-browne  Boreonectes multilineatus                NaN"
      ]
     },
     "execution_count": 8,
     "metadata": {},
     "output_type": "execute_result"
    }
   ],
   "source": [
    "observers = eiggRawData()\n",
    "observers = observers.dropna(subset=['Recorder'])\n",
    "observers = observers[[\"Recorder\", 'Scientific name', 'Common name']]\n",
    "observers[\"Recorder\"] = observers[\"Recorder\"].apply(lambda x: x.lower())\n",
    "observers.head()"
   ]
  },
  {
   "cell_type": "code",
   "execution_count": 9,
   "metadata": {},
   "outputs": [
    {
     "data": {
      "text/plain": [
       "[[dict_keys(['Lagopus lagopus', 'Cygnus cygnus', 'Haliaeetus albicilla', 'Asio flammeus']),\n",
       "  'alex boden'],\n",
       " [dict_keys(['Fringilla montifringilla', 'Emberiza calandra', 'Streptopelia decaocto', 'Falco columbarius', 'Carduelis carduelis', 'Passer domesticus', 'Emberiza citrinella', 'Streptopelia turtur', 'Emberiza schoeniclus', 'Spinus spinus', 'Cygnus cygnus', 'Chloris chloris', 'Phasianus colchicus', 'Hirundo rustica', 'Bombycilla garrulus', 'Sturnus vulgaris', 'Columba livia', 'Puffinus puffinus', 'Motacilla alba subsp. yarrellii']),\n",
       "  'mairi mckinnon'],\n",
       " [dict_keys(['Crex crex', 'Calidris alpina', 'Gallinula chloropus', 'Carduelis carduelis']),\n",
       "  'eddie scott'],\n",
       " [dict_keys(['Tyto alba', 'Asio otus']), 'simon helliwell'],\n",
       " [dict_keys(['Alle alle']), 'stuart fergusson'],\n",
       " [dict_keys(['Calidris alba']), 'katrin bach'],\n",
       " [dict_keys(['Tyto alba', 'Asio otus']), 'karen helliwell'],\n",
       " [dict_keys(['Crex crex', 'Oenanthe oenanthe', 'Hirundo rustica', 'Passer domesticus', 'Motacilla alba subsp. yarrellii', 'Branta canadensis', 'Pluvialis apricaria', 'Corvus frugilegus', 'Haliaeetus albicilla', 'Phasianus colchicus']),\n",
       "  'john booth'],\n",
       " [dict_keys(['Cuculus canorus']), 'bob wallace'],\n",
       " [dict_keys(['Dendrocopos major']), 'jenny robertson'],\n",
       " [dict_keys(['Branta leucopsis', 'Aquila chrysaetos']), 'george carr'],\n",
       " [dict_keys(['Streptopelia decaocto', 'Somateria mollissima', 'Anser anser', 'Falco columbarius', 'Pluvialis apricaria', 'Scolopax rusticola', 'Numenius arquata', 'Asio flammeus', 'Cygnus cygnus', 'Anser brachyrhynchus', 'Streptopelia turtur', 'Falco peregrinus', 'Haliaeetus albicilla', 'Apus apus', 'Bufo bufo', 'Gallinago gallinago', 'Larus glaucoides', 'Aquila chrysaetos']),\n",
       "  'colin carr'],\n",
       " [dict_keys(['Puffinus puffinus', 'Falco columbarius', 'Aegithalos caudatus', 'Turdus philomelos', 'Aglais io', 'Linaria flavirostris', 'Passer domesticus', 'Streptopelia turtur', 'Carduelis carduelis', 'Turdus iliacus', 'Lymnocryptes minimus', 'Motacilla alba subsp. yarrellii', 'Uria aalge', 'Erinaceus europaeus', 'Phasianus colchicus', 'Anser brachyrhynchus']),\n",
       "  'neil robertson'],\n",
       " [dict_keys(['Bucephala clangula', 'Tringa totanus', 'Cuculus canorus', 'Somateria mollissima', 'Cygnus cygnus', 'Streptopelia decaocto', 'Anas penelope', 'Spinus spinus', 'Passer montanus', 'Accipiter nisus']),\n",
       "  'pascal carr'],\n",
       " [dict_keys(['Buteo buteo', 'Fratercula arctica', 'Hirundo rustica', 'Sterna paradisaea', 'Delichon urbicum', 'Somateria mollissima', 'Tyto alba', 'Vanellus vanellus', 'Numenius arquata', 'Columba livia', 'Asio flammeus', 'Acrocephalus schoenobaenus', 'Cygnus cygnus', 'Haematopus ostralegus', 'Anser brachyrhynchus', 'Passer domesticus', 'Fulmarus glacialis', 'Spinus spinus', 'Cuculus canorus', 'Stercorarius parasiticus', 'Stercorarius pomarinus', 'Branta canadensis', 'Falco peregrinus', 'Falco columbarius', 'Motacilla alba subsp. yarrellii', 'Carduelis carduelis', 'Garrulus glandarius', 'Gallinula chloropus', 'Prunella modularis', 'Plectrophenax nivalis', 'Phasianus colchicus', 'Rallus aquaticus', 'Branta bernicla subsp. hrota', 'Phalacrocorax carbo', 'Chloris chloris', 'Octopoda', 'Fringilla coelebs']),\n",
       "  'stuart millar'],\n",
       " [dict_keys(['Cygnus cygnus', 'Bombycilla garrulus', 'Hirundo rustica', 'Emberiza citrinella', 'Falco columbarius', 'Streptopelia decaocto']),\n",
       "  'kenneth kean'],\n",
       " [dict_keys(['Streptopelia decaocto']), 'marie carr']]"
      ]
     },
     "execution_count": 9,
     "metadata": {},
     "output_type": "execute_result"
    }
   ],
   "source": [
    "personalAnimalDir = []\n",
    "for name in final:\n",
    "    personalAnimalDir.append([Counter(observers[observers[\"Recorder\"].str.contains(name)][\"Scientific name\"]).keys(), name])\n",
    "\n",
    "personalAnimalDir"
   ]
  },
  {
   "cell_type": "markdown",
   "metadata": {},
   "source": [
    "## Step 3: Graph vis & save as adj. matrix"
   ]
  },
  {
   "cell_type": "code",
   "execution_count": null,
   "metadata": {
    "collapsed": true
   },
   "outputs": [],
   "source": []
  },
  {
   "cell_type": "code",
   "execution_count": null,
   "metadata": {
    "collapsed": true
   },
   "outputs": [],
   "source": []
  }
 ],
 "metadata": {
  "kernelspec": {
   "display_name": "Python 3",
   "language": "python",
   "name": "python3"
  },
  "language_info": {
   "codemirror_mode": {
    "name": "ipython",
    "version": 3
   },
   "file_extension": ".py",
   "mimetype": "text/x-python",
   "name": "python",
   "nbconvert_exporter": "python",
   "pygments_lexer": "ipython3",
   "version": "3.6.3"
  }
 },
 "nbformat": 4,
 "nbformat_minor": 2
}
