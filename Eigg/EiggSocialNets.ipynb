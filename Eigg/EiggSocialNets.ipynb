{
 "cells": [
  {
   "cell_type": "code",
   "execution_count": 1,
   "metadata": {
    "collapsed": true
   },
   "outputs": [],
   "source": [
    "%matplotlib inline\n",
    "# notebook\n",
    "import matplotlib.pylab as pylab\n",
    "import matplotlib.pyplot as plt\n",
    "from collections import Counter\n",
    "import numpy as np\n",
    "import pandas as pd\n",
    "import networkx as nx\n",
    "from math import sin, cos, sqrt, atan2, radians\n",
    "from utils import *\n",
    "from data import *\n",
    "#make the graphs bigger\n",
    "pylab.rcParams['figure.figsize'] = (32.0, 24.0)\n",
    "pylab.rcParams['font.size'] = 24"
   ]
  },
  {
   "cell_type": "code",
   "execution_count": null,
   "metadata": {},
   "outputs": [],
   "source": [
    "data = pd.read_csv(\"eigg.csv\") \n",
    "data.head()"
   ]
  },
  {
   "cell_type": "code",
   "execution_count": null,
   "metadata": {
    "collapsed": true
   },
   "outputs": [],
   "source": [
    "# technically doesnt count the fact the earth isnt a sphere\n",
    "def seperationInMetres(p1,p2):\n",
    "    R = 6373.0\n",
    "    \n",
    "    lat1,lon1 = p1\n",
    "    lat2, lon2 = p2\n",
    "    \n",
    "    lat1 = radians(lat1)\n",
    "    lon1 = radians(lon1)\n",
    "    lat2 = radians(lat2)\n",
    "    lon2 = radians(lon2)\n",
    "\n",
    "    dlon = lon2 - lon1\n",
    "    dlat = lat2 - lat1\n",
    "\n",
    "    a = sin(dlat / 2)**2 + cos(lat1) * cos(lat2) * sin(dlon / 2)**2\n",
    "    c = 2 * atan2(sqrt(a), sqrt(1 - a))\n",
    "\n",
    "    distance = R * c\n",
    "\n",
    "    #convert to metres\n",
    "    return distance * 1000 \n",
    "\n",
    "def withinInspectableArea(centroid, p1, maxDistanceAway):\n",
    "    return seperationInMetres(p1,centroid) <= maxDistanceAway"
   ]
  },
  {
   "cell_type": "code",
   "execution_count": null,
   "metadata": {},
   "outputs": [],
   "source": [
    "centroid = (56.907887,-6.1960333) #Eigg central\n",
    "maxDistance = 10000 # Take everything\n",
    "\n",
    "df = data[['Recorder', 'Latitude (WGS84)', 'Longitude (WGS84)', 'Start date year']]\n",
    "\n",
    "df = df.dropna(subset=['Latitude (WGS84)'])\n",
    "df = df.dropna(subset=['Longitude (WGS84)'])\n",
    "df[\"Latitude (WGS84)\"] = df[\"Latitude (WGS84)\"].astype(np.float32)\n",
    "df[\"Longitude (WGS84)\"] = df[\"Longitude (WGS84)\"].astype(np.float32)\n",
    "\n",
    "df = df.dropna(subset=['Start date year'])\n",
    "\n",
    "df = df.dropna(subset=['Recorder'])\n",
    "df[\"Start date year\"] = df[\"Start date year\"].astype(np.int32)\n",
    "df = df[(df['Start date year'] > 2010.0)]\n",
    "\n",
    "df = df[df.apply(lambda x: withinInspectableArea(centroid,(x['Latitude (WGS84)'],x['Longitude (WGS84)']),maxDistance), axis=1)]\n",
    "print(len(df['Recorder'].unique()))"
   ]
  },
  {
   "cell_type": "code",
   "execution_count": null,
   "metadata": {},
   "outputs": [],
   "source": [
    "maxDist = 100 #anything within 100 metres observed is counted\n",
    "\n",
    "def retrieveRecorders(df):\n",
    "    return df['Recorder'].unique()\n",
    "\n",
    "def retrieveRecorderLocations(df):\n",
    "    recorders = retrieveRecorders(df)\n",
    "    locs = {}\n",
    "    for recorder in recorders:\n",
    "        entries = df[df['Recorder'] == recorder]\n",
    "        locations = zip(entries['Latitude (WGS84)'], entries['Longitude (WGS84)'])\n",
    "        locations = set(locations)\n",
    "        locs[recorder] = locations\n",
    "    \n",
    "    return locs\n",
    "\n",
    "def recorderCloseTo(recorder, recorderLocs):\n",
    "    currEntries = recorderLocs[recorder]\n",
    "    remainder = recorderLocs.keys()\n",
    "    ret = []\n",
    "    for k,an in enumerate(remainder):\n",
    "        if an != recorder:\n",
    "            targetEntries = list(recorderLocs[an])\n",
    "            breakYet = False\n",
    "            for entry1 in currEntries:\n",
    "                for entry2 in targetEntries:\n",
    "                    if seperationInMetres(entry1,entry2) <= maxDist:\n",
    "                        ret.append(k)\n",
    "                        breakYet = True\n",
    "                        break\n",
    "                if breakYet:\n",
    "                    break\n",
    "    return ret\n",
    "\n",
    "def buildGraph(df):    \n",
    "    recorders = retrieveRecorders(df)\n",
    "    \n",
    "    G = nx.Graph()\n",
    "    labels={}\n",
    "    for k,i in enumerate(recorders): labels[k] = i\n",
    "    \n",
    "    for k,i in enumerate(recorders): G.add_node(k)\n",
    "    recorderToLatLonMapping = retrieveRecorderLocations(df)\n",
    "    for k,a in enumerate(recorders):\n",
    "        closeTo = recorderCloseTo(a, recorderToLatLonMapping)\n",
    "        for c in closeTo:\n",
    "            G.add_edge(k,c)\n",
    "    return G, labels\n",
    "\n",
    "\n",
    "G, labels = buildGraph(df)\n",
    "pos=nx.spring_layout(G,k=1)\n",
    "nx.draw_networkx_labels(G,pos,labels,font_size=16)\n",
    "nx.draw(G, pos, node_size=500)"
   ]
  },
  {
   "cell_type": "code",
   "execution_count": null,
   "metadata": {},
   "outputs": [],
   "source": [
    "len(list(filter(lambda x: x[0] == 22, list(G.edges()))))"
   ]
  },
  {
   "cell_type": "code",
   "execution_count": null,
   "metadata": {},
   "outputs": [],
   "source": [
    "labels"
   ]
  },
  {
   "cell_type": "code",
   "execution_count": null,
   "metadata": {},
   "outputs": [],
   "source": [
    "file = nx.to_numpy_matrix(G)\n",
    "print(file.shape)\n",
    "print()\n",
    "print(file)\n",
    "np.savetxt(\"BasicSocialFile.txt\",file, \"%d\")   "
   ]
  },
  {
   "cell_type": "markdown",
   "metadata": {
    "collapsed": true
   },
   "source": [
    "# Known observers before and since buyout"
   ]
  },
  {
   "cell_type": "code",
   "execution_count": 50,
   "metadata": {},
   "outputs": [
    {
     "name": "stderr",
     "output_type": "stream",
     "text": [
      "C:\\Users\\davie\\Anaconda3\\lib\\site-packages\\IPython\\core\\interactiveshell.py:2802: DtypeWarning: Columns (9,22) have mixed types. Specify dtype option on import or set low_memory=False.\n",
      "  if self.run_code(code, result):\n"
     ]
    }
   ],
   "source": [
    "people = inferredNamesGraph()\n",
    "observers = eiggRawData()"
   ]
  },
  {
   "cell_type": "code",
   "execution_count": 51,
   "metadata": {},
   "outputs": [],
   "source": [
    "#Exact Match\n",
    "observers = observers.dropna(subset=['Recorder'])\n",
    "\n",
    "preBuyout = observers[(observers['Start date year'] <= 1997.0) & (observers['Start date year'] > 1987.0)]\n",
    "postBuyout = observers[(observers['Start date year'] > 1997.0) & (observers['Start date year'] <= 2007.0)]\n",
    "\n",
    "preBuyout = preBuyout.dropna(subset=['Recorder'])\n",
    "preBuyout = preBuyout[\"Recorder\"]\n",
    "preBuyout = list(preBuyout)\n",
    "preBuyout = list(map(lambda x: x.lower(), preBuyout))\n",
    "\n",
    "postBuyout = postBuyout.dropna(subset=['Recorder'])\n",
    "postBuyout = postBuyout[\"Recorder\"]\n",
    "postBuyout = list(postBuyout)\n",
    "postBuyout = list(map(lambda x: x.lower(), postBuyout))\n",
    "\n",
    "people = people.keys()\n",
    "people = list(map(lambda x: x.lower(), people))\n",
    "people = list(filter(lambda x: ' ' in x, people))"
   ]
  },
  {
   "cell_type": "code",
   "execution_count": 52,
   "metadata": {},
   "outputs": [
    {
     "data": {
      "text/plain": [
       "(10928, 3341)"
      ]
     },
     "execution_count": 52,
     "metadata": {},
     "output_type": "execute_result"
    }
   ],
   "source": [
    "len(postBuyout),len(preBuyout)"
   ]
  },
  {
   "cell_type": "code",
   "execution_count": 60,
   "metadata": {},
   "outputs": [],
   "source": [
    "def observationsByKnownPeople(people,observersList):\n",
    "    total = 0\n",
    "    for o in observersList:\n",
    "        for p in people:\n",
    "            if p in o:\n",
    "                total += 1\n",
    "                break\n",
    "    return (total / len(observersList))*100"
   ]
  },
  {
   "cell_type": "code",
   "execution_count": 61,
   "metadata": {},
   "outputs": [
    {
     "name": "stdout",
     "output_type": "stream",
     "text": [
      "0.0\n",
      "0.9791361639824305\n"
     ]
    }
   ],
   "source": [
    "print(observationsByKnownPeople(people,preBuyout))\n",
    "print(observationsByKnownPeople(people,postBuyout))"
   ]
  }
 ],
 "metadata": {
  "kernelspec": {
   "display_name": "Python 3",
   "language": "python",
   "name": "python3"
  },
  "language_info": {
   "codemirror_mode": {
    "name": "ipython",
    "version": 3
   },
   "file_extension": ".py",
   "mimetype": "text/x-python",
   "name": "python",
   "nbconvert_exporter": "python",
   "pygments_lexer": "ipython3",
   "version": "3.6.3"
  }
 },
 "nbformat": 4,
 "nbformat_minor": 2
}
