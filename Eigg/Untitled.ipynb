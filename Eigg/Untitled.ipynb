{
 "cells": [
  {
   "cell_type": "code",
   "execution_count": 1,
   "metadata": {},
   "outputs": [],
   "source": [
    "%matplotlib inline\n",
    "# notebook\n",
    "import matplotlib.pylab as pylab\n",
    "import matplotlib.pyplot as plt\n",
    "from collections import Counter\n",
    "import numpy as np\n",
    "import pandas as pd\n",
    "import networkx as nx\n",
    "from math import sin, cos, sqrt, atan2, radians\n",
    "from utils import *\n",
    "from data import *\n",
    "from trophics import *\n",
    "from collections import defaultdict\n",
    "#make the graphs bigger\n",
    "pylab.rcParams['figure.figsize'] = (32.0, 24.0)\n",
    "pylab.rcParams['font.size'] = 24"
   ]
  },
  {
   "cell_type": "code",
   "execution_count": 2,
   "metadata": {},
   "outputs": [
    {
     "name": "stderr",
     "output_type": "stream",
     "text": [
      "C:\\Users\\davie\\Anaconda3\\lib\\site-packages\\IPython\\core\\interactiveshell.py:2862: DtypeWarning: Columns (9,22) have mixed types. Specify dtype option on import or set low_memory=False.\n",
      "  exec(code_obj, self.user_global_ns, self.user_ns)\n"
     ]
    },
    {
     "data": {
      "text/html": [
       "<div>\n",
       "<style>\n",
       "    .dataframe thead tr:only-child th {\n",
       "        text-align: right;\n",
       "    }\n",
       "\n",
       "    .dataframe thead th {\n",
       "        text-align: left;\n",
       "    }\n",
       "\n",
       "    .dataframe tbody tr th {\n",
       "        vertical-align: top;\n",
       "    }\n",
       "</style>\n",
       "<table border=\"1\" class=\"dataframe\">\n",
       "  <thead>\n",
       "    <tr style=\"text-align: right;\">\n",
       "      <th></th>\n",
       "      <th>Recorder</th>\n",
       "      <th>Latitude (WGS84)</th>\n",
       "      <th>Longitude (WGS84)</th>\n",
       "      <th>Start date year</th>\n",
       "      <th>End date year</th>\n",
       "      <th>Scientific name</th>\n",
       "      <th>Common name</th>\n",
       "    </tr>\n",
       "  </thead>\n",
       "  <tbody>\n",
       "    <tr>\n",
       "      <th>0</th>\n",
       "      <td>unknown</td>\n",
       "      <td>56.902729</td>\n",
       "      <td>-6.15936</td>\n",
       "      <td>1905.0</td>\n",
       "      <td>NaN</td>\n",
       "      <td>meloe violaceus</td>\n",
       "      <td>Violet Oil-beetle</td>\n",
       "    </tr>\n",
       "    <tr>\n",
       "      <th>1</th>\n",
       "      <td>Frank Balfour-Browne</td>\n",
       "      <td>56.899200</td>\n",
       "      <td>-6.19759</td>\n",
       "      <td>1910.0</td>\n",
       "      <td>1910.0</td>\n",
       "      <td>rhantus suturellus</td>\n",
       "      <td>NaN</td>\n",
       "    </tr>\n",
       "    <tr>\n",
       "      <th>2</th>\n",
       "      <td>Frank Balfour-Browne</td>\n",
       "      <td>56.899200</td>\n",
       "      <td>-6.19759</td>\n",
       "      <td>1910.0</td>\n",
       "      <td>1910.0</td>\n",
       "      <td>gyrinus substriatus</td>\n",
       "      <td>NaN</td>\n",
       "    </tr>\n",
       "    <tr>\n",
       "      <th>3</th>\n",
       "      <td>Frank Balfour-Browne</td>\n",
       "      <td>56.899200</td>\n",
       "      <td>-6.19759</td>\n",
       "      <td>1910.0</td>\n",
       "      <td>1910.0</td>\n",
       "      <td>enochrus fuscipennis</td>\n",
       "      <td>NaN</td>\n",
       "    </tr>\n",
       "    <tr>\n",
       "      <th>4</th>\n",
       "      <td>Frank Balfour-Browne</td>\n",
       "      <td>56.899200</td>\n",
       "      <td>-6.19759</td>\n",
       "      <td>1910.0</td>\n",
       "      <td>1910.0</td>\n",
       "      <td>boreonectes multilineatus</td>\n",
       "      <td>NaN</td>\n",
       "    </tr>\n",
       "  </tbody>\n",
       "</table>\n",
       "</div>"
      ],
      "text/plain": [
       "               Recorder  Latitude (WGS84)  Longitude (WGS84)  Start date year  \\\n",
       "0               unknown         56.902729           -6.15936           1905.0   \n",
       "1  Frank Balfour-Browne         56.899200           -6.19759           1910.0   \n",
       "2  Frank Balfour-Browne         56.899200           -6.19759           1910.0   \n",
       "3  Frank Balfour-Browne         56.899200           -6.19759           1910.0   \n",
       "4  Frank Balfour-Browne         56.899200           -6.19759           1910.0   \n",
       "\n",
       "   End date year            Scientific name        Common name  \n",
       "0            NaN            meloe violaceus  Violet Oil-beetle  \n",
       "1         1910.0         rhantus suturellus                NaN  \n",
       "2         1910.0        gyrinus substriatus                NaN  \n",
       "3         1910.0       enochrus fuscipennis                NaN  \n",
       "4         1910.0  boreonectes multilineatus                NaN  "
      ]
     },
     "execution_count": 2,
     "metadata": {},
     "output_type": "execute_result"
    }
   ],
   "source": [
    "rawEiggData = validatedEiggData()\n",
    "rawEiggData.head()"
   ]
  },
  {
   "cell_type": "code",
   "execution_count": 3,
   "metadata": {},
   "outputs": [
    {
     "name": "stderr",
     "output_type": "stream",
     "text": [
      "C:\\Users\\davie\\Anaconda3\\lib\\site-packages\\ipykernel_launcher.py:1: DtypeWarning: Columns (2,8,12,13,22,26,27,41,44) have mixed types. Specify dtype option on import or set low_memory=False.\n",
      "  \"\"\"Entry point for launching an IPython kernel.\n",
      "C:\\Users\\davie\\Desktop\\Masters\\Dissertation\\Code\\DissertationCode\\Eigg\\trophics.py:9: DtypeWarning: Columns (9,22) have mixed types. Specify dtype option on import or set low_memory=False.\n",
      "  dataSetFunctions = [readFreshwaterData(), read2018GlobalDatabaseData(), readSantaBarbaraMatrix(), readSorensenData(), readJanesData()]\n"
     ]
    },
    {
     "name": "stdout",
     "output_type": "stream",
     "text": [
      "1886\n"
     ]
    },
    {
     "data": {
      "text/plain": [
       "4381"
      ]
     },
     "execution_count": 3,
     "metadata": {},
     "output_type": "execute_result"
    }
   ],
   "source": [
    "foodWeb = retrieveCollatedFoodWeb()\n",
    "len(foodWeb)"
   ]
  },
  {
   "cell_type": "code",
   "execution_count": 24,
   "metadata": {},
   "outputs": [
    {
     "name": "stdout",
     "output_type": "stream",
     "text": [
      "5588\n"
     ]
    }
   ],
   "source": [
    "overall = set()\n",
    "\n",
    "for item in foodWeb:\n",
    "    item = item.split(\" \")\n",
    "    item = \" \".join(item[:2])\n",
    "    overall.add(item)\n",
    "\n",
    "for fw in foodWeb:\n",
    "    v = foodWeb[fw]\n",
    "    for item in v:\n",
    "        item = item.split(\" \")\n",
    "        item = \" \".join(item[:2])\n",
    "        overall.add(item)\n",
    "\n",
    "print(len(overall))"
   ]
  },
  {
   "cell_type": "code",
   "execution_count": 25,
   "metadata": {},
   "outputs": [
    {
     "name": "stdout",
     "output_type": "stream",
     "text": [
      "0.09180432020330369\n"
     ]
    }
   ],
   "source": [
    "eiggSpecies = rawEiggData['Scientific name'].str.lower()\n",
    "eiggSpecies = set(eiggSpecies)\n",
    "\n",
    "animalsTotal = len(eiggSpecies)\n",
    "totalFound = 0\n",
    "for item in eiggSpecies:\n",
    "    if item in overall:\n",
    "        totalFound += 1\n",
    "    \n",
    "\n",
    "print(totalFound / animalsTotal)"
   ]
  }
 ],
 "metadata": {
  "kernelspec": {
   "display_name": "Python 3",
   "language": "python",
   "name": "python3"
  },
  "language_info": {
   "codemirror_mode": {
    "name": "ipython",
    "version": 3
   },
   "file_extension": ".py",
   "mimetype": "text/x-python",
   "name": "python",
   "nbconvert_exporter": "python",
   "pygments_lexer": "ipython3",
   "version": "3.6.3"
  }
 },
 "nbformat": 4,
 "nbformat_minor": 2
}
