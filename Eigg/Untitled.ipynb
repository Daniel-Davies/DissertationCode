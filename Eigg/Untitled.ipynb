{
 "cells": [
  {
   "cell_type": "code",
   "execution_count": 66,
   "metadata": {
    "collapsed": true
   },
   "outputs": [],
   "source": [
    "%matplotlib inline\n",
    "# notebook\n",
    "import matplotlib.pylab as pylab\n",
    "import matplotlib.pyplot as plt\n",
    "from collections import Counter\n",
    "import numpy as np\n",
    "import pandas as pd\n",
    "import networkx as nx\n",
    "from math import sin, cos, sqrt, atan2, radians\n",
    "from utils import *\n",
    "from data import *\n",
    "from trophics import *\n",
    "from collections import defaultdict\n",
    "#make the graphs bigger\n",
    "pylab.rcParams['figure.figsize'] = (32.0, 24.0)\n",
    "pylab.rcParams['font.size'] = 24"
   ]
  },
  {
   "cell_type": "code",
   "execution_count": 67,
   "metadata": {},
   "outputs": [
    {
     "name": "stderr",
     "output_type": "stream",
     "text": [
      "C:\\Users\\davie\\Anaconda3\\lib\\site-packages\\IPython\\core\\interactiveshell.py:2862: DtypeWarning: Columns (9,22) have mixed types. Specify dtype option on import or set low_memory=False.\n",
      "  exec(code_obj, self.user_global_ns, self.user_ns)\n"
     ]
    },
    {
     "data": {
      "text/plain": [
       "2982"
      ]
     },
     "execution_count": 67,
     "metadata": {},
     "output_type": "execute_result"
    }
   ],
   "source": [
    "eiggSet = validatedEiggData()\n",
    "eiggCommon = eiggSet['Common name']\n",
    "eiggCommon = set(eiggCommon)\n",
    "\n",
    "eiggSet = eiggSet['Scientific name']\n",
    "eiggSet = set(eiggSet)\n",
    "\n",
    "len(eiggSet)"
   ]
  },
  {
   "cell_type": "code",
   "execution_count": 40,
   "metadata": {
    "collapsed": true
   },
   "outputs": [],
   "source": [
    "def defineNewRowHeadersJaneData(df):\n",
    "    firstNameRow = df.iloc[0].values.tolist()\n",
    "    secondNameRow = df.iloc[1].values.tolist()\n",
    "    combinesToTuples = list(zip(firstNameRow,secondNameRow))\n",
    "    combinesToTuples = list(filter(lambda x: (type(x[0]) is str) and (type(x[1]) is str), combinesToTuples ))\n",
    "    combinedToSingleNameRow = list(map(lambda x: (x[0].lower()+\" \"+x[1].lower()).strip(), combinesToTuples))\n",
    "\n",
    "    return combinedToSingleNameRow\n",
    "\n",
    "def defineNewColHeadersJaneData(df):\n",
    "    namedCols = list(zip(df.iloc[:,0].values.tolist(),df.iloc[:,1].values.tolist()))\n",
    "    namedCols = namedCols[4:]\n",
    "    namedCols = list(map(lambda x: (x[0],'') if type(x[1]) is not str else x, namedCols))\n",
    "    combinedToSingleNameCol = list(map(lambda x: (x[0].lower()+\" \"+x[1].lower()).strip(), namedCols))\n",
    "\n",
    "    return combinedToSingleNameCol"
   ]
  },
  {
   "cell_type": "code",
   "execution_count": 75,
   "metadata": {},
   "outputs": [
    {
     "data": {
      "text/plain": [
       "263"
      ]
     },
     "execution_count": 75,
     "metadata": {},
     "output_type": "execute_result"
    }
   ],
   "source": [
    "df = pd.read_csv('./RelevantDatasets/InsightPending/plantPollinator.csv')\n",
    "dfPollinators = df['POLLINATOR_NAME']\n",
    "dfPlants = df['PLANT_NAME']\n",
    "\n",
    "pollinators = list(set(dfPollinators.values.tolist()))\n",
    "pollinators = list(map(lambda x: cleanEcologicalName(x),pollinators))\n",
    "\n",
    "plants = list(set(dfPlants.values.tolist()))\n",
    "plants = list(map(lambda x: cleanEcologicalName(x),plants))\n",
    "\n",
    "totals = set()\n",
    "\n",
    "for item in plants:\n",
    "    if item in eiggSet or item in eiggCommon:\n",
    "        totals.add(item)\n",
    "        \n",
    "for item in pollinators:\n",
    "    if item in eiggSet or item in eiggCommon:\n",
    "        totals.add(item)\n",
    "\n",
    "len(totals)"
   ]
  },
  {
   "cell_type": "code",
   "execution_count": 65,
   "metadata": {
    "collapsed": true
   },
   "outputs": [],
   "source": [
    "df = pd.read_csv('./RelevantDatasets/InsightPending/floridaNames')\n",
    "df = df['name']\n",
    "df = list(map(lambda x: cleanEcologicalName(x),df))\n",
    "df = list(set(df))\n",
    "for item in df:\n",
    "    if item in eiggSet or item in eiggCommon:\n",
    "        print(item)"
   ]
  },
  {
   "cell_type": "code",
   "execution_count": 63,
   "metadata": {
    "collapsed": true
   },
   "outputs": [],
   "source": [
    "df = pd.read_csv('./RelevantDatasets/InsightPending/Otago/Otago_Data_Nodes.csv')\n",
    "df = df['WorkingName'].values.tolist()\n",
    "df = set(df)\n",
    "df = list(map(lambda x: cleanEcologicalName(x),df))\n",
    "for item in df:\n",
    "    if item in eiggSet or item in eiggCommon:\n",
    "        print(item)"
   ]
  },
  {
   "cell_type": "code",
   "execution_count": 50,
   "metadata": {},
   "outputs": [
    {
     "data": {
      "text/plain": [
       "['plant_ge plant_sp',\n",
       " 'claytonia virginica',\n",
       " 'dentaria laciniata',\n",
       " 'dicentra canadensis',\n",
       " 'dicentra cucullaria',\n",
       " 'erythronium albidum',\n",
       " 'isopyrum biternatum',\n",
       " 'sanguinaria canadensis']"
      ]
     },
     "execution_count": 50,
     "metadata": {},
     "output_type": "execute_result"
    }
   ],
   "source": [
    "df = pd.read_excel('./RelevantDatasets/InsightPending/Otago/plantPollinatorUSA.xls',header=None)\n",
    "cols = defineNewRowHeadersJaneData(df)\n",
    "cols = list(map(lambda x: cleanEcologicalName(x), cols))\n",
    "cols"
   ]
  },
  {
   "cell_type": "code",
   "execution_count": 51,
   "metadata": {},
   "outputs": [
    {
     "data": {
      "text/plain": [
       "['andrena cressoni',\n",
       " 'andrena irgeniae',\n",
       " 'andrena erythronii',\n",
       " 'andrena forbesii',\n",
       " 'andrena mansonii',\n",
       " 'andrena miserabilis',\n",
       " 'andrena personata',\n",
       " 'andrena rugosa',\n",
       " 'andrena',\n",
       " 'ceratina metallica',\n",
       " 'nomada luteola',\n",
       " 'bombus greseocollis',\n",
       " 'augochlora pura',\n",
       " 'augochlorella striata',\n",
       " 'dialictus coeruleus',\n",
       " 'dialictus oblongus',\n",
       " 'dialictus obscurus',\n",
       " 'dialictus imitatus',\n",
       " 'dialictus zephyrus',\n",
       " 'erylaeus macroupinensis',\n",
       " 'halictus confusus',\n",
       " 'lasioglossum forbesii',\n",
       " 'carposcalis obscura',\n",
       " 'eristalis dimidiatus',\n",
       " 'helophilus fasciatus',\n",
       " 'melanostoma',\n",
       " 'mesograpta marginata',\n",
       " 'metasyrphus americanus',\n",
       " 'surphus torvus',\n",
       " 'syrphus',\n",
       " 'xylota nemorum']"
      ]
     },
     "execution_count": 51,
     "metadata": {},
     "output_type": "execute_result"
    }
   ],
   "source": [
    "rows = defineNewColHeadersJaneData(df)\n",
    "rows = list(map(lambda x: cleanEcologicalName(x), rows))\n",
    "(rows)"
   ]
  },
  {
   "cell_type": "code",
   "execution_count": 52,
   "metadata": {
    "collapsed": true
   },
   "outputs": [],
   "source": [
    "for item in cols:\n",
    "    if item in eiggSet:\n",
    "        print(item)"
   ]
  },
  {
   "cell_type": "code",
   "execution_count": 53,
   "metadata": {
    "collapsed": true
   },
   "outputs": [],
   "source": [
    "for item in rows:\n",
    "    if item in eiggSet:\n",
    "        print(item)"
   ]
  }
 ],
 "metadata": {
  "kernelspec": {
   "display_name": "Python 3",
   "language": "python",
   "name": "python3"
  },
  "language_info": {
   "codemirror_mode": {
    "name": "ipython",
    "version": 3
   },
   "file_extension": ".py",
   "mimetype": "text/x-python",
   "name": "python",
   "nbconvert_exporter": "python",
   "pygments_lexer": "ipython3",
   "version": "3.6.3"
  }
 },
 "nbformat": 4,
 "nbformat_minor": 2
}
