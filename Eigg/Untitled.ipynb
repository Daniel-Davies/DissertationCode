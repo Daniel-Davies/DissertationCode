{
 "cells": [
  {
   "cell_type": "code",
   "execution_count": 1,
   "metadata": {
    "collapsed": true
   },
   "outputs": [],
   "source": [
    "%matplotlib inline\n",
    "# notebook\n",
    "import matplotlib.pylab as pylab\n",
    "import matplotlib.pyplot as plt\n",
    "from collections import Counter\n",
    "import numpy as np\n",
    "import pandas as pd\n",
    "import networkx as nx\n",
    "from math import sin, cos, sqrt, atan2, radians\n",
    "from utils import *\n",
    "from data import *\n",
    "from trophics import *\n",
    "from collections import defaultdict\n",
    "#make the graphs bigger\n",
    "pylab.rcParams['figure.figsize'] = (32.0, 24.0)\n",
    "pylab.rcParams['font.size'] = 24"
   ]
  },
  {
   "cell_type": "code",
   "execution_count": 21,
   "metadata": {},
   "outputs": [
    {
     "name": "stderr",
     "output_type": "stream",
     "text": [
      "C:\\Users\\davie\\Anaconda3\\lib\\site-packages\\IPython\\core\\interactiveshell.py:2862: DtypeWarning: Columns (9,22) have mixed types. Specify dtype option on import or set low_memory=False.\n",
      "  exec(code_obj, self.user_global_ns, self.user_ns)\n"
     ]
    },
    {
     "data": {
      "text/html": [
       "<div>\n",
       "<style>\n",
       "    .dataframe thead tr:only-child th {\n",
       "        text-align: right;\n",
       "    }\n",
       "\n",
       "    .dataframe thead th {\n",
       "        text-align: left;\n",
       "    }\n",
       "\n",
       "    .dataframe tbody tr th {\n",
       "        vertical-align: top;\n",
       "    }\n",
       "</style>\n",
       "<table border=\"1\" class=\"dataframe\">\n",
       "  <thead>\n",
       "    <tr style=\"text-align: right;\">\n",
       "      <th></th>\n",
       "      <th>Recorder</th>\n",
       "      <th>Latitude (WGS84)</th>\n",
       "      <th>Longitude (WGS84)</th>\n",
       "      <th>End date year</th>\n",
       "      <th>Scientific name</th>\n",
       "      <th>Common name</th>\n",
       "    </tr>\n",
       "  </thead>\n",
       "  <tbody>\n",
       "    <tr>\n",
       "      <th>1</th>\n",
       "      <td>Frank Balfour-Browne</td>\n",
       "      <td>56.8992</td>\n",
       "      <td>-6.19759</td>\n",
       "      <td>1910</td>\n",
       "      <td>Rhantus suturellus</td>\n",
       "      <td>NaN</td>\n",
       "    </tr>\n",
       "    <tr>\n",
       "      <th>2</th>\n",
       "      <td>Frank Balfour-Browne</td>\n",
       "      <td>56.8992</td>\n",
       "      <td>-6.19759</td>\n",
       "      <td>1910</td>\n",
       "      <td>Gyrinus substriatus</td>\n",
       "      <td>NaN</td>\n",
       "    </tr>\n",
       "    <tr>\n",
       "      <th>3</th>\n",
       "      <td>Frank Balfour-Browne</td>\n",
       "      <td>56.8992</td>\n",
       "      <td>-6.19759</td>\n",
       "      <td>1910</td>\n",
       "      <td>Enochrus fuscipennis</td>\n",
       "      <td>NaN</td>\n",
       "    </tr>\n",
       "    <tr>\n",
       "      <th>4</th>\n",
       "      <td>Frank Balfour-Browne</td>\n",
       "      <td>56.8992</td>\n",
       "      <td>-6.19759</td>\n",
       "      <td>1910</td>\n",
       "      <td>Boreonectes multilineatus</td>\n",
       "      <td>NaN</td>\n",
       "    </tr>\n",
       "    <tr>\n",
       "      <th>5</th>\n",
       "      <td>Frank Balfour-Browne</td>\n",
       "      <td>56.8992</td>\n",
       "      <td>-6.19759</td>\n",
       "      <td>1910</td>\n",
       "      <td>Nebrioporus assimilis</td>\n",
       "      <td>NaN</td>\n",
       "    </tr>\n",
       "  </tbody>\n",
       "</table>\n",
       "</div>"
      ],
      "text/plain": [
       "               Recorder  Latitude (WGS84)  Longitude (WGS84)  End date year  \\\n",
       "1  Frank Balfour-Browne           56.8992           -6.19759           1910   \n",
       "2  Frank Balfour-Browne           56.8992           -6.19759           1910   \n",
       "3  Frank Balfour-Browne           56.8992           -6.19759           1910   \n",
       "4  Frank Balfour-Browne           56.8992           -6.19759           1910   \n",
       "5  Frank Balfour-Browne           56.8992           -6.19759           1910   \n",
       "\n",
       "             Scientific name Common name  \n",
       "1         Rhantus suturellus         NaN  \n",
       "2        Gyrinus substriatus         NaN  \n",
       "3       Enochrus fuscipennis         NaN  \n",
       "4  Boreonectes multilineatus         NaN  \n",
       "5      Nebrioporus assimilis         NaN  "
      ]
     },
     "execution_count": 21,
     "metadata": {},
     "output_type": "execute_result"
    }
   ],
   "source": [
    "rawEiggData = eiggRawData()\n",
    "rawEiggData = rawEiggData[(rawEiggData['End date year'] >= 1800.0)]\n",
    "rawEiggData.head()"
   ]
  },
  {
   "cell_type": "code",
   "execution_count": 3,
   "metadata": {},
   "outputs": [
    {
     "name": "stderr",
     "output_type": "stream",
     "text": [
      "C:\\Users\\davie\\Desktop\\Masters\\Dissertation\\Code\\DissertationCode\\Eigg\\trophics.py:9: DtypeWarning: Columns (2,8,12,13,22,26,27,41,44) have mixed types. Specify dtype option on import or set low_memory=False.\n",
      "  results = list(map(lambda x: x(), dataSetFunctions))\n"
     ]
    },
    {
     "data": {
      "text/plain": [
       "4263"
      ]
     },
     "execution_count": 3,
     "metadata": {},
     "output_type": "execute_result"
    }
   ],
   "source": [
    "foodWeb = retrieveCollatedFoodWeb()\n",
    "len(foodWeb)"
   ]
  },
  {
   "cell_type": "code",
   "execution_count": 24,
   "metadata": {},
   "outputs": [
    {
     "name": "stdout",
     "output_type": "stream",
     "text": [
      "0.07804878048780488\n"
     ]
    }
   ],
   "source": [
    "eiggSpecies = rawEiggData['Scientific name'].str.lower()\n",
    "eiggSpecies = set(eiggSpecies)\n",
    "\n",
    "animalsTotal = len(eiggSpecies)\n",
    "totalFound = 0\n",
    "for item in eiggSpecies:\n",
    "    if item in foodWeb:\n",
    "        totalFound += 1 \n",
    "\n",
    "print(totalFound / animalsTotal)"
   ]
  }
 ],
 "metadata": {
  "kernelspec": {
   "display_name": "Python 3",
   "language": "python",
   "name": "python3"
  },
  "language_info": {
   "codemirror_mode": {
    "name": "ipython",
    "version": 3
   },
   "file_extension": ".py",
   "mimetype": "text/x-python",
   "name": "python",
   "nbconvert_exporter": "python",
   "pygments_lexer": "ipython3",
   "version": "3.6.3"
  }
 },
 "nbformat": 4,
 "nbformat_minor": 2
}
