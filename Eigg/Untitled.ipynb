{
 "cells": [
  {
   "cell_type": "code",
   "execution_count": 1,
   "metadata": {},
   "outputs": [],
   "source": [
    "%matplotlib inline\n",
    "# notebook\n",
    "import matplotlib.pylab as pylab\n",
    "import matplotlib.pyplot as plt\n",
    "from collections import Counter\n",
    "import numpy as np\n",
    "import pandas as pd\n",
    "import networkx as nx\n",
    "from math import sin, cos, sqrt, atan2, radians\n",
    "from utils import *\n",
    "from data import *\n",
    "from trophics import *\n",
    "from collections import defaultdict\n",
    "#make the graphs bigger\n",
    "pylab.rcParams['figure.figsize'] = (32.0, 24.0)\n",
    "pylab.rcParams['font.size'] = 24"
   ]
  },
  {
   "cell_type": "code",
   "execution_count": 2,
   "metadata": {},
   "outputs": [
    {
     "name": "stderr",
     "output_type": "stream",
     "text": [
      "C:\\Users\\davie\\Anaconda3\\lib\\site-packages\\IPython\\core\\interactiveshell.py:2862: DtypeWarning: Columns (9,22) have mixed types. Specify dtype option on import or set low_memory=False.\n",
      "  exec(code_obj, self.user_global_ns, self.user_ns)\n"
     ]
    },
    {
     "data": {
      "text/html": [
       "<div>\n",
       "<style>\n",
       "    .dataframe thead tr:only-child th {\n",
       "        text-align: right;\n",
       "    }\n",
       "\n",
       "    .dataframe thead th {\n",
       "        text-align: left;\n",
       "    }\n",
       "\n",
       "    .dataframe tbody tr th {\n",
       "        vertical-align: top;\n",
       "    }\n",
       "</style>\n",
       "<table border=\"1\" class=\"dataframe\">\n",
       "  <thead>\n",
       "    <tr style=\"text-align: right;\">\n",
       "      <th></th>\n",
       "      <th>Recorder</th>\n",
       "      <th>Latitude (WGS84)</th>\n",
       "      <th>Longitude (WGS84)</th>\n",
       "      <th>Start date year</th>\n",
       "      <th>End date year</th>\n",
       "      <th>Scientific name</th>\n",
       "      <th>Common name</th>\n",
       "    </tr>\n",
       "  </thead>\n",
       "  <tbody>\n",
       "    <tr>\n",
       "      <th>205</th>\n",
       "      <td>NaN</td>\n",
       "      <td>56.888222</td>\n",
       "      <td>-6.12242</td>\n",
       "      <td>1961.0</td>\n",
       "      <td>1961.0</td>\n",
       "      <td>zygaena purpuralis</td>\n",
       "      <td>Transparent Burnet</td>\n",
       "    </tr>\n",
       "    <tr>\n",
       "      <th>206</th>\n",
       "      <td>NaN</td>\n",
       "      <td>56.918758</td>\n",
       "      <td>-6.15046</td>\n",
       "      <td>1963.0</td>\n",
       "      <td>1963.0</td>\n",
       "      <td>ixodes (ixodes) ricinus</td>\n",
       "      <td>Castor Bean Tick</td>\n",
       "    </tr>\n",
       "    <tr>\n",
       "      <th>207</th>\n",
       "      <td>NaN</td>\n",
       "      <td>56.918758</td>\n",
       "      <td>-6.15046</td>\n",
       "      <td>1963.0</td>\n",
       "      <td>1963.0</td>\n",
       "      <td>ixodes (ixodes) ricinus</td>\n",
       "      <td>Castor Bean Tick</td>\n",
       "    </tr>\n",
       "    <tr>\n",
       "      <th>208</th>\n",
       "      <td>NaN</td>\n",
       "      <td>56.918758</td>\n",
       "      <td>-6.15046</td>\n",
       "      <td>1963.0</td>\n",
       "      <td>1963.0</td>\n",
       "      <td>ixodes (ixodes) ricinus</td>\n",
       "      <td>Castor Bean Tick</td>\n",
       "    </tr>\n",
       "    <tr>\n",
       "      <th>209</th>\n",
       "      <td>EG Moyes</td>\n",
       "      <td>56.918758</td>\n",
       "      <td>-6.15046</td>\n",
       "      <td>1965.0</td>\n",
       "      <td>NaN</td>\n",
       "      <td>hieracium cyclicum</td>\n",
       "      <td>NaN</td>\n",
       "    </tr>\n",
       "  </tbody>\n",
       "</table>\n",
       "</div>"
      ],
      "text/plain": [
       "     Recorder  Latitude (WGS84)  Longitude (WGS84)  Start date year  \\\n",
       "205       NaN         56.888222           -6.12242           1961.0   \n",
       "206       NaN         56.918758           -6.15046           1963.0   \n",
       "207       NaN         56.918758           -6.15046           1963.0   \n",
       "208       NaN         56.918758           -6.15046           1963.0   \n",
       "209  EG Moyes         56.918758           -6.15046           1965.0   \n",
       "\n",
       "     End date year          Scientific name         Common name  \n",
       "205         1961.0       zygaena purpuralis  Transparent Burnet  \n",
       "206         1963.0  ixodes (ixodes) ricinus    Castor Bean Tick  \n",
       "207         1963.0  ixodes (ixodes) ricinus    Castor Bean Tick  \n",
       "208         1963.0  ixodes (ixodes) ricinus    Castor Bean Tick  \n",
       "209            NaN       hieracium cyclicum                 NaN  "
      ]
     },
     "execution_count": 2,
     "metadata": {},
     "output_type": "execute_result"
    }
   ],
   "source": [
    "rawEiggData = validatedEiggData()\n",
    "rawEiggData = rawEiggData[rawEiggData[\"Start date year\"] > 1960]\n",
    "rawEiggData.head()"
   ]
  },
  {
   "cell_type": "code",
   "execution_count": 3,
   "metadata": {},
   "outputs": [
    {
     "name": "stderr",
     "output_type": "stream",
     "text": [
      "C:\\Users\\davie\\Anaconda3\\lib\\site-packages\\ipykernel_launcher.py:1: DtypeWarning: Columns (2,8,12,13,22,26,27,41,44) have mixed types. Specify dtype option on import or set low_memory=False.\n",
      "  \"\"\"Entry point for launching an IPython kernel.\n",
      "C:\\Users\\davie\\Desktop\\Masters\\Dissertation\\Code\\DissertationCode\\Eigg\\trophics.py:21: DtypeWarning: Columns (9,22) have mixed types. Specify dtype option on import or set low_memory=False.\n",
      "  coreDataSets = [read2018GlobalDatabaseData(), readSorensenData(), readJanesData(), prnFileReader()]\n"
     ]
    },
    {
     "data": {
      "text/plain": [
       "5032"
      ]
     },
     "execution_count": 3,
     "metadata": {},
     "output_type": "execute_result"
    }
   ],
   "source": [
    "foodWeb = retrieveCollatedFoodWeb()\n",
    "len(foodWeb)"
   ]
  },
  {
   "cell_type": "code",
   "execution_count": 4,
   "metadata": {},
   "outputs": [
    {
     "name": "stdout",
     "output_type": "stream",
     "text": [
      "6463\n"
     ]
    }
   ],
   "source": [
    "overall = set()\n",
    "\n",
    "for item in foodWeb:\n",
    "    item = item.split(\" \")\n",
    "    item = \" \".join(item[:2])\n",
    "    overall.add(item)\n",
    "\n",
    "for fw in foodWeb:\n",
    "    v = foodWeb[fw]\n",
    "    for item in v:\n",
    "        item = item.split(\" \")\n",
    "        item = \" \".join(item[:2])\n",
    "        overall.add(item)\n",
    "\n",
    "print(len(overall))"
   ]
  },
  {
   "cell_type": "code",
   "execution_count": 5,
   "metadata": {},
   "outputs": [
    {
     "name": "stdout",
     "output_type": "stream",
     "text": [
      "0.09964028776978417\n"
     ]
    }
   ],
   "source": [
    "eiggSpecies = rawEiggData['Scientific name'].str.lower()\n",
    "eiggSpecies = set(eiggSpecies)\n",
    "\n",
    "iset = set()\n",
    "animalsTotal = len(eiggSpecies)\n",
    "totalFound = 0\n",
    "for item in eiggSpecies:\n",
    "    if item in overall:\n",
    "        iset.add(item)\n",
    "        totalFound += 1\n",
    "\n",
    "print(totalFound / animalsTotal)"
   ]
  }
 ],
 "metadata": {
  "kernelspec": {
   "display_name": "Python 3",
   "language": "python",
   "name": "python3"
  },
  "language_info": {
   "codemirror_mode": {
    "name": "ipython",
    "version": 3
   },
   "file_extension": ".py",
   "mimetype": "text/x-python",
   "name": "python",
   "nbconvert_exporter": "python",
   "pygments_lexer": "ipython3",
   "version": "3.6.3"
  }
 },
 "nbformat": 4,
 "nbformat_minor": 2
}
