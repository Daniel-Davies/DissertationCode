{
 "cells": [
  {
   "cell_type": "code",
   "execution_count": 1,
   "metadata": {},
   "outputs": [],
   "source": [
    "%matplotlib inline\n",
    "# notebook\n",
    "import matplotlib.pylab as pylab\n",
    "import matplotlib.pyplot as plt\n",
    "from collections import Counter\n",
    "import numpy as np\n",
    "import pandas as pd\n",
    "import networkx as nx\n",
    "from math import sin, cos, sqrt, atan2, radians\n",
    "from utils import *\n",
    "from data import *\n",
    "from trophics import *\n",
    "from collections import defaultdict\n",
    "#make the graphs bigger\n",
    "pylab.rcParams['figure.figsize'] = (32.0, 24.0)\n",
    "pylab.rcParams['font.size'] = 24"
   ]
  },
  {
   "cell_type": "code",
   "execution_count": 38,
   "metadata": {},
   "outputs": [
    {
     "name": "stderr",
     "output_type": "stream",
     "text": [
      "C:\\Users\\davie\\Anaconda3\\lib\\site-packages\\IPython\\core\\interactiveshell.py:2862: DtypeWarning: Columns (9,22) have mixed types. Specify dtype option on import or set low_memory=False.\n",
      "  exec(code_obj, self.user_global_ns, self.user_ns)\n"
     ]
    },
    {
     "data": {
      "text/plain": [
       "3177"
      ]
     },
     "execution_count": 38,
     "metadata": {},
     "output_type": "execute_result"
    }
   ],
   "source": [
    "eiggRawData = eiggRawData()\n",
    "eiggRawData = eiggRawData[\"Scientific name\"].str.lower()\n",
    "eiggRawData = set(eiggRawData)\n",
    "len(eiggRawData)"
   ]
  },
  {
   "cell_type": "code",
   "execution_count": 92,
   "metadata": {},
   "outputs": [
    {
     "data": {
      "text/html": [
       "<div>\n",
       "<style>\n",
       "    .dataframe thead tr:only-child th {\n",
       "        text-align: right;\n",
       "    }\n",
       "\n",
       "    .dataframe thead th {\n",
       "        text-align: left;\n",
       "    }\n",
       "\n",
       "    .dataframe tbody tr th {\n",
       "        vertical-align: top;\n",
       "    }\n",
       "</style>\n",
       "<table border=\"1\" class=\"dataframe\">\n",
       "  <thead>\n",
       "    <tr style=\"text-align: right;\">\n",
       "      <th></th>\n",
       "      <th>prawns and</th>\n",
       "      <th>benthos(micro, meio</th>\n",
       "      <th>zooplankton herbivores</th>\n",
       "      <th>fish herbivores</th>\n",
       "      <th>other carnivores</th>\n",
       "      <th>fish carnivores</th>\n",
       "      <th>man</th>\n",
       "    </tr>\n",
       "  </thead>\n",
       "  <tbody>\n",
       "    <tr>\n",
       "      <th>basic food</th>\n",
       "      <td>1</td>\n",
       "      <td>1</td>\n",
       "      <td>1</td>\n",
       "      <td>1</td>\n",
       "      <td>0</td>\n",
       "      <td>0</td>\n",
       "      <td>0</td>\n",
       "    </tr>\n",
       "    <tr>\n",
       "      <th>detritus</th>\n",
       "      <td>1</td>\n",
       "      <td>1</td>\n",
       "      <td>1</td>\n",
       "      <td>1</td>\n",
       "      <td>0</td>\n",
       "      <td>0</td>\n",
       "      <td>0</td>\n",
       "    </tr>\n",
       "    <tr>\n",
       "      <th>prawns and</th>\n",
       "      <td>0</td>\n",
       "      <td>0</td>\n",
       "      <td>0</td>\n",
       "      <td>0</td>\n",
       "      <td>1</td>\n",
       "      <td>1</td>\n",
       "      <td>1</td>\n",
       "    </tr>\n",
       "    <tr>\n",
       "      <th>benthos(micro, meio</th>\n",
       "      <td>0</td>\n",
       "      <td>0</td>\n",
       "      <td>0</td>\n",
       "      <td>0</td>\n",
       "      <td>1</td>\n",
       "      <td>0</td>\n",
       "      <td>0</td>\n",
       "    </tr>\n",
       "    <tr>\n",
       "      <th>zooplankton herbivores</th>\n",
       "      <td>0</td>\n",
       "      <td>0</td>\n",
       "      <td>0</td>\n",
       "      <td>0</td>\n",
       "      <td>1</td>\n",
       "      <td>1</td>\n",
       "      <td>0</td>\n",
       "    </tr>\n",
       "    <tr>\n",
       "      <th>fish herbivores</th>\n",
       "      <td>0</td>\n",
       "      <td>0</td>\n",
       "      <td>0</td>\n",
       "      <td>0</td>\n",
       "      <td>0</td>\n",
       "      <td>1</td>\n",
       "      <td>1</td>\n",
       "    </tr>\n",
       "    <tr>\n",
       "      <th>other carnivores</th>\n",
       "      <td>0</td>\n",
       "      <td>0</td>\n",
       "      <td>0</td>\n",
       "      <td>0</td>\n",
       "      <td>0</td>\n",
       "      <td>1</td>\n",
       "      <td>0</td>\n",
       "    </tr>\n",
       "    <tr>\n",
       "      <th>fish carnivores</th>\n",
       "      <td>0</td>\n",
       "      <td>0</td>\n",
       "      <td>0</td>\n",
       "      <td>0</td>\n",
       "      <td>0</td>\n",
       "      <td>0</td>\n",
       "      <td>1</td>\n",
       "    </tr>\n",
       "  </tbody>\n",
       "</table>\n",
       "</div>"
      ],
      "text/plain": [
       "                        prawns and  benthos(micro, meio  \\\n",
       "basic food                       1                    1   \n",
       "detritus                         1                    1   \n",
       "prawns and                       0                    0   \n",
       "benthos(micro, meio              0                    0   \n",
       "zooplankton herbivores           0                    0   \n",
       "fish herbivores                  0                    0   \n",
       "other carnivores                 0                    0   \n",
       "fish carnivores                  0                    0   \n",
       "\n",
       "                        zooplankton herbivores  fish herbivores  \\\n",
       "basic food                                   1                1   \n",
       "detritus                                     1                1   \n",
       "prawns and                                   0                0   \n",
       "benthos(micro, meio                          0                0   \n",
       "zooplankton herbivores                       0                0   \n",
       "fish herbivores                              0                0   \n",
       "other carnivores                             0                0   \n",
       "fish carnivores                              0                0   \n",
       "\n",
       "                        other carnivores  fish carnivores  man  \n",
       "basic food                             0                0    0  \n",
       "detritus                               0                0    0  \n",
       "prawns and                             1                1    1  \n",
       "benthos(micro, meio                    1                0    0  \n",
       "zooplankton herbivores                 1                1    0  \n",
       "fish herbivores                        0                1    1  \n",
       "other carnivores                       0                1    0  \n",
       "fish carnivores                        0                0    1  "
      ]
     },
     "execution_count": 92,
     "metadata": {},
     "output_type": "execute_result"
    }
   ],
   "source": [
    "from io import StringIO\n",
    "    \n",
    "def standardiseNames(name):\n",
    "    name = name.replace('\"', '')\n",
    "    name = name.replace(\"'\",'')\n",
    "    name = name.replace(\"?\",'')\n",
    "    name = name.split(\"/\")\n",
    "    name = name[0]\n",
    "    name = re.sub(r'\\([^)]*\\)', '', name)\n",
    "    name = name.strip()\n",
    "    name = name.lower()\n",
    "    return name\n",
    "\n",
    "def getFileID(fileId):\n",
    "    return standardiseNames(fileId.decode(\"utf-8\")).split(\" \")[0]\n",
    "\n",
    "def prnFileReader():\n",
    "    found = set()\n",
    "    filesToProcess = getTestFiles()\n",
    "    aggregated = []\n",
    "    for f in filesToProcess:\n",
    "        with open(\"./prnTest/\"+f, 'rb') as file:\n",
    "            content = (file.readlines())\n",
    "        \n",
    "        fileId = getFileID(content[0])\n",
    "        \n",
    "        content = content[1:-1]\n",
    "        content = list(map(lambda x: x.strip().decode(\"utf-8\"),content))\n",
    "        content = list(map(lambda x: \" \".join(x.split(\" \")[1:3]), content))\n",
    "        content = list(map(lambda x: standardiseNames(x),content))\n",
    "        \n",
    "        matrixCorresponding = None\n",
    "        try:\n",
    "            with open(\"./RelevantDatasets/ECOWeB1.1/ECOWeB1.1/DATFILES/COMMUNITY/WEB\"+fileId+\".DAT\", 'rb') as matrix:\n",
    "                matrixCorresponding = matrix.readlines()\n",
    "        except Exception as e:\n",
    "            continue\n",
    "                    \n",
    "        matrixCorresponding = matrixCorresponding[:-1]\n",
    "        matrixCorresponding = list(map(lambda x: x.decode(\"utf-8\").strip().split(\" \"),matrixCorresponding))\n",
    "        matrixCorresponding = [list(filter(lambda y: len(y)>0,x)) for x in matrixCorresponding]\n",
    "        matrixCorresponding = [list(map(lambda y: int(y),x)) for x in matrixCorresponding]\n",
    "        \n",
    "        colHeader = matrixCorresponding[0][1:]\n",
    "        rowHeader = list(map(lambda x: x[0],matrixCorresponding[1:]))\n",
    "        \n",
    "        colHeader = list(map(lambda x: content[x-1],colHeader))\n",
    "        rowHeader = list(map(lambda x: content[x-1],rowHeader))\n",
    "        \n",
    "        matrixCorresponding = list(map(lambda x: x[1:],matrixCorresponding))\n",
    "        matrixCorresponding = matrixCorresponding[1:]\n",
    "\n",
    "        data = pd.DataFrame(matrixCorresponding, index=rowHeader,columns=colHeader)\n",
    "        return data\n",
    "        \n",
    "    return found\n",
    "\n",
    "def getTestFiles():\n",
    "    return os.listdir('C:/Users/davie/Desktop/Masters/Dissertation/Code/DissertationCode/Eigg/prnTest')    \n",
    "\n",
    "prnFileReader()"
   ]
  },
  {
   "cell_type": "code",
   "execution_count": 26,
   "metadata": {},
   "outputs": [
    {
     "name": "stderr",
     "output_type": "stream",
     "text": [
      "C:\\Users\\davie\\Anaconda3\\lib\\site-packages\\IPython\\core\\interactiveshell.py:2862: DtypeWarning: Columns (9,22) have mixed types. Specify dtype option on import or set low_memory=False.\n",
      "  exec(code_obj, self.user_global_ns, self.user_ns)\n"
     ]
    },
    {
     "data": {
      "text/html": [
       "<div>\n",
       "<style>\n",
       "    .dataframe thead tr:only-child th {\n",
       "        text-align: right;\n",
       "    }\n",
       "\n",
       "    .dataframe thead th {\n",
       "        text-align: left;\n",
       "    }\n",
       "\n",
       "    .dataframe tbody tr th {\n",
       "        vertical-align: top;\n",
       "    }\n",
       "</style>\n",
       "<table border=\"1\" class=\"dataframe\">\n",
       "  <thead>\n",
       "    <tr style=\"text-align: right;\">\n",
       "      <th></th>\n",
       "      <th>Recorder</th>\n",
       "      <th>Latitude (WGS84)</th>\n",
       "      <th>Longitude (WGS84)</th>\n",
       "      <th>Start date year</th>\n",
       "      <th>End date year</th>\n",
       "      <th>Scientific name</th>\n",
       "      <th>Common name</th>\n",
       "    </tr>\n",
       "  </thead>\n",
       "  <tbody>\n",
       "    <tr>\n",
       "      <th>0</th>\n",
       "      <td>unknown</td>\n",
       "      <td>56.902729</td>\n",
       "      <td>-6.15936</td>\n",
       "      <td>1905.0</td>\n",
       "      <td>NaN</td>\n",
       "      <td>meloe violaceus</td>\n",
       "      <td>Violet Oil-beetle</td>\n",
       "    </tr>\n",
       "    <tr>\n",
       "      <th>1</th>\n",
       "      <td>Frank Balfour-Browne</td>\n",
       "      <td>56.899200</td>\n",
       "      <td>-6.19759</td>\n",
       "      <td>1910.0</td>\n",
       "      <td>1910.0</td>\n",
       "      <td>rhantus suturellus</td>\n",
       "      <td>NaN</td>\n",
       "    </tr>\n",
       "    <tr>\n",
       "      <th>2</th>\n",
       "      <td>Frank Balfour-Browne</td>\n",
       "      <td>56.899200</td>\n",
       "      <td>-6.19759</td>\n",
       "      <td>1910.0</td>\n",
       "      <td>1910.0</td>\n",
       "      <td>gyrinus substriatus</td>\n",
       "      <td>NaN</td>\n",
       "    </tr>\n",
       "    <tr>\n",
       "      <th>3</th>\n",
       "      <td>Frank Balfour-Browne</td>\n",
       "      <td>56.899200</td>\n",
       "      <td>-6.19759</td>\n",
       "      <td>1910.0</td>\n",
       "      <td>1910.0</td>\n",
       "      <td>enochrus fuscipennis</td>\n",
       "      <td>NaN</td>\n",
       "    </tr>\n",
       "    <tr>\n",
       "      <th>4</th>\n",
       "      <td>Frank Balfour-Browne</td>\n",
       "      <td>56.899200</td>\n",
       "      <td>-6.19759</td>\n",
       "      <td>1910.0</td>\n",
       "      <td>1910.0</td>\n",
       "      <td>boreonectes multilineatus</td>\n",
       "      <td>NaN</td>\n",
       "    </tr>\n",
       "  </tbody>\n",
       "</table>\n",
       "</div>"
      ],
      "text/plain": [
       "               Recorder  Latitude (WGS84)  Longitude (WGS84)  Start date year  \\\n",
       "0               unknown         56.902729           -6.15936           1905.0   \n",
       "1  Frank Balfour-Browne         56.899200           -6.19759           1910.0   \n",
       "2  Frank Balfour-Browne         56.899200           -6.19759           1910.0   \n",
       "3  Frank Balfour-Browne         56.899200           -6.19759           1910.0   \n",
       "4  Frank Balfour-Browne         56.899200           -6.19759           1910.0   \n",
       "\n",
       "   End date year            Scientific name        Common name  \n",
       "0            NaN            meloe violaceus  Violet Oil-beetle  \n",
       "1         1910.0         rhantus suturellus                NaN  \n",
       "2         1910.0        gyrinus substriatus                NaN  \n",
       "3         1910.0       enochrus fuscipennis                NaN  \n",
       "4         1910.0  boreonectes multilineatus                NaN  "
      ]
     },
     "execution_count": 26,
     "metadata": {},
     "output_type": "execute_result"
    }
   ],
   "source": [
    "rawEiggData = validatedEiggData()\n",
    "rawEiggData.head()"
   ]
  },
  {
   "cell_type": "code",
   "execution_count": 3,
   "metadata": {},
   "outputs": [
    {
     "name": "stderr",
     "output_type": "stream",
     "text": [
      "C:\\Users\\davie\\Anaconda3\\lib\\site-packages\\ipykernel_launcher.py:1: DtypeWarning: Columns (2,8,12,13,22,26,27,41,44) have mixed types. Specify dtype option on import or set low_memory=False.\n",
      "  \"\"\"Entry point for launching an IPython kernel.\n",
      "C:\\Users\\davie\\Desktop\\Masters\\Dissertation\\Code\\DissertationCode\\Eigg\\trophics.py:20: DtypeWarning: Columns (9,22) have mixed types. Specify dtype option on import or set low_memory=False.\n",
      "  dataSetFunctions = [readFreshwaterData(),read2018GlobalDatabaseData(),readSorensenData(),readJanesData()]\n"
     ]
    },
    {
     "data": {
      "text/plain": [
       "4284"
      ]
     },
     "execution_count": 3,
     "metadata": {},
     "output_type": "execute_result"
    }
   ],
   "source": [
    "foodWeb = retrieveCollatedFoodWeb()\n",
    "len(foodWeb)"
   ]
  },
  {
   "cell_type": "code",
   "execution_count": 4,
   "metadata": {},
   "outputs": [
    {
     "name": "stdout",
     "output_type": "stream",
     "text": [
      "5495\n"
     ]
    }
   ],
   "source": [
    "overall = set()\n",
    "\n",
    "for item in foodWeb:\n",
    "    item = item.split(\" \")\n",
    "    item = \" \".join(item[:2])\n",
    "    overall.add(item)\n",
    "\n",
    "for fw in foodWeb:\n",
    "    v = foodWeb[fw]\n",
    "    for item in v:\n",
    "        item = item.split(\" \")\n",
    "        item = \" \".join(item[:2])\n",
    "        overall.add(item)\n",
    "\n",
    "print(len(overall))"
   ]
  },
  {
   "cell_type": "code",
   "execution_count": 31,
   "metadata": {},
   "outputs": [
    {
     "name": "stdout",
     "output_type": "stream",
     "text": [
      "0.09148665819567979\n"
     ]
    }
   ],
   "source": [
    "eiggSpecies = rawEiggData['Scientific name'].str.lower()\n",
    "eiggSpecies = set(eiggSpecies)\n",
    "\n",
    "iset = set()\n",
    "animalsTotal = len(eiggSpecies)\n",
    "totalFound = 0\n",
    "for item in eiggSpecies:\n",
    "    if item in overall:\n",
    "        iset.add(item)\n",
    "        totalFound += 1\n",
    "    \n",
    "\n",
    "print(totalFound / animalsTotal)"
   ]
  },
  {
   "cell_type": "code",
   "execution_count": 32,
   "metadata": {},
   "outputs": [
    {
     "data": {
      "text/plain": [
       "288"
      ]
     },
     "execution_count": 32,
     "metadata": {},
     "output_type": "execute_result"
    }
   ],
   "source": [
    "len(iset)"
   ]
  }
 ],
 "metadata": {
  "kernelspec": {
   "display_name": "Python 3",
   "language": "python",
   "name": "python3"
  },
  "language_info": {
   "codemirror_mode": {
    "name": "ipython",
    "version": 3
   },
   "file_extension": ".py",
   "mimetype": "text/x-python",
   "name": "python",
   "nbconvert_exporter": "python",
   "pygments_lexer": "ipython3",
   "version": "3.6.3"
  }
 },
 "nbformat": 4,
 "nbformat_minor": 2
}
