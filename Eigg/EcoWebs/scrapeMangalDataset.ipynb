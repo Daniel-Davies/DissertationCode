{
 "cells": [
  {
   "cell_type": "code",
   "execution_count": 76,
   "metadata": {},
   "outputs": [],
   "source": [
    "%matplotlib inline\n",
    "import sys\n",
    "sys.path.insert(1,'Utilities')\n",
    "# notebook\n",
    "import matplotlib.pylab as pylab\n",
    "import sklearn\n",
    "import matplotlib.pyplot as plt\n",
    "from sklearn.model_selection import KFold\n",
    "from sklearn.linear_model import LogisticRegression\n",
    "from sklearn.neighbors import KNeighborsClassifier\n",
    "from sklearn import svm\n",
    "from sklearn.cluster import KMeans\n",
    "from collections import Counter\n",
    "import numpy as np\n",
    "from sklearn.decomposition import PCA\n",
    "import pandas as pd\n",
    "import networkx as nx\n",
    "from math import sin, cos, sqrt, atan2, radians\n",
    "from utils import *\n",
    "from data import *\n",
    "from trophics import *\n",
    "from ecoNameManipulations import *\n",
    "import requests\n",
    "from collections import defaultdict\n",
    "import pickle\n",
    "#make the graphs bigger\n",
    "pylab.rcParams['figure.figsize'] = (32.0, 24.0)\n",
    "pylab.rcParams['font.size'] = 24"
   ]
  },
  {
   "cell_type": "code",
   "execution_count": 103,
   "metadata": {},
   "outputs": [],
   "source": [
    "lo"
   ]
  },
  {
   "cell_type": "code",
   "execution_count": 14,
   "metadata": {},
   "outputs": [
    {
     "name": "stderr",
     "output_type": "stream",
     "text": [
      "C:\\Users\\davie\\Anaconda3\\lib\\site-packages\\IPython\\core\\interactiveshell.py:2862: DtypeWarning: Columns (9,22) have mixed types. Specify dtype option on import or set low_memory=False.\n",
      "  exec(code_obj, self.user_global_ns, self.user_ns)\n"
     ]
    },
    {
     "data": {
      "text/plain": [
       "2982"
      ]
     },
     "execution_count": 14,
     "metadata": {},
     "output_type": "execute_result"
    }
   ],
   "source": [
    "eiggAnimals = validatedEiggData()\n",
    "eiggAnimals = eiggAnimals['Scientific name']\n",
    "eiggAnimals = set(eiggAnimals)\n",
    "len(eiggAnimals)"
   ]
  },
  {
   "cell_type": "code",
   "execution_count": 29,
   "metadata": {},
   "outputs": [
    {
     "data": {
      "text/plain": [
       "1386"
      ]
     },
     "execution_count": 29,
     "metadata": {},
     "output_type": "execute_result"
    }
   ],
   "source": [
    "r = requests.get('https://mangal.io/api/v2/network?count=2000', auth=('user', 'pass'))\n",
    "parsed = r.json()\n",
    "len(parsed)"
   ]
  },
  {
   "cell_type": "code",
   "execution_count": 30,
   "metadata": {},
   "outputs": [
    {
     "data": {
      "text/plain": [
       "{'all_interactions': False,\n",
       " 'created_at': '2019-02-22T18:47:30.657Z',\n",
       " 'dataset_id': 1,\n",
       " 'date': '1899-07-01T00:00:00.000Z',\n",
       " 'description': 'Insects observed pollinating flowers, ten miles of Carlinville, Illinois, USA',\n",
       " 'geom': {'coordinates': [-89.8818, 39.2798], 'type': 'Point'},\n",
       " 'id': 19,\n",
       " 'name': 'roberson_1929_18990701_19',\n",
       " 'public': True,\n",
       " 'updated_at': '2019-02-22T18:47:30.657Z',\n",
       " 'user_id': 3}"
      ]
     },
     "execution_count": 30,
     "metadata": {},
     "output_type": "execute_result"
    }
   ],
   "source": [
    "parsed[0]"
   ]
  },
  {
   "cell_type": "code",
   "execution_count": 72,
   "metadata": {},
   "outputs": [
    {
     "data": {
      "text/plain": [
       "defaultdict(list,\n",
       "            {'arenaria': ['carcinus', 'corophium', 'gammaridae'],\n",
       "             'blennioidei': ['gammaridae'],\n",
       "             'carcinus': ['detritus'],\n",
       "             'corophium': ['detritus'],\n",
       "             'gammaridae': ['detritus'],\n",
       "             'gobiidae': ['gammaridae'],\n",
       "             'haematopodidae': ['mytilus'],\n",
       "             'laridae': ['mytilus', 'carcinus', 'somateria'],\n",
       "             'mytilus': ['detritus'],\n",
       "             'scatophagidae': ['gammaridae'],\n",
       "             'somateria': ['mytilus', 'carcinus']})"
      ]
     },
     "execution_count": 72,
     "metadata": {},
     "output_type": "execute_result"
    }
   ],
   "source": [
    "constructGraphForNetworkId(943)"
   ]
  },
  {
   "cell_type": "code",
   "execution_count": 104,
   "metadata": {},
   "outputs": [
    {
     "data": {
      "text/plain": [
       "3416"
      ]
     },
     "execution_count": 104,
     "metadata": {},
     "output_type": "execute_result"
    }
   ],
   "source": [
    "interestIds = retrieveNetworkIds()\n",
    "indivNets = list(map(lambda x: constructGraphForNetworkId(x), interestIds))\n",
    "globalFoodWeb = aggregateDataSets(indivNets)\n",
    "len(globalFoodWeb)"
   ]
  },
  {
   "cell_type": "code",
   "execution_count": 105,
   "metadata": {
    "collapsed": true
   },
   "outputs": [],
   "source": [
    "import pickle"
   ]
  },
  {
   "cell_type": "code",
   "execution_count": 106,
   "metadata": {
    "collapsed": true
   },
   "outputs": [],
   "source": [
    "with open(\"mangalGlobal\", \"wb\") as f:\n",
    "    pickle.dump(globalFoodWeb,f)"
   ]
  },
  {
   "cell_type": "code",
   "execution_count": 109,
   "metadata": {},
   "outputs": [
    {
     "data": {
      "text/plain": [
       "'braconidae'"
      ]
     },
     "execution_count": 109,
     "metadata": {},
     "output_type": "execute_result"
    }
   ],
   "source": [
    "list(globalFoodWeb.keys())[0]"
   ]
  }
 ],
 "metadata": {
  "kernelspec": {
   "display_name": "Python 3",
   "language": "python",
   "name": "python3"
  },
  "language_info": {
   "codemirror_mode": {
    "name": "ipython",
    "version": 3
   },
   "file_extension": ".py",
   "mimetype": "text/x-python",
   "name": "python",
   "nbconvert_exporter": "python",
   "pygments_lexer": "ipython3",
   "version": "3.6.3"
  }
 },
 "nbformat": 4,
 "nbformat_minor": 2
}
