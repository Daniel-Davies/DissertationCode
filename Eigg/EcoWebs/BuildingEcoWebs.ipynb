{
 "cells": [
  {
   "cell_type": "code",
   "execution_count": null,
   "metadata": {
    "collapsed": true
   },
   "outputs": [],
   "source": [
    "%matplotlib inline\n",
    "# notebook\n",
    "import sys\n",
    "sys.path.insert(1,'../Utilities')\n",
    "\n",
    "import matplotlib.pylab as pylab\n",
    "import matplotlib.pyplot as plt\n",
    "from collections import Counter\n",
    "import numpy as np\n",
    "import pandas as pd\n",
    "import networkx as nx\n",
    "from math import sin, cos, sqrt, atan2, radians\n",
    "from utils import *\n",
    "from data import *\n",
    "from trophics import *\n",
    "from collections import defaultdict\n",
    "from taxonomicIndices import *\n",
    "from foodWebGraphing import *\n",
    "#make the graphs bigger\n",
    "pylab.rcParams['figure.figsize'] = (32.0, 24.0)\n",
    "pylab.rcParams['font.size'] = 24"
   ]
  },
  {
   "cell_type": "code",
   "execution_count": null,
   "metadata": {},
   "outputs": [],
   "source": [
    "rawEiggData = validatedEiggData()\n",
    "# rawEiggData = rawEiggData[rawEiggData[\"Start date year\"] > 1960]\n",
    "rawEiggData.head()"
   ]
  },
  {
   "cell_type": "code",
   "execution_count": null,
   "metadata": {},
   "outputs": [],
   "source": [
    "foodWeb = retrieveCollatedFoodWeb()\n",
    "len(foodWeb)"
   ]
  },
  {
   "cell_type": "code",
   "execution_count": null,
   "metadata": {},
   "outputs": [],
   "source": [
    "overall = set()\n",
    "\n",
    "for item in foodWeb:\n",
    "    item = item.split(\" \")\n",
    "    item = \" \".join(item[:2])\n",
    "    overall.add(item)\n",
    "\n",
    "for fw in foodWeb:\n",
    "    v = foodWeb[fw]\n",
    "    for item in v:\n",
    "        item = item.split(\" \")\n",
    "        item = \" \".join(item[:2])\n",
    "        overall.add(item)\n",
    "\n",
    "print(len(overall))"
   ]
  },
  {
   "cell_type": "code",
   "execution_count": null,
   "metadata": {},
   "outputs": [],
   "source": [
    "eiggSpecies = rawEiggData['Scientific name'].str.lower()\n",
    "eiggSpecies = set(eiggSpecies)\n",
    "\n",
    "iset = set()\n",
    "animalsTotal = len(eiggSpecies)\n",
    "totalFound = 0\n",
    "for item in eiggSpecies:\n",
    "    if item in overall:\n",
    "        iset.add(item)\n",
    "        totalFound += 1\n",
    "\n",
    "print(totalFound / animalsTotal)"
   ]
  },
  {
   "cell_type": "markdown",
   "metadata": {},
   "source": [
    "# Reproduction of manually made network"
   ]
  },
  {
   "cell_type": "code",
   "execution_count": null,
   "metadata": {},
   "outputs": [],
   "source": [
    "G,mapping = graphFoodWeb(dateRange=(2014,2021),specificity=\"genus\")\n",
    "print(len(G.edges))\n",
    "pos=nx.spring_layout(G,k=1)\n",
    "nx.draw(G,pos)\n",
    "for label in pos:\n",
    "    x,y = pos[label]\n",
    "    plt.text(x,y+0.035,s=mapping[label],horizontalalignment='center',fontsize=24)\n",
    "\n",
    "# saveGraphToFile(G,'animals.txt')\n",
    "# labelsInOrder = list(G.nodes())\n",
    "# #attributesInOrder = list(map(lambda x: inTourism[x],G.nodes()))\n",
    "# np.savetxt('animalsForFun.txt', labelsInOrder, '%s')\n",
    "# # np.savetxt('animal.txt', attributesInOrder, \"%s\")"
   ]
  },
  {
   "cell_type": "code",
   "execution_count": null,
   "metadata": {
    "collapsed": true
   },
   "outputs": [],
   "source": []
  }
 ],
 "metadata": {
  "kernelspec": {
   "display_name": "Python 3",
   "language": "python",
   "name": "python3"
  },
  "language_info": {
   "codemirror_mode": {
    "name": "ipython",
    "version": 3
   },
   "file_extension": ".py",
   "mimetype": "text/x-python",
   "name": "python",
   "nbconvert_exporter": "python",
   "pygments_lexer": "ipython3",
   "version": "3.6.3"
  }
 },
 "nbformat": 4,
 "nbformat_minor": 2
}
