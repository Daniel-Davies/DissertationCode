{
 "cells": [
  {
   "cell_type": "code",
   "execution_count": 1,
   "metadata": {
    "collapsed": true
   },
   "outputs": [],
   "source": [
    "import sys\n",
    "sys.path.insert(1,'../Utilities')\n",
    "import json\n",
    "import requests\n",
    "import time\n",
    "from data import *\n",
    "from trophics import *\n",
    "import pickle\n"
   ]
  },
  {
   "cell_type": "code",
   "execution_count": 2,
   "metadata": {},
   "outputs": [
    {
     "name": "stderr",
     "output_type": "stream",
     "text": [
      "C:\\Users\\davie\\Anaconda3\\lib\\site-packages\\IPython\\core\\interactiveshell.py:2862: DtypeWarning: Columns (9,22) have mixed types. Specify dtype option on import or set low_memory=False.\n",
      "  exec(code_obj, self.user_global_ns, self.user_ns)\n"
     ]
    },
    {
     "data": {
      "text/plain": [
       "3177"
      ]
     },
     "execution_count": 2,
     "metadata": {},
     "output_type": "execute_result"
    }
   ],
   "source": [
    "eiggRawData = eiggRawData()\n",
    "eiggRawData = eiggRawData[\"Scientific name\"].str.lower()\n",
    "eiggRawData = set(eiggRawData)\n",
    "len(eiggRawData)"
   ]
  },
  {
   "cell_type": "code",
   "execution_count": 3,
   "metadata": {
    "collapsed": true
   },
   "outputs": [],
   "source": [
    "def validateListedEiggSpecies(speciesList):\n",
    "    validatedSpeciesResultDict = {}\n",
    "    counter = 0\n",
    "    for species in eiggRawData:\n",
    "        if counter % 100 == 0: print(\"Step \" + str(counter))\n",
    "        indivResult = cleanSpeciesName(species)\n",
    "        validatedSpeciesResultDict[species] = indivResult\n",
    "        counter += 1\n",
    "    \n",
    "    print(len(validatedSpeciesResultDict))\n",
    "    with open(\"PartialEiggVerified\",'wb') as f:\n",
    "        pickle.dump(validatedSpeciesResultDict,f)"
   ]
  },
  {
   "cell_type": "code",
   "execution_count": 5,
   "metadata": {},
   "outputs": [],
   "source": [
    "#validateListedEiggSpecies(eiggRawData)"
   ]
  },
  {
   "cell_type": "markdown",
   "metadata": {},
   "source": [
    "# How do we deal with the failed entries?\n",
    "\n",
    "Some are genuinely incorrect- some on the other hand the API itself didnt catch,\n",
    "so I will manually add in the ones that are valid"
   ]
  },
  {
   "cell_type": "markdown",
   "metadata": {},
   "source": [
    "## I will fix the rest manually"
   ]
  },
  {
   "cell_type": "markdown",
   "metadata": {
    "collapsed": true
   },
   "source": [
    "error occured at tenellia caerulea\n",
    "error occured at leiocolea turbinata\n",
    "error occured at vertebrata fucoides\n",
    "error occured at diatoms film\n",
    "error occured at porifera indet\n",
    "error occured at aphodius fimetarius/pedellus\n",
    "error occured at leiocolea fitzgeraldiae\n",
    "error occured at rubus sect.\n",
    "error occured at cirrhia icteritia\n",
    "error occured at platyhypnidium ripariodes\n",
    "error occured at diatoms colonial\n",
    "error occured at rubus sect.\n",
    "error occured at anthus spinoletta/petrosus\n",
    "error occured at filamentous brown\n",
    "error occured at leiocolea collaris"
   ]
  },
  {
   "cell_type": "code",
   "execution_count": null,
   "metadata": {
    "collapsed": true
   },
   "outputs": [],
   "source": [
    "amendedDict = {}\n",
    "amendedDict['bryozoa crusts'] = 'bryozoa'\n",
    "amendedDict['rubus sect.'] = 'rubus'\n",
    "amendedDict['leiocolea collaris'] = 'leiocolea collaris'\n",
    "amendedDict['leiocolea fitzgeraldiae'] = 'leiocolea fitzgeraldiae'\n",
    "amendedDict['platyhypnidium ripariodes'] = 'platyhypnidium ripariodes'\n",
    "amendedDict['vertebrata fucoides'] = 'vertebrata fucoides'\n",
    "amendedDict['porifera crusts'] = 'porifera'\n",
    "amendedDict['diatoms brown'] = 'diatoms'\n",
    "amendedDict['diatoms colonial'] = 'diatoms'\n",
    "amendedDict['cirrhia icteritia'] = 'cirrhia icteritia'\n",
    "amendedDict['leiocolea turbinata'] = 'leiocolea turbinata'\n",
    "amendedDict['maerl'] = 'maerl'\n",
    "amendedDict['tenellia caerulea'] = 'tenellia caerulea'"
   ]
  },
  {
   "cell_type": "code",
   "execution_count": null,
   "metadata": {
    "collapsed": true
   },
   "outputs": [],
   "source": [
    "fullSpeciesOfEiggDict = {}\n",
    "\n",
    "with open(\"PartialEiggVerified\",'rb') as f:\n",
    "    partialDict = pickle.load(f)\n",
    "\n",
    "for item in partialDict:\n",
    "    if len(partialDict[item]) > 0:\n",
    "        fullSpeciesOfEiggDict[item] = partialDict[item]\n",
    "    \n",
    "for item in amendedDict:\n",
    "    fullSpeciesOfEiggDict[item] = amendedDict[item]\n",
    "    \n",
    "with open(\"EiggVerifiedSpeciesList\",'wb') as f:\n",
    "    pickle.dump(fullSpeciesOfEiggDict,f)\n"
   ]
  },
  {
   "cell_type": "code",
   "execution_count": null,
   "metadata": {
    "collapsed": true
   },
   "outputs": [],
   "source": [
    "fullSpeciesOfEiggDict['carex hostiana x viridula = c. x fulva']"
   ]
  },
  {
   "cell_type": "code",
   "execution_count": null,
   "metadata": {
    "collapsed": true
   },
   "outputs": [],
   "source": [
    "len(fullSpeciesOfEiggDict)"
   ]
  },
  {
   "cell_type": "code",
   "execution_count": null,
   "metadata": {},
   "outputs": [],
   "source": [
    "with open(\"EiggVerifiedSpeciesList\",'rb') as f:\n",
    "    testingPickleWrite = pickle.load(f)\n",
    "    \n",
    "print(len(testingPickleWrite))"
   ]
  },
  {
   "cell_type": "markdown",
   "metadata": {},
   "source": [
    "# Conclusion; missing 4 species (X crusts + X film)"
   ]
  }
 ],
 "metadata": {
  "kernelspec": {
   "display_name": "Python 3",
   "language": "python",
   "name": "python3"
  },
  "language_info": {
   "codemirror_mode": {
    "name": "ipython",
    "version": 3
   },
   "file_extension": ".py",
   "mimetype": "text/x-python",
   "name": "python",
   "nbconvert_exporter": "python",
   "pygments_lexer": "ipython3",
   "version": "3.6.3"
  }
 },
 "nbformat": 4,
 "nbformat_minor": 2
}
