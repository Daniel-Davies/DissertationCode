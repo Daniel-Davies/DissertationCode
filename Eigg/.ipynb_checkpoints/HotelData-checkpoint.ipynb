{
 "cells": [
  {
   "cell_type": "code",
   "execution_count": 2,
   "metadata": {
    "collapsed": true
   },
   "outputs": [],
   "source": [
    "%matplotlib inline\n",
    "# notebook\n",
    "import matplotlib.pylab as pylab\n",
    "import sklearn\n",
    "import matplotlib.pyplot as plt\n",
    "from sklearn.model_selection import KFold\n",
    "from sklearn.linear_model import LogisticRegression\n",
    "from sklearn.neighbors import KNeighborsClassifier\n",
    "from sklearn import svm\n",
    "from sklearn.cluster import KMeans\n",
    "from collections import Counter\n",
    "import numpy as np\n",
    "from sklearn.decomposition import PCA\n",
    "import pandas as pd\n",
    "import networkx as nx\n",
    "from math import sin, cos, sqrt, atan2, radians,log,log10\n",
    "\n",
    "import json\n",
    "from data import listedEiggHotels\n",
    "from utils import *\n",
    "#make the graphs bigger\n",
    "pylab.rcParams['figure.figsize'] = (32.0, 24.0)\n",
    "pylab.rcParams['font.size'] = 24"
   ]
  },
  {
   "cell_type": "code",
   "execution_count": 3,
   "metadata": {
    "collapsed": true
   },
   "outputs": [],
   "source": [
    "# Merge anything within 30 m of each other\n",
    "def cleanResidences(curr):\n",
    "    curr = curr.keys()\n",
    "    curr = list(map(lambda x: x.split(\",\"),curr))\n",
    "    curr = list(map(lambda x: [float(x[0]),float(x[1])], curr))\n",
    "    new = []\n",
    "    \n",
    "    for k in curr:\n",
    "        broken = False\n",
    "        for item in new:\n",
    "            d = seperationInMetres(k,item)\n",
    "            if d < 30:\n",
    "                broken = True\n",
    "                break\n",
    "        if not broken:\n",
    "            new.append(k)\n",
    "    \n",
    "    return new\n",
    "\n",
    "def seperationInMetres(p1,p2):\n",
    "    R = 6373.0\n",
    "    \n",
    "    lat1,lon1 = p1\n",
    "    lat2, lon2 = p2\n",
    "    \n",
    "    lat1 = radians(lat1)\n",
    "    lon1 = radians(lon1)\n",
    "    lat2 = radians(lat2)\n",
    "    lon2 = radians(lon2)\n",
    "\n",
    "    dlon = lon2 - lon1\n",
    "    dlat = lat2 - lat1\n",
    "\n",
    "    a = sin(dlat / 2)**2 + cos(lat1) * cos(lat2) * sin(dlon / 2)**2\n",
    "    c = 2 * atan2(sqrt(a), sqrt(1 - a))\n",
    "\n",
    "    distance = R * c\n",
    "\n",
    "    #convert to metres\n",
    "    return distance * 1000 \n"
   ]
  },
  {
   "cell_type": "code",
   "execution_count": 21,
   "metadata": {},
   "outputs": [
    {
     "name": "stdout",
     "output_type": "stream",
     "text": [
      "[('56.9214209,-6.1472527', 36.132923149651965), ('56.9195159,-6.1484787', 2496.415435722301), ('56.9252864,-6.1471206', 2.0), ('56.888082, -6.137512', 1459.8142602753503), ('56.922044,-6.1446842', 98.74515465367367), ('56.8889489,-6.1250917', 384.59091849758784), ('56.9182625,-6.1554283', 389.54240464306656), ('56.8902145,-6.1343823', 1141.5636408891212), ('56.8775889,-6.1337773', 153.5780511699847), ('56.9222615,-6.1420233', 449.1553356637863), ('56.9131675,-6.1619473', 2.0), ('56.8779645,-6.1327783', 319.60400554636277), ('56.9223021,-6.1480099', 155.7087664002735), ('56.8804676,-6.1417635', 109.21456407174236), ('56.8777055,-6.1316373', 2.0), ('56.9269519,-6.1439637', 106.40401226355512)]\n",
      "[(0, 5), (1, 5), (2, 5), (3, 1), (4, 5), (5, 0), (6, 1), (7, 1), (8, 2), (9, 5), (10, 0), (11, 2), (12, 5), (13, 0), (14, 2), (15, 1)]\n"
     ]
    },
    {
     "ename": "KeyError",
     "evalue": "0",
     "output_type": "error",
     "traceback": [
      "\u001b[1;31m---------------------------------------------------------------------------\u001b[0m",
      "\u001b[1;31mKeyError\u001b[0m                                  Traceback (most recent call last)",
      "\u001b[1;32m<ipython-input-21-bddf2880bfe0>\u001b[0m in \u001b[0;36m<module>\u001b[1;34m()\u001b[0m\n\u001b[0;32m     76\u001b[0m \u001b[0mprint\u001b[0m\u001b[1;33m(\u001b[0m\u001b[0mG\u001b[0m\u001b[1;33m.\u001b[0m\u001b[0mdegree\u001b[0m\u001b[1;33m)\u001b[0m\u001b[1;33m\u001b[0m\u001b[0m\n\u001b[0;32m     77\u001b[0m \u001b[0mpos\u001b[0m\u001b[1;33m=\u001b[0m\u001b[0mnx\u001b[0m\u001b[1;33m.\u001b[0m\u001b[0mspring_layout\u001b[0m\u001b[1;33m(\u001b[0m\u001b[0mG\u001b[0m\u001b[1;33m,\u001b[0m\u001b[0mk\u001b[0m\u001b[1;33m=\u001b[0m\u001b[1;36m1\u001b[0m\u001b[1;33m)\u001b[0m\u001b[1;33m\u001b[0m\u001b[0m\n\u001b[1;32m---> 78\u001b[1;33m \u001b[0mlabels\u001b[0m \u001b[1;33m=\u001b[0m \u001b[0mlist\u001b[0m\u001b[1;33m(\u001b[0m\u001b[0mmap\u001b[0m\u001b[1;33m(\u001b[0m\u001b[1;32mlambda\u001b[0m \u001b[0mx\u001b[0m\u001b[1;33m:\u001b[0m \u001b[0mlistedEiggHotels\u001b[0m\u001b[1;33m(\u001b[0m\u001b[1;33m)\u001b[0m\u001b[1;33m[\u001b[0m\u001b[0mx\u001b[0m\u001b[1;33m[\u001b[0m\u001b[1;36m0\u001b[0m\u001b[1;33m]\u001b[0m\u001b[1;33m]\u001b[0m\u001b[1;33m,\u001b[0m\u001b[0mG\u001b[0m\u001b[1;33m.\u001b[0m\u001b[0mdegree\u001b[0m\u001b[1;33m)\u001b[0m\u001b[1;33m)\u001b[0m\u001b[1;33m\u001b[0m\u001b[0m\n\u001b[0m\u001b[0;32m     79\u001b[0m \u001b[0mnx\u001b[0m\u001b[1;33m.\u001b[0m\u001b[0mdraw_networkx_labels\u001b[0m\u001b[1;33m(\u001b[0m\u001b[0mG\u001b[0m\u001b[1;33m,\u001b[0m\u001b[0mpos\u001b[0m\u001b[1;33m,\u001b[0m\u001b[0mlabels\u001b[0m\u001b[1;33m,\u001b[0m\u001b[0mfont_size\u001b[0m\u001b[1;33m=\u001b[0m\u001b[1;36m16\u001b[0m\u001b[1;33m)\u001b[0m\u001b[1;33m\u001b[0m\u001b[0m\n\u001b[0;32m     80\u001b[0m \u001b[0mnx\u001b[0m\u001b[1;33m.\u001b[0m\u001b[0mdraw\u001b[0m\u001b[1;33m(\u001b[0m\u001b[0mG\u001b[0m\u001b[1;33m,\u001b[0m \u001b[0mnode_size\u001b[0m \u001b[1;33m=\u001b[0m \u001b[1;33m[\u001b[0m\u001b[0ms\u001b[0m \u001b[1;32mfor\u001b[0m \u001b[0ms\u001b[0m \u001b[1;32min\u001b[0m \u001b[0mscores\u001b[0m\u001b[1;33m]\u001b[0m\u001b[1;33m)\u001b[0m\u001b[1;33m\u001b[0m\u001b[0m\n",
      "\u001b[1;32m<ipython-input-21-bddf2880bfe0>\u001b[0m in \u001b[0;36m<lambda>\u001b[1;34m(x)\u001b[0m\n\u001b[0;32m     76\u001b[0m \u001b[0mprint\u001b[0m\u001b[1;33m(\u001b[0m\u001b[0mG\u001b[0m\u001b[1;33m.\u001b[0m\u001b[0mdegree\u001b[0m\u001b[1;33m)\u001b[0m\u001b[1;33m\u001b[0m\u001b[0m\n\u001b[0;32m     77\u001b[0m \u001b[0mpos\u001b[0m\u001b[1;33m=\u001b[0m\u001b[0mnx\u001b[0m\u001b[1;33m.\u001b[0m\u001b[0mspring_layout\u001b[0m\u001b[1;33m(\u001b[0m\u001b[0mG\u001b[0m\u001b[1;33m,\u001b[0m\u001b[0mk\u001b[0m\u001b[1;33m=\u001b[0m\u001b[1;36m1\u001b[0m\u001b[1;33m)\u001b[0m\u001b[1;33m\u001b[0m\u001b[0m\n\u001b[1;32m---> 78\u001b[1;33m \u001b[0mlabels\u001b[0m \u001b[1;33m=\u001b[0m \u001b[0mlist\u001b[0m\u001b[1;33m(\u001b[0m\u001b[0mmap\u001b[0m\u001b[1;33m(\u001b[0m\u001b[1;32mlambda\u001b[0m \u001b[0mx\u001b[0m\u001b[1;33m:\u001b[0m \u001b[0mlistedEiggHotels\u001b[0m\u001b[1;33m(\u001b[0m\u001b[1;33m)\u001b[0m\u001b[1;33m[\u001b[0m\u001b[0mx\u001b[0m\u001b[1;33m[\u001b[0m\u001b[1;36m0\u001b[0m\u001b[1;33m]\u001b[0m\u001b[1;33m]\u001b[0m\u001b[1;33m,\u001b[0m\u001b[0mG\u001b[0m\u001b[1;33m.\u001b[0m\u001b[0mdegree\u001b[0m\u001b[1;33m)\u001b[0m\u001b[1;33m)\u001b[0m\u001b[1;33m\u001b[0m\u001b[0m\n\u001b[0m\u001b[0;32m     79\u001b[0m \u001b[0mnx\u001b[0m\u001b[1;33m.\u001b[0m\u001b[0mdraw_networkx_labels\u001b[0m\u001b[1;33m(\u001b[0m\u001b[0mG\u001b[0m\u001b[1;33m,\u001b[0m\u001b[0mpos\u001b[0m\u001b[1;33m,\u001b[0m\u001b[0mlabels\u001b[0m\u001b[1;33m,\u001b[0m\u001b[0mfont_size\u001b[0m\u001b[1;33m=\u001b[0m\u001b[1;36m16\u001b[0m\u001b[1;33m)\u001b[0m\u001b[1;33m\u001b[0m\u001b[0m\n\u001b[0;32m     80\u001b[0m \u001b[0mnx\u001b[0m\u001b[1;33m.\u001b[0m\u001b[0mdraw\u001b[0m\u001b[1;33m(\u001b[0m\u001b[0mG\u001b[0m\u001b[1;33m,\u001b[0m \u001b[0mnode_size\u001b[0m \u001b[1;33m=\u001b[0m \u001b[1;33m[\u001b[0m\u001b[0ms\u001b[0m \u001b[1;32mfor\u001b[0m \u001b[0ms\u001b[0m \u001b[1;32min\u001b[0m \u001b[0mscores\u001b[0m\u001b[1;33m]\u001b[0m\u001b[1;33m)\u001b[0m\u001b[1;33m\u001b[0m\u001b[0m\n",
      "\u001b[1;31mKeyError\u001b[0m: 0"
     ]
    }
   ],
   "source": [
    "def listedEiggHotelRatings():\n",
    "    hotelRatings = {}\n",
    "    \n",
    "    # *************  FORMAT  ***************\n",
    "    # hotelRatings[\"NameOfHotel\"] = [TripAdvisor/AirBnb Mean, Google Review Mean, FB likes]\n",
    "    # =>  UNIQUE ID = [Populist rating, Accessibility rating, Popularity rating]\n",
    "    \n",
    "    #CAUTION ON SOCKPUPPETING\n",
    "    \n",
    "    hotelRatings[\"Tigh an Sithean – camping cabins & log cabins\"] = [(3.75,4),(0,0),0]\n",
    "    hotelRatings[\"Lageorna\"] = [(4.87,75),(5,16),725]\n",
    "    hotelRatings[\"Tophouse\"] = [(0,0),(0,0),0]\n",
    "    hotelRatings[\"Amazing Eigg Shed\"] = [(4.91,105),(0,0),0]\n",
    "    hotelRatings[\"Eigg Organics\"] = [(1,1),(4.80,14),0]\n",
    "    hotelRatings[\"Kildonnan house\"] = [(4.89,36),(5,5),279]\n",
    "    hotelRatings[\"Laig Caravan\"] = [(4.9,39),(0,0),333]\n",
    "    hotelRatings[\"Glebe Barn\"] = [(4.84,45),(4.9,31),440]\n",
    "    hotelRatings[\"The Smiddy\"] = [(5,16),(4.5,2),0]\n",
    "    hotelRatings[\"Sweeney's Bothy\"] = [(5,57),(0,0),0]\n",
    "    hotelRatings[\"Laig Beach Bothy\"] = [(0,0),(0,0),0]\n",
    "    hotelRatings[\"Eigg Camping Pods\"] = [(0,0),(5,10),705]\n",
    "    hotelRatings[\"Tigh Eilidh\"] = [(5,16),(4,1),34]\n",
    "    hotelRatings[\"Eigg Eco Centre\"] = [(0,0),(5,3),0]\n",
    "    hotelRatings[\"Clanranald college\"] = [(0,0),(0,0),0]\n",
    "    hotelRatings[\"Howlin Cottege\"] = [(0,0),(5,2),0]\n",
    "   \n",
    "    return hotelRatings\n",
    "\n",
    "def scoreIndividualHotelRating(rating, reviewMax, fbMax):\n",
    "    tripAdvisor, googleReview, facebookLiked = rating\n",
    "    \n",
    "    tripAdvisorStars, numTripAdvisorRatings = tripAdvisor\n",
    "    googleStars, numGoogleReviews = googleReview\n",
    "    \n",
    "    overallReviews = (numTripAdvisorRatings + numGoogleReviews) / reviewMax\n",
    "    \n",
    "    overallUserReview = 0\n",
    "    \n",
    "    if overallReviews != 0:\n",
    "        overallUserReview = (numTripAdvisorRatings*tripAdvisorStars + numGoogleReviews*googleStars)/(overallReviews*reviewMax)\n",
    "        \n",
    "    fbReviews = facebookLiked / fbMax\n",
    "    \n",
    "    #print(1+(10**(0.2*overallUserReview + 0.6*overallReviews + 0.2*fbReviews)))\n",
    "    return 1+(100**(0.2*overallUserReview + 0.6*overallReviews + 0.2*fbReviews))\n",
    "    print(numTripAdvisorRatings,numGoogleReviews)\n",
    "    return 10*(numTripAdvisorRatings+numGoogleReviews)+100\n",
    "\n",
    "def mapHotelLocationToScore():\n",
    "    hotelLocations = listedEiggHotels().keys()\n",
    "    (rMax,fbMax) = gatherStatistics()\n",
    "    hotelRatings = list(map(lambda x: scoreIndividualHotelRating(x, rMax,fbMax),listedEiggHotelRatings().values()))\n",
    "    hotelWScore = list(zip(hotelLocations,hotelRatings))\n",
    "    return hotelWScore\n",
    "\n",
    "def gatherStatistics():\n",
    "    ratings = listedEiggHotelRatings().values()\n",
    "    reviewMax =  max([x[1][1]+x[0][1] for x in ratings])\n",
    "    fbMax = max([x[2] for x in ratings])\n",
    "    \n",
    "    return reviewMax, fbMax\n",
    "\n",
    "def buildGraph():\n",
    "    scoredLocations = mapHotelLocationToScore()\n",
    "    print(scoredLocations)\n",
    "    scoredLocations = list(map(lambda x: [x[0].split(\",\"),x[1]],scoredLocations))\n",
    "    scoredLocations = list(map(lambda x: [(float(x[0][0]),float(x[0][1])),x[1]],scoredLocations))\n",
    "    \n",
    "    G,scores = graphASetByObservations(scoredLocations)\n",
    "    #print(len(hotels),len(scoredLocations)) #NOTHING TOO CLOSE SO ITS OK\n",
    "    \n",
    "    \n",
    "    return G,scores\n",
    " \n",
    "G,scores = buildGraph()\n",
    "print(G.degree)\n",
    "pos=nx.spring_layout(G,k=1)\n",
    "labels = list(map(lambda x: listedEiggHotels()[x[0]],G.degree))\n",
    "nx.draw_networkx_labels(G,pos,labels,font_size=16)\n",
    "nx.draw(G, node_size = [s for s in scores])"
   ]
  },
  {
   "cell_type": "code",
   "execution_count": 5,
   "metadata": {},
   "outputs": [
    {
     "name": "stdout",
     "output_type": "stream",
     "text": [
      "(16, 16)\n",
      "\n"
     ]
    }
   ],
   "source": [
    "saveGraphToFile(G, \"hotelsNoAttributes.txt\")"
   ]
  },
  {
   "cell_type": "code",
   "execution_count": 14,
   "metadata": {},
   "outputs": [],
   "source": [
    "np.savetxt(\"hotelAttributes.txt\",scores,delimiter=\" \")"
   ]
  },
  {
   "cell_type": "code",
   "execution_count": 5,
   "metadata": {},
   "outputs": [
    {
     "data": {
      "text/plain": [
       "[0.020772041298224325,\n",
       " 0.045297558123026944,\n",
       " 0.00401373327551975,\n",
       " 0.042190634690194066,\n",
       " 0.026593543924479556,\n",
       " 0.03446665366467449,\n",
       " 0.03454072987770412,\n",
       " 0.04076666837240128,\n",
       " 0.029151055364057488,\n",
       " 0.035365287508993606,\n",
       " 0.00401373327551975,\n",
       " 0.03339482951493324,\n",
       " 0.029230840853688433,\n",
       " 0.02717707408841298,\n",
       " 0.00401373327551975,\n",
       " 0.027026106727557543]"
      ]
     },
     "execution_count": 5,
     "metadata": {},
     "output_type": "execute_result"
    }
   ],
   "source": [
    "usableSizes = list(map(lambda x: abs((log10(x)))/75,scores))\n",
    "usableSizes"
   ]
  },
  {
   "cell_type": "code",
   "execution_count": 6,
   "metadata": {
    "collapsed": true
   },
   "outputs": [],
   "source": [
    "dct = listedEiggHotels()\n",
    "del dct['56.9017079,-6.1425028']\n",
    "locs = toUsableLatLonList(dct.keys())\n",
    "generateMapJSON([('fullColMarkers/marker76.png',locs,list(dct.values()),usableSizes)],[(locs,G)],'hotelsByRating.txt')"
   ]
  },
  {
   "cell_type": "code",
   "execution_count": 7,
   "metadata": {},
   "outputs": [
    {
     "data": {
      "text/plain": [
       "[[56.9214209, -6.1472527],\n",
       " [56.9195159, -6.1484787],\n",
       " [56.9252864, -6.1471206],\n",
       " [56.888082, -6.137512],\n",
       " [56.922044, -6.1446842],\n",
       " [56.8889489, -6.1250917],\n",
       " [56.9182625, -6.1554283],\n",
       " [56.8902145, -6.1343823],\n",
       " [56.8775889, -6.1337773],\n",
       " [56.9222615, -6.1420233],\n",
       " [56.9131675, -6.1619473],\n",
       " [56.8779645, -6.1327783],\n",
       " [56.9223021, -6.1480099],\n",
       " [56.8804676, -6.1417635],\n",
       " [56.8777055, -6.1316373],\n",
       " [56.9269519, -6.1439637]]"
      ]
     },
     "execution_count": 7,
     "metadata": {},
     "output_type": "execute_result"
    }
   ],
   "source": [
    "toUsableLatLonList(dct.keys())"
   ]
  },
  {
   "cell_type": "code",
   "execution_count": 8,
   "metadata": {},
   "outputs": [
    {
     "data": {
      "text/plain": [
       "(17, 16)"
      ]
     },
     "execution_count": 8,
     "metadata": {},
     "output_type": "execute_result"
    }
   ],
   "source": [
    "len(listedEiggHotels().values()),len(scores)"
   ]
  },
  {
   "cell_type": "code",
   "execution_count": 9,
   "metadata": {},
   "outputs": [
    {
     "data": {
      "text/plain": [
       "{'56.8775889,-6.1337773': 'The Smiddy',\n",
       " '56.8777055,-6.1316373': 'Clanranald college',\n",
       " '56.8779645,-6.1327783': 'Eigg Camping Pods',\n",
       " '56.8804676,-6.1417635': 'Eigg Eco Centre',\n",
       " '56.888082, -6.137512': 'Amazing Eigg Shed',\n",
       " '56.8889489,-6.1250917': 'Kildonnan house',\n",
       " '56.8902145,-6.1343823': 'Glebe Barn',\n",
       " '56.9017079,-6.1425028': 'Cuagath Bothy',\n",
       " '56.9131675,-6.1619473': 'Laig Beach Bothy',\n",
       " '56.9182625,-6.1554283': 'Laig Caravan',\n",
       " '56.9195159,-6.1484787': 'Lageorna',\n",
       " '56.9214209,-6.1472527': 'Tigh an Sithean – camping cabins & log cabins',\n",
       " '56.922044,-6.1446842': 'Eigg Organics',\n",
       " '56.9222615,-6.1420233': \"Sweeney's Bothy\",\n",
       " '56.9223021,-6.1480099': 'Tigh Eilidh',\n",
       " '56.9252864,-6.1471206': 'Tophouse',\n",
       " '56.9269519,-6.1439637': 'Howlin Cottege'}"
      ]
     },
     "execution_count": 9,
     "metadata": {},
     "output_type": "execute_result"
    }
   ],
   "source": [
    "listedEiggHotels()"
   ]
  },
  {
   "cell_type": "code",
   "execution_count": null,
   "metadata": {
    "collapsed": true
   },
   "outputs": [],
   "source": []
  }
 ],
 "metadata": {
  "kernelspec": {
   "display_name": "Python 3",
   "language": "python",
   "name": "python3"
  },
  "language_info": {
   "codemirror_mode": {
    "name": "ipython",
    "version": 3
   },
   "file_extension": ".py",
   "mimetype": "text/x-python",
   "name": "python",
   "nbconvert_exporter": "python",
   "pygments_lexer": "ipython3",
   "version": "3.6.3"
  }
 },
 "nbformat": 4,
 "nbformat_minor": 2
}
