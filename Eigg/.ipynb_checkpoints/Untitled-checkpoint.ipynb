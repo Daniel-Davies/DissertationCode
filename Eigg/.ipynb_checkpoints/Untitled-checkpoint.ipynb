{
 "cells": [
  {
   "cell_type": "code",
   "execution_count": 1,
   "metadata": {
    "collapsed": true
   },
   "outputs": [],
   "source": [
    "%matplotlib inline\n",
    "# notebook\n",
    "import matplotlib.pylab as pylab\n",
    "import matplotlib.pyplot as plt\n",
    "from collections import Counter\n",
    "import numpy as np\n",
    "import pandas as pd\n",
    "import networkx as nx\n",
    "from math import sin, cos, sqrt, atan2, radians\n",
    "from utils import *\n",
    "from data import *\n",
    "from trophics import *\n",
    "from collections import defaultdict\n",
    "#make the graphs bigger\n",
    "pylab.rcParams['figure.figsize'] = (32.0, 24.0)\n",
    "pylab.rcParams['font.size'] = 24"
   ]
  },
  {
   "cell_type": "code",
   "execution_count": 2,
   "metadata": {},
   "outputs": [
    {
     "name": "stderr",
     "output_type": "stream",
     "text": [
      "C:\\Users\\davie\\Anaconda3\\lib\\site-packages\\IPython\\core\\interactiveshell.py:2862: DtypeWarning: Columns (9,22) have mixed types. Specify dtype option on import or set low_memory=False.\n",
      "  exec(code_obj, self.user_global_ns, self.user_ns)\n"
     ]
    },
    {
     "data": {
      "text/plain": [
       "2982"
      ]
     },
     "execution_count": 2,
     "metadata": {},
     "output_type": "execute_result"
    }
   ],
   "source": [
    "eiggSet = validatedEiggData()\n",
    "eiggSet = eiggSet['Scientific name']\n",
    "eiggSet = set(eiggSet)\n",
    "len(eiggSet)"
   ]
  },
  {
   "cell_type": "code",
   "execution_count": 3,
   "metadata": {
    "collapsed": true
   },
   "outputs": [],
   "source": [
    "def defineNewRowHeadersJaneData(df):\n",
    "    firstNameRow = df.iloc[0].values.tolist()\n",
    "    print(firstNameRow)\n",
    "    secondNameRow = df.iloc[1].values.tolist()\n",
    "    combinesToTuples = list(zip(firstNameRow,secondNameRow))\n",
    "    combinesToTuples = list(filter(lambda x: (type(x[0]) is str) and (type(x[1]) is str), combinesToTuples ))\n",
    "    combinedToSingleNameRow = list(map(lambda x: (x[0].lower()+\" \"+x[1].lower()).strip(), combinesToTuples))\n",
    "\n",
    "    return combinedToSingleNameRow\n",
    "\n",
    "def defineNewColHeadersJaneData(df):\n",
    "    namedCols = list(zip(df.iloc[:,0].values.tolist(),df.iloc[:,1].values.tolist()))\n",
    "    namedCols = namedCols[2:]\n",
    "    namedCols = list(map(lambda x: (x[0],'') if type(x[1]) is not str else x, namedCols))\n",
    "    combinedToSingleNameCol = list(map(lambda x: (x[0].lower()+\" \"+x[1].lower()).strip(), namedCols))\n",
    "\n",
    "    return combinedToSingleNameCol"
   ]
  },
  {
   "cell_type": "code",
   "execution_count": 4,
   "metadata": {},
   "outputs": [
    {
     "name": "stdout",
     "output_type": "stream",
     "text": [
      "[nan, 'plant_ge', nan, 'Prunus', 'Prunus', 'Prunus', 'Prunus', 'Prunus', 'Prunus']\n"
     ]
    }
   ],
   "source": [
    "df = pd.read_excel('./RelevantDatasets/leatherBritain.xls',header=None)\n",
    "cols = defineNewRowHeadersJaneData(df)"
   ]
  },
  {
   "cell_type": "code",
   "execution_count": 5,
   "metadata": {},
   "outputs": [
    {
     "data": {
      "text/plain": [
       "89"
      ]
     },
     "execution_count": 5,
     "metadata": {},
     "output_type": "execute_result"
    }
   ],
   "source": [
    "rows = defineNewColHeadersJaneData(df)\n",
    "len(rows)"
   ]
  },
  {
   "cell_type": "code",
   "execution_count": 6,
   "metadata": {},
   "outputs": [
    {
     "name": "stdout",
     "output_type": "stream",
     "text": [
      "prunus spinosa\n",
      "prunus avium\n"
     ]
    }
   ],
   "source": [
    "for item in cols:\n",
    "    if item in eiggSet:\n",
    "        print(item)"
   ]
  },
  {
   "cell_type": "code",
   "execution_count": 7,
   "metadata": {},
   "outputs": [
    {
     "name": "stdout",
     "output_type": "stream",
     "text": [
      "chloroclysta siterata\n",
      "crocallis elinguaria\n",
      "electrophaes corylata\n",
      "lasiocampa quercus\n",
      "lomographa temerata\n",
      "naenia typica\n",
      "odontopera bidentata\n",
      "operophtera brumata\n",
      "opisthograptis luteolata\n",
      "orthosia gothica\n",
      "orthosia gracilis\n",
      "plagodis pulveraria\n",
      "trichiura crataegi\n",
      "agrochola lota\n",
      "diarsia mendica\n",
      "orgyia antiqua\n",
      "orthosia incerta\n",
      "phalera bucephala\n",
      "saturnia pavonia\n",
      "xestia baja\n",
      "xestia triangulum\n"
     ]
    }
   ],
   "source": [
    "for item in rows:\n",
    "    if item in eiggSet:\n",
    "        print(item)"
   ]
  }
 ],
 "metadata": {
  "kernelspec": {
   "display_name": "Python 3",
   "language": "python",
   "name": "python3"
  },
  "language_info": {
   "codemirror_mode": {
    "name": "ipython",
    "version": 3
   },
   "file_extension": ".py",
   "mimetype": "text/x-python",
   "name": "python",
   "nbconvert_exporter": "python",
   "pygments_lexer": "ipython3",
   "version": "3.6.3"
  }
 },
 "nbformat": 4,
 "nbformat_minor": 2
}
