{
 "cells": [
  {
   "cell_type": "code",
   "execution_count": 1,
   "metadata": {},
   "outputs": [],
   "source": [
    "%matplotlib inline\n",
    "# notebook\n",
    "import matplotlib.pylab as pylab\n",
    "import matplotlib.pyplot as plt\n",
    "from collections import Counter\n",
    "import numpy as np\n",
    "import pandas as pd\n",
    "import networkx as nx\n",
    "from math import sin, cos, sqrt, atan2, radians\n",
    "from utils import *\n",
    "from data import *\n",
    "from trophics import *\n",
    "from collections import defaultdict\n",
    "#make the graphs bigger\n",
    "pylab.rcParams['figure.figsize'] = (32.0, 24.0)\n",
    "pylab.rcParams['font.size'] = 24"
   ]
  },
  {
   "cell_type": "code",
   "execution_count": 38,
   "metadata": {},
   "outputs": [
    {
     "name": "stderr",
     "output_type": "stream",
     "text": [
      "C:\\Users\\davie\\Anaconda3\\lib\\site-packages\\IPython\\core\\interactiveshell.py:2862: DtypeWarning: Columns (9,22) have mixed types. Specify dtype option on import or set low_memory=False.\n",
      "  exec(code_obj, self.user_global_ns, self.user_ns)\n"
     ]
    },
    {
     "data": {
      "text/plain": [
       "3177"
      ]
     },
     "execution_count": 38,
     "metadata": {},
     "output_type": "execute_result"
    }
   ],
   "source": [
    "eiggRawData = eiggRawData()\n",
    "eiggRawData = eiggRawData[\"Scientific name\"].str.lower()\n",
    "eiggRawData = set(eiggRawData)\n",
    "len(eiggRawData)"
   ]
  },
  {
   "cell_type": "code",
   "execution_count": null,
   "metadata": {
    "collapsed": true
   },
   "outputs": [],
   "source": []
  },
  {
   "cell_type": "code",
   "execution_count": 122,
   "metadata": {},
   "outputs": [
    {
     "name": "stderr",
     "output_type": "stream",
     "text": [
      "C:\\Users\\davie\\Anaconda3\\lib\\site-packages\\ipykernel_launcher.py:71: DtypeWarning: Columns (9,22) have mixed types. Specify dtype option on import or set low_memory=False.\n"
     ]
    },
    {
     "name": "stdout",
     "output_type": "stream",
     "text": [
      "WEB10.PRN\n",
      "WEB100.PRN\n",
      "WEB101.PRN\n",
      "WEB104.PRN\n",
      "WEB106.PRN\n",
      "WEB107.PRN\n",
      "WEB11.PRN\n",
      "WEB110.PRN\n",
      "WEB111.PRN\n",
      "WEB112.PRN\n",
      "WEB114.PRN\n",
      "WEB115.PRN\n",
      "WEB119.PRN\n",
      "WEB120.PRN\n",
      "WEB122.PRN\n",
      "WEB123.PRN\n",
      "WEB126.PRN\n",
      "WEB127.PRN\n",
      "WEB128.PRN\n",
      "WEB129.PRN\n",
      "WEB130.PRN\n",
      "WEB131.PRN\n",
      "WEB132.PRN\n",
      "WEB133.PRN\n",
      "WEB134.PRN\n",
      "WEB135.PRN\n",
      "WEB136.PRN\n",
      "WEB137.PRN\n",
      "WEB138.PRN\n",
      "WEB139.PRN\n",
      "WEB14.PRN\n",
      "WEB140.PRN\n",
      "WEB141.PRN\n",
      "WEB142.PRN\n",
      "WEB143.PRN\n",
      "WEB144.PRN\n",
      "WEB146.PRN\n",
      "WEB149.PRN\n",
      "WEB15.PRN\n",
      "WEB150.PRN\n",
      "WEB151.PRN\n",
      "WEB152.PRN\n",
      "WEB153.PRN\n",
      "WEB154.PRN\n",
      "WEB16.PRN\n",
      "WEB167.PRN\n",
      "WEB168.PRN\n",
      "WEB169.PRN\n",
      "WEB17.PRN\n",
      "WEB18.PRN\n",
      "WEB180.PRN\n",
      "WEB181.PRN\n",
      "WEB182.PRN\n",
      "WEB183.PRN\n",
      "WEB186.PRN\n",
      "WEB187.PRN\n",
      "WEB188.PRN\n",
      "WEB189.PRN\n",
      "WEB19.PRN\n",
      "WEB190.PRN\n",
      "WEB191.PRN\n",
      "WEB192.PRN\n",
      "WEB193.PRN\n",
      "WEB194.PRN\n",
      "WEB195.PRN\n",
      "WEB196.PRN\n",
      "WEB197.PRN\n",
      "WEB198.PRN\n",
      "WEB2.PRN\n",
      "WEB20.PRN\n",
      "WEB200.PRN\n",
      "WEB201.PRN\n",
      "WEB203.PRN\n",
      "WEB204.PRN\n",
      "WEB206.PRN\n",
      "WEB207.PRN\n",
      "WEB208.PRN\n",
      "WEB209.PRN\n",
      "WEB210.PRN\n",
      "WEB213.PRN\n",
      "WEB22.PRN\n",
      "WEB23.PRN\n",
      "WEB24.PRN\n",
      "WEB25.PRN\n",
      "WEB26.PRN\n",
      "WEB27.PRN\n",
      "WEB28.PRN\n",
      "WEB29.PRN\n",
      "WEB3.PRN\n",
      "WEB30.PRN\n",
      "WEB31.PRN\n",
      "WEB32.PRN\n",
      "WEB33.PRN\n",
      "WEB34.PRN\n",
      "WEB35.PRN\n",
      "WEB36.PRN\n",
      "WEB37.PRN\n",
      "WEB38.PRN\n",
      "WEB39.PRN\n",
      "WEB4.PRN\n",
      "WEB40.PRN\n",
      "WEB41.PRN\n",
      "WEB42.PRN\n",
      "WEB43.PRN\n",
      "WEB44.PRN\n",
      "WEB45.PRN\n",
      "WEB46.PRN\n",
      "WEB47.PRN\n",
      "WEB48.PRN\n",
      "WEB49.PRN\n",
      "WEB5.PRN\n",
      "WEB51.PRN\n",
      "WEB52.PRN\n",
      "WEB53.PRN\n",
      "WEB54.PRN\n",
      "WEB55.PRN\n",
      "WEB56.PRN\n",
      "WEB58.PRN\n",
      "WEB59.PRN\n",
      "WEB6.PRN\n",
      "WEB60.PRN\n",
      "WEB61.PRN\n",
      "WEB62.PRN\n",
      "WEB64.PRN\n",
      "WEB68.PRN\n",
      "WEB69.PRN\n",
      "WEB7.PRN\n",
      "WEB70.PRN\n",
      "WEB72.PRN\n",
      "WEB74.PRN\n",
      "WEB76.PRN\n",
      "WEB78.PRN\n",
      "WEB79.PRN\n",
      "WEB8.PRN\n",
      "WEB80.PRN\n",
      "WEB81.PRN\n",
      "WEB83.PRN\n",
      "WEB85.PRN\n",
      "WEB87.PRN\n",
      "WEB89.PRN\n",
      "WEB9.PRN\n",
      "WEB92.PRN\n",
      "WEB94.PRN\n",
      "WEB95.PRN\n",
      "WEB98.PRN\n",
      "WEB99.PRN\n"
     ]
    }
   ],
   "source": [
    "from io import StringIO\n",
    "    \n",
    "def standardiseNames(name):\n",
    "    name = name.replace('\"', '')\n",
    "    name = name.replace(\"'\",'')\n",
    "    name = name.replace(\"?\",'')\n",
    "    name = name.split(\"/\")\n",
    "    name = name[0]\n",
    "    name = re.sub(r'\\([^)]*\\)', '', name)\n",
    "    name = name.strip()\n",
    "    name = name.lower()\n",
    "    return name\n",
    "\n",
    "def getFileID(fileId):\n",
    "    return standardiseNames(fileId.decode(\"utf-8\")).split(\" \")[0]\n",
    "\n",
    "def prnFileReader():\n",
    "    eiggRawData = validatedEiggData()\n",
    "    scientificNames = eiggRawData[\"Scientific name\"].str.lower()\n",
    "    commonNames = eiggRawData[\"Common name\"].str.lower()\n",
    "    convertCommonNameToScientific = dict(zip(commonNames,scientificNames))\n",
    "    aggregated = []\n",
    "    filesToProcess = getTestFiles()\n",
    "    aggregated = []\n",
    "    for f in filesToProcess:\n",
    "        with open(\"./prnTest/\"+f, 'rb') as file:\n",
    "            content = (file.readlines())\n",
    "\n",
    "        fileId = getFileID(content[0])\n",
    "\n",
    "        content = content[1:-1]\n",
    "        content = list(map(lambda x: x.strip().decode(\"utf-8\"),content))\n",
    "        content = list(map(lambda x: \" \".join(x.split(\" \")[1:3]), content))\n",
    "        content = list(map(lambda x: standardiseNames(x),content))\n",
    "\n",
    "        matrixCorresponding = None\n",
    "        try:\n",
    "            with open(\"./RelevantDatasets/ECOWeB1.1/ECOWeB1.1/DATFILES/COMMUNITY/WEB\"+fileId+\".DAT\", 'rb') as matrix:\n",
    "                matrixCorresponding = matrix.readlines()\n",
    "        except Exception as e:\n",
    "            continue\n",
    "\n",
    "        matrixCorresponding = matrixCorresponding[:-1]\n",
    "        matrixCorresponding = list(map(lambda x: x.decode(\"utf-8\").strip().split(\" \"),matrixCorresponding))\n",
    "        matrixCorresponding = [list(filter(lambda y: len(y)>0,x)) for x in matrixCorresponding]\n",
    "        matrixCorresponding = [list(map(lambda y: int(y),x)) for x in matrixCorresponding]\n",
    "\n",
    "        colHeader = matrixCorresponding[0][1:]\n",
    "        rowHeader = list(map(lambda x: x[0],matrixCorresponding[1:]))\n",
    "\n",
    "        colHeader = list(map(lambda x: content[x-1],colHeader))\n",
    "        rowHeader = list(map(lambda x: content[x-1],rowHeader))\n",
    "\n",
    "        colHeader = list(map(lambda x: convertCommonNameToScientific[x] if x in convertCommonNameToScientific else x,colHeader))\n",
    "        rowHeader = list(map(lambda x: convertCommonNameToScientific[x] if x in convertCommonNameToScientific else x,rowHeader))\n",
    "\n",
    "        matrixCorresponding = matrixCorresponding[1:]\n",
    "\n",
    "        data = pd.DataFrame(matrixCorresponding,columns=[\"species\"]+colHeader)\n",
    "        data['species'] = data['species'].apply(lambda x: rowHeader[int(x)-1])\n",
    "        aggregated.append(crushMatrixToDict(data))\n",
    "        \n",
    "    return aggregateDataSets(aggregated)\n",
    "\n",
    "def getTestFiles():\n",
    "    return os.listdir('C:/Users/davie/Desktop/Masters/Dissertation/Code/DissertationCode/Eigg/prnTest')    \n",
    "\n",
    "all = prnFileReader()"
   ]
  },
  {
   "cell_type": "code",
   "execution_count": 26,
   "metadata": {},
   "outputs": [
    {
     "name": "stderr",
     "output_type": "stream",
     "text": [
      "C:\\Users\\davie\\Anaconda3\\lib\\site-packages\\IPython\\core\\interactiveshell.py:2862: DtypeWarning: Columns (9,22) have mixed types. Specify dtype option on import or set low_memory=False.\n",
      "  exec(code_obj, self.user_global_ns, self.user_ns)\n"
     ]
    },
    {
     "data": {
      "text/html": [
       "<div>\n",
       "<style>\n",
       "    .dataframe thead tr:only-child th {\n",
       "        text-align: right;\n",
       "    }\n",
       "\n",
       "    .dataframe thead th {\n",
       "        text-align: left;\n",
       "    }\n",
       "\n",
       "    .dataframe tbody tr th {\n",
       "        vertical-align: top;\n",
       "    }\n",
       "</style>\n",
       "<table border=\"1\" class=\"dataframe\">\n",
       "  <thead>\n",
       "    <tr style=\"text-align: right;\">\n",
       "      <th></th>\n",
       "      <th>Recorder</th>\n",
       "      <th>Latitude (WGS84)</th>\n",
       "      <th>Longitude (WGS84)</th>\n",
       "      <th>Start date year</th>\n",
       "      <th>End date year</th>\n",
       "      <th>Scientific name</th>\n",
       "      <th>Common name</th>\n",
       "    </tr>\n",
       "  </thead>\n",
       "  <tbody>\n",
       "    <tr>\n",
       "      <th>0</th>\n",
       "      <td>unknown</td>\n",
       "      <td>56.902729</td>\n",
       "      <td>-6.15936</td>\n",
       "      <td>1905.0</td>\n",
       "      <td>NaN</td>\n",
       "      <td>meloe violaceus</td>\n",
       "      <td>Violet Oil-beetle</td>\n",
       "    </tr>\n",
       "    <tr>\n",
       "      <th>1</th>\n",
       "      <td>Frank Balfour-Browne</td>\n",
       "      <td>56.899200</td>\n",
       "      <td>-6.19759</td>\n",
       "      <td>1910.0</td>\n",
       "      <td>1910.0</td>\n",
       "      <td>rhantus suturellus</td>\n",
       "      <td>NaN</td>\n",
       "    </tr>\n",
       "    <tr>\n",
       "      <th>2</th>\n",
       "      <td>Frank Balfour-Browne</td>\n",
       "      <td>56.899200</td>\n",
       "      <td>-6.19759</td>\n",
       "      <td>1910.0</td>\n",
       "      <td>1910.0</td>\n",
       "      <td>gyrinus substriatus</td>\n",
       "      <td>NaN</td>\n",
       "    </tr>\n",
       "    <tr>\n",
       "      <th>3</th>\n",
       "      <td>Frank Balfour-Browne</td>\n",
       "      <td>56.899200</td>\n",
       "      <td>-6.19759</td>\n",
       "      <td>1910.0</td>\n",
       "      <td>1910.0</td>\n",
       "      <td>enochrus fuscipennis</td>\n",
       "      <td>NaN</td>\n",
       "    </tr>\n",
       "    <tr>\n",
       "      <th>4</th>\n",
       "      <td>Frank Balfour-Browne</td>\n",
       "      <td>56.899200</td>\n",
       "      <td>-6.19759</td>\n",
       "      <td>1910.0</td>\n",
       "      <td>1910.0</td>\n",
       "      <td>boreonectes multilineatus</td>\n",
       "      <td>NaN</td>\n",
       "    </tr>\n",
       "  </tbody>\n",
       "</table>\n",
       "</div>"
      ],
      "text/plain": [
       "               Recorder  Latitude (WGS84)  Longitude (WGS84)  Start date year  \\\n",
       "0               unknown         56.902729           -6.15936           1905.0   \n",
       "1  Frank Balfour-Browne         56.899200           -6.19759           1910.0   \n",
       "2  Frank Balfour-Browne         56.899200           -6.19759           1910.0   \n",
       "3  Frank Balfour-Browne         56.899200           -6.19759           1910.0   \n",
       "4  Frank Balfour-Browne         56.899200           -6.19759           1910.0   \n",
       "\n",
       "   End date year            Scientific name        Common name  \n",
       "0            NaN            meloe violaceus  Violet Oil-beetle  \n",
       "1         1910.0         rhantus suturellus                NaN  \n",
       "2         1910.0        gyrinus substriatus                NaN  \n",
       "3         1910.0       enochrus fuscipennis                NaN  \n",
       "4         1910.0  boreonectes multilineatus                NaN  "
      ]
     },
     "execution_count": 26,
     "metadata": {},
     "output_type": "execute_result"
    }
   ],
   "source": [
    "rawEiggData = validatedEiggData()\n",
    "rawEiggData.head()"
   ]
  },
  {
   "cell_type": "code",
   "execution_count": 3,
   "metadata": {},
   "outputs": [
    {
     "name": "stderr",
     "output_type": "stream",
     "text": [
      "C:\\Users\\davie\\Anaconda3\\lib\\site-packages\\ipykernel_launcher.py:1: DtypeWarning: Columns (2,8,12,13,22,26,27,41,44) have mixed types. Specify dtype option on import or set low_memory=False.\n",
      "  \"\"\"Entry point for launching an IPython kernel.\n",
      "C:\\Users\\davie\\Desktop\\Masters\\Dissertation\\Code\\DissertationCode\\Eigg\\trophics.py:20: DtypeWarning: Columns (9,22) have mixed types. Specify dtype option on import or set low_memory=False.\n",
      "  dataSetFunctions = [readFreshwaterData(),read2018GlobalDatabaseData(),readSorensenData(),readJanesData()]\n"
     ]
    },
    {
     "data": {
      "text/plain": [
       "4284"
      ]
     },
     "execution_count": 3,
     "metadata": {},
     "output_type": "execute_result"
    }
   ],
   "source": [
    "foodWeb = retrieveCollatedFoodWeb()\n",
    "len(foodWeb)"
   ]
  },
  {
   "cell_type": "code",
   "execution_count": 4,
   "metadata": {},
   "outputs": [
    {
     "name": "stdout",
     "output_type": "stream",
     "text": [
      "5495\n"
     ]
    }
   ],
   "source": [
    "overall = set()\n",
    "\n",
    "for item in foodWeb:\n",
    "    item = item.split(\" \")\n",
    "    item = \" \".join(item[:2])\n",
    "    overall.add(item)\n",
    "\n",
    "for fw in foodWeb:\n",
    "    v = foodWeb[fw]\n",
    "    for item in v:\n",
    "        item = item.split(\" \")\n",
    "        item = \" \".join(item[:2])\n",
    "        overall.add(item)\n",
    "\n",
    "print(len(overall))"
   ]
  },
  {
   "cell_type": "code",
   "execution_count": 31,
   "metadata": {},
   "outputs": [
    {
     "name": "stdout",
     "output_type": "stream",
     "text": [
      "0.09148665819567979\n"
     ]
    }
   ],
   "source": [
    "eiggSpecies = rawEiggData['Scientific name'].str.lower()\n",
    "eiggSpecies = set(eiggSpecies)\n",
    "\n",
    "iset = set()\n",
    "animalsTotal = len(eiggSpecies)\n",
    "totalFound = 0\n",
    "for item in eiggSpecies:\n",
    "    if item in overall:\n",
    "        iset.add(item)\n",
    "        totalFound += 1\n",
    "    \n",
    "\n",
    "print(totalFound / animalsTotal)"
   ]
  },
  {
   "cell_type": "code",
   "execution_count": 32,
   "metadata": {},
   "outputs": [
    {
     "data": {
      "text/plain": [
       "288"
      ]
     },
     "execution_count": 32,
     "metadata": {},
     "output_type": "execute_result"
    }
   ],
   "source": [
    "len(iset)"
   ]
  }
 ],
 "metadata": {
  "kernelspec": {
   "display_name": "Python 3",
   "language": "python",
   "name": "python3"
  },
  "language_info": {
   "codemirror_mode": {
    "name": "ipython",
    "version": 3
   },
   "file_extension": ".py",
   "mimetype": "text/x-python",
   "name": "python",
   "nbconvert_exporter": "python",
   "pygments_lexer": "ipython3",
   "version": "3.6.3"
  }
 },
 "nbformat": 4,
 "nbformat_minor": 2
}
