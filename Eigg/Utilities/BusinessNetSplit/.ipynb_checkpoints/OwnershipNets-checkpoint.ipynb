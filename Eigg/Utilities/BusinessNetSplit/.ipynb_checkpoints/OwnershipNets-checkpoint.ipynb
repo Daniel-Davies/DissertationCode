{
 "cells": [
  {
   "cell_type": "code",
   "execution_count": 1,
   "metadata": {
    "collapsed": true
   },
   "outputs": [],
   "source": [
    "%matplotlib inline\n",
    "import matplotlib.pylab as pylab\n",
    "import matplotlib.pyplot as plt\n",
    "from collections import Counter\n",
    "import numpy as np\n",
    "import pandas as pd\n",
    "import networkx as nx\n",
    "from math import sin, cos, sqrt, atan2, radians\n",
    "from ownershipNet import *\n",
    "#make the graphs bigger\n",
    "pylab.rcParams['figure.figsize'] = (32.0, 24.0)\n",
    "pylab.rcParams['font.size'] = 24"
   ]
  },
  {
   "cell_type": "code",
   "execution_count": null,
   "metadata": {
    "collapsed": true
   },
   "outputs": [],
   "source": [
    "def buildNamedBusinessGraph(data):\n",
    "    G = nx.Graph()\n",
    "    names = data.keys()\n",
    "    for k,i in enumerate(names): G.add_node(i)\n",
    "        \n",
    "    for name1 in names:\n",
    "        for name2 in names:\n",
    "            if name1 != name2 and len(list(set(data[name1]) & set(data[name2]))):\n",
    "                G.add_edge(name1,name2)\n",
    "    \n",
    "    labels={}\n",
    "    for k,i in enumerate(names): labels[i] = i\n",
    "    return G, labels\n",
    "\n",
    "def buildBusinessGraph(data):\n",
    "    G = nx.Graph()\n",
    "    names = data.keys()\n",
    "    businesses = list(Counter([item for sublist in data.values() for item in sublist]).keys())\n",
    "    \n",
    "    businessMembers = defaultdict(list)\n",
    "    for b in businesses:\n",
    "        for name in names:\n",
    "            if b in data[name]:\n",
    "                businessMembers[b].append(name)\n",
    "            \n",
    "    businessList = businessMembers.keys()\n",
    "    for k,i in enumerate(businessList): G.add_node(i)\n",
    "    for b1 in businessList:\n",
    "        for b2 in businessList:\n",
    "            if b1 != b2 and len(list(set(businessMembers[b1]) & set(businessMembers[b2]))):\n",
    "                G.add_edge(b1,b2)\n",
    "    \n",
    "    labels={}\n",
    "    for k,i in enumerate(businessList): labels[i] = i\n",
    "    return G, labels"
   ]
  },
  {
   "cell_type": "markdown",
   "metadata": {},
   "source": [
    "# Base owners' network"
   ]
  },
  {
   "cell_type": "code",
   "execution_count": null,
   "metadata": {
    "collapsed": true
   },
   "outputs": [],
   "source": []
  }
 ],
 "metadata": {
  "kernelspec": {
   "display_name": "Python 3",
   "language": "python",
   "name": "python3"
  },
  "language_info": {
   "codemirror_mode": {
    "name": "ipython",
    "version": 3
   },
   "file_extension": ".py",
   "mimetype": "text/x-python",
   "name": "python",
   "nbconvert_exporter": "python",
   "pygments_lexer": "ipython3",
   "version": "3.6.3"
  }
 },
 "nbformat": 4,
 "nbformat_minor": 2
}
