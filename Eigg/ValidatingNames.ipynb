{
 "cells": [
  {
   "cell_type": "code",
   "execution_count": 36,
   "metadata": {
    "collapsed": true
   },
   "outputs": [],
   "source": [
    "import json\n",
    "import requests\n",
    "import time\n",
    "from data import *\n",
    "import pickle"
   ]
  },
  {
   "cell_type": "code",
   "execution_count": 43,
   "metadata": {},
   "outputs": [
    {
     "name": "stderr",
     "output_type": "stream",
     "text": [
      "C:\\Users\\davie\\Anaconda3\\lib\\site-packages\\IPython\\core\\interactiveshell.py:2862: DtypeWarning: Columns (9,22) have mixed types. Specify dtype option on import or set low_memory=False.\n",
      "  exec(code_obj, self.user_global_ns, self.user_ns)\n"
     ]
    },
    {
     "data": {
      "text/plain": [
       "2460"
      ]
     },
     "execution_count": 43,
     "metadata": {},
     "output_type": "execute_result"
    }
   ],
   "source": [
    "eiggRawData = eiggRawData()\n",
    "eiggRawData = eiggRawData[\"Scientific name\"].str.lower()\n",
    "eiggRawData = set(eiggRawData)\n",
    "len(eiggRawData)"
   ]
  },
  {
   "cell_type": "code",
   "execution_count": 65,
   "metadata": {},
   "outputs": [],
   "source": [
    "def preparedName(name,limit):\n",
    "    name = name.split(\" \")[:limit]\n",
    "    return \"+\".join(name)\n",
    "\n",
    "def validateSingleName(name,limit=100):\n",
    "    callToValidateName = requests.get('http://resolver.globalnames.org/name_resolvers.json?names='+preparedName(name,limit))\n",
    "    jsonRes = callToValidateName.json()['data'][0]\n",
    "    #time.sleep(2)    =>  Politeness for server\n",
    "    try:\n",
    "        if not jsonRes['is_known_name']:\n",
    "            return jsonRes['results']['canonical_form']\n",
    "        else:\n",
    "            return \" \".join(name.split(\" \")[:limit])\n",
    "    except:\n",
    "        print(\"error occured at \"+name)\n",
    "        return name+\" error_loc\"\n",
    "\n",
    "def validateListedEiggSpecies(speciesList):\n",
    "    for species in eiggRawData:\n",
    "        indivResult = validateSingleName(species)\n",
    "        validatedSpeciesResultDict[species] = indivResult\n",
    "    \n",
    "    print(len(validatedSpeciesResultDict))\n",
    "    with open(\"PartialEiggVerified\",'wb') as f:\n",
    "        pickle.dump(validatedSpeciesResultDict,f)\n",
    "        \n",
    "    failedComputations = list(filter(lambda x: \"error_loc\" in validatedSpeciesResultDict[x],validatedSpeciesResultDict.keys()))\n",
    "    return failedComputations"
   ]
  },
  {
   "cell_type": "code",
   "execution_count": 45,
   "metadata": {
    "collapsed": true
   },
   "outputs": [],
   "source": [
    "validateListedEiggSpecies(eiggRawData)"
   ]
  },
  {
   "cell_type": "markdown",
   "metadata": {},
   "source": [
    "# How do we deal with these 113 failed entries?\n",
    "\n",
    "Doing it manually feels wrong...Google searching 113 records doesn't seem appealing\n",
    "\n",
    "We can notice; the first two keywords of the phrase indicate the species. Anything after that, which is what destroys the APIs ability to tell if it's correct, is metadata.\n",
    "\n",
    "Hence let's refire the requests, but only on the first two keywords"
   ]
  },
  {
   "cell_type": "code",
   "execution_count": 47,
   "metadata": {},
   "outputs": [
    {
     "data": {
      "text/plain": [
       "113"
      ]
     },
     "execution_count": 47,
     "metadata": {},
     "output_type": "execute_result"
    }
   ],
   "source": [
    "failedComputationDict = dict(zip(failedComputations, failedComputations))\n",
    "len(failedComputationDict)"
   ]
  },
  {
   "cell_type": "code",
   "execution_count": 67,
   "metadata": {},
   "outputs": [
    {
     "name": "stdout",
     "output_type": "stream",
     "text": [
      "error occured at trochulus (trochulus) hispidus\n",
      "error occured at porifera indet crusts\n",
      "error occured at cochlicopa cf. lubricella\n",
      "error occured at euconulus agg.\n",
      "error occured at anisus (anisus) leucostoma\n",
      "error occured at diatoms colonial\n",
      "error occured at rhodophycota indet. (non-calc. crusts)\n",
      "error occured at taraxacum agg.\n",
      "error occured at aphodius fimetarius/pedellus agg.\n",
      "error occured at lichenicolous fungus (unidentified)\n",
      "error occured at cochlicopa cf. lubrica\n",
      "error occured at trochulus (trochulus) striolatus\n",
      "error occured at maerl indet\n",
      "error occured at bryozoa indet crusts\n",
      "error occured at euconulus (euconulus) cf. fulvus\n",
      "error occured at lichen (unidentified)\n",
      "error occured at notonecta (notonecta) obliqua\n",
      "error occured at filamentous brown algae\n",
      "error occured at leiostyla (leiostyla) anglica\n",
      "error occured at rubus sect. corylifolii\n",
      "error occured at anthus spinoletta/petrosus agg.\n",
      "error occured at lithobius (lithobius) forficatus\n",
      "error occured at gyraulus (armiger) crista\n",
      "error occured at cochlicella (cochlicella) acuta\n",
      "error occured at haliclona (rhizoniera) viscosa\n",
      "error occured at columella agg.\n",
      "error occured at diatoms film\n",
      "error occured at encrusting algae indet.\n",
      "error occured at zostera (zostera) marina\n",
      "error occured at porania (porania) pulvillus\n",
      "error occured at platyhypnidium ripariodes\n",
      "error occured at vertebrata fucoides\n"
     ]
    }
   ],
   "source": [
    "amendedDict = {}\n",
    "failed = []\n",
    "for failedName in failedComputationDict:\n",
    "    validatedName = validateSingleName(failedName,2)\n",
    "    if \"error_loc\" in validatedName:\n",
    "        failed.append(failedName)\n",
    "    else:\n",
    "        amendedDict[failedName] = validatedName"
   ]
  },
  {
   "cell_type": "code",
   "execution_count": 68,
   "metadata": {},
   "outputs": [
    {
     "name": "stdout",
     "output_type": "stream",
     "text": [
      "carex hostiana\n"
     ]
    }
   ],
   "source": [
    "len(amendedDict)\n",
    "print(amendedDict['carex hostiana x viridula = c. x fulva'])"
   ]
  },
  {
   "cell_type": "markdown",
   "metadata": {},
   "source": [
    "# Result\n",
    "\n",
    "We saved 81 of the 113 errored plants. The tradeoff was technically some useful information- the metadata we saw, such as \"x fragilis\"- a specific type of the species we are studying.\n",
    "\n",
    "However, we will proceed with the assumption that animals don't particularly care what type of species something is, if it will be their dinner. E.g. a grasshopper won't particularly care what specific type of wheat it eats; as long as it's the same species, it will be valid in the food chain."
   ]
  },
  {
   "cell_type": "markdown",
   "metadata": {},
   "source": [
    "## I will fix the rest manually"
   ]
  },
  {
   "cell_type": "code",
   "execution_count": 69,
   "metadata": {},
   "outputs": [
    {
     "data": {
      "text/plain": [
       "['trochulus (trochulus) hispidus',\n",
       " 'porifera indet crusts',\n",
       " 'cochlicopa cf. lubricella',\n",
       " 'euconulus agg.',\n",
       " 'anisus (anisus) leucostoma',\n",
       " 'diatoms colonial',\n",
       " 'rhodophycota indet. (non-calc. crusts)',\n",
       " 'taraxacum agg.',\n",
       " 'aphodius fimetarius/pedellus agg.',\n",
       " 'lichenicolous fungus (unidentified)',\n",
       " 'cochlicopa cf. lubrica',\n",
       " 'trochulus (trochulus) striolatus',\n",
       " 'maerl indet',\n",
       " 'bryozoa indet crusts',\n",
       " 'euconulus (euconulus) cf. fulvus',\n",
       " 'lichen (unidentified)',\n",
       " 'notonecta (notonecta) obliqua',\n",
       " 'filamentous brown algae',\n",
       " 'leiostyla (leiostyla) anglica',\n",
       " 'rubus sect. corylifolii',\n",
       " 'anthus spinoletta/petrosus agg.',\n",
       " 'lithobius (lithobius) forficatus',\n",
       " 'gyraulus (armiger) crista',\n",
       " 'cochlicella (cochlicella) acuta',\n",
       " 'haliclona (rhizoniera) viscosa',\n",
       " 'columella agg.',\n",
       " 'diatoms film',\n",
       " 'encrusting algae indet.',\n",
       " 'zostera (zostera) marina',\n",
       " 'porania (porania) pulvillus',\n",
       " 'platyhypnidium ripariodes',\n",
       " 'vertebrata fucoides']"
      ]
     },
     "execution_count": 69,
     "metadata": {},
     "output_type": "execute_result"
    }
   ],
   "source": [
    "failed"
   ]
  },
  {
   "cell_type": "code",
   "execution_count": 70,
   "metadata": {
    "collapsed": true
   },
   "outputs": [],
   "source": [
    "amendedDict['trochulus (trochulus) hispidus'] = 'trochulus hispidus'\n",
    "amendedDict['porifera indet crusts'] = 'porifera indet crusts' #essentially a sea sponge- not recognized by resolver\n",
    "amendedDict['cochlicopa cf. lubricella'] = 'cochlicopa lubricella'\n",
    "amendedDict['anisus (anisus) leucostoma'] = 'anisus leucostoma'\n",
    "amendedDict['rhodophycota indet. (non-calc. crusts)'] = 'rhodophycota'\n",
    "amendedDict['taraxacum agg.'] = 'taraxacum officinale'\n",
    "amendedDict['aphodius fimetarius/pedellus agg.'] = 'aphodius fimetarius'\n",
    "amendedDict['cochlicopa cf. lubrica'] = 'cochlicopa lubrica'\n",
    "amendedDict['trochulus (trochulus) striolatus'] = 'trochulus striolatus'\n",
    "amendedDict['maerl indet'] = 'maerl'\n",
    "amendedDict['bryozoa indet crusts'] = 'bryozoa'\n",
    "amendedDict['euconulus (euconulus) cf. fulvus'] = 'euconulus fulvus'\n",
    "amendedDict['notonecta (notonecta) obliqua'] = 'notonecta obliqua'\n",
    "amendedDict['leiostyla (leiostyla) anglica'] = 'leiostyla anglica'\n",
    "amendedDict['anthus spinoletta/petrosus agg.'] = 'anthus spinoletta'\n",
    "amendedDict['lithobius (lithobius) forficatus'] = 'lithobius forficatus'\n",
    "amendedDict['gyraulus (armiger) crista'] = 'gyraulus crista'\n",
    "amendedDict['cochlicella (cochlicella) acuta'] = 'cochlicella acuta'\n",
    "amendedDict['haliclona (rhizoniera) viscosa'] = 'haliclona viscosa'\n",
    "amendedDict['columella agg.'] = 'columella'\n",
    "amendedDict['zostera (zostera) marina'] = 'zostera marina'\n",
    "amendedDict['porania (porania) pulvillus'] = 'porania pulvillus'\n",
    "amendedDict['platyhypnidium ripariodes'] = 'platyhypnidium ripariodes'\n",
    "amendedDict['vertebrata fucoides'] = 'vertebrata fucoides'"
   ]
  },
  {
   "cell_type": "code",
   "execution_count": 71,
   "metadata": {},
   "outputs": [
    {
     "data": {
      "text/plain": [
       "105"
      ]
     },
     "execution_count": 71,
     "metadata": {},
     "output_type": "execute_result"
    }
   ],
   "source": [
    "len(amendedDict)"
   ]
  },
  {
   "cell_type": "code",
   "execution_count": 75,
   "metadata": {
    "collapsed": true
   },
   "outputs": [],
   "source": [
    "fullSpeciesOfEiggDict = {}\n",
    "\n",
    "with open(\"PartialEiggVerified\",'rb') as f:\n",
    "    partialDict = pickle.load(f)\n",
    "\n",
    "for item in partialDict:\n",
    "    if \"error_loc\" not in partialDict[item]:\n",
    "        fullSpeciesOfEiggDict[item] = partialDict[item]\n",
    "    \n",
    "for item in amendedDict:\n",
    "    fullSpeciesOfEiggDict[item] = amendedDict[item]\n",
    "    \n",
    "with open(\"EiggVerifiedSpeciesList\",'wb') as f:\n",
    "    pickle.dump(fullSpeciesOfEiggDict,f)\n"
   ]
  },
  {
   "cell_type": "code",
   "execution_count": 76,
   "metadata": {},
   "outputs": [
    {
     "data": {
      "text/plain": [
       "'carex hostiana'"
      ]
     },
     "execution_count": 76,
     "metadata": {},
     "output_type": "execute_result"
    }
   ],
   "source": [
    "fullSpeciesOfEiggDict['carex hostiana x viridula = c. x fulva']"
   ]
  },
  {
   "cell_type": "code",
   "execution_count": 77,
   "metadata": {},
   "outputs": [
    {
     "data": {
      "text/plain": [
       "2452"
      ]
     },
     "execution_count": 77,
     "metadata": {},
     "output_type": "execute_result"
    }
   ],
   "source": [
    "len(fullSpeciesOfEiggDict)"
   ]
  },
  {
   "cell_type": "code",
   "execution_count": 78,
   "metadata": {},
   "outputs": [
    {
     "name": "stdout",
     "output_type": "stream",
     "text": [
      "2452\n"
     ]
    }
   ],
   "source": [
    "with open(\"EiggVerifiedSpeciesList\",'rb') as f:\n",
    "    testingPickleWrite = pickle.load(f)\n",
    "    \n",
    "print(len(testingPickleWrite))"
   ]
  }
 ],
 "metadata": {
  "kernelspec": {
   "display_name": "Python 3",
   "language": "python",
   "name": "python3"
  },
  "language_info": {
   "codemirror_mode": {
    "name": "ipython",
    "version": 3
   },
   "file_extension": ".py",
   "mimetype": "text/x-python",
   "name": "python",
   "nbconvert_exporter": "python",
   "pygments_lexer": "ipython3",
   "version": "3.6.3"
  }
 },
 "nbformat": 4,
 "nbformat_minor": 2
}
