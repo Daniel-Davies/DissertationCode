{
 "cells": [
  {
   "cell_type": "code",
   "execution_count": 3,
   "metadata": {
    "collapsed": true
   },
   "outputs": [],
   "source": [
    "import json\n",
    "import requests\n",
    "import time\n",
    "from data import *\n",
    "import pickle"
   ]
  },
  {
   "cell_type": "code",
   "execution_count": 4,
   "metadata": {},
   "outputs": [
    {
     "name": "stderr",
     "output_type": "stream",
     "text": [
      "C:\\Users\\davie\\Anaconda3\\lib\\site-packages\\IPython\\core\\interactiveshell.py:2862: DtypeWarning: Columns (9,22) have mixed types. Specify dtype option on import or set low_memory=False.\n",
      "  exec(code_obj, self.user_global_ns, self.user_ns)\n"
     ]
    },
    {
     "data": {
      "text/plain": [
       "3177"
      ]
     },
     "execution_count": 4,
     "metadata": {},
     "output_type": "execute_result"
    }
   ],
   "source": [
    "eiggRawData = eiggRawData()\n",
    "eiggRawData = eiggRawData[\"Scientific name\"].str.lower()\n",
    "eiggRawData = set(eiggRawData)\n",
    "len(eiggRawData)"
   ]
  },
  {
   "cell_type": "code",
   "execution_count": null,
   "metadata": {},
   "outputs": [],
   "source": [
    "def preparedName(name,limit):\n",
    "    name = name.split(\" \")[:limit]\n",
    "    return \"+\".join(name)\n",
    "\n",
    "def validateSingleName(name,limit=100):\n",
    "    callToValidateName = requests.get('http://resolver.globalnames.org/name_resolvers.json?names='+preparedName(name,limit))\n",
    "    jsonRes = callToValidateName.json()['data'][0]\n",
    "    #time.sleep(2)    =>  Politeness for server\n",
    "    try:\n",
    "        if not jsonRes['is_known_name']:\n",
    "            return jsonRes['results']['canonical_form']\n",
    "        else:\n",
    "            return \" \".join(name.split(\" \")[:limit])\n",
    "    except:\n",
    "        print(\"error occured at \"+name)\n",
    "        return name+\" error_loc\"\n",
    "\n",
    "def validateListedEiggSpecies(speciesList):\n",
    "    validatedSpeciesResultDict = {}\n",
    "    for species in eiggRawData:\n",
    "        indivResult = validateSingleName(species)\n",
    "        validatedSpeciesResultDict[species] = indivResult\n",
    "    \n",
    "    print(len(validatedSpeciesResultDict))\n",
    "    with open(\"PartialEiggVerified\",'wb') as f:\n",
    "        pickle.dump(validatedSpeciesResultDict,f)\n",
    "        \n",
    "    failedComputations = list(filter(lambda x: \"error_loc\" in validatedSpeciesResultDict[x],validatedSpeciesResultDict.keys()))\n",
    "    return failedComputations"
   ]
  },
  {
   "cell_type": "code",
   "execution_count": 16,
   "metadata": {},
   "outputs": [
    {
     "name": "stdout",
     "output_type": "stream",
     "text": [
      "error occured at circaea lutetiana x alpina = c. x intermedia\n",
      "error occured at cladonia coccifera s. lat.\n",
      "error occured at halichondria (halichondria) panicea\n",
      "error occured at cochlicella (cochlicella) acuta\n",
      "error occured at polygala vulgaris subsp. collina\n",
      "error occured at salix caprea x myrsinifolia = s. x latifolia\n",
      "error occured at parmelia saxatilis s. lat.\n",
      "error occured at vertebrata fucoides\n",
      "error occured at gymnadenia conopsea agg.\n",
      "error occured at punctelia subrudecta s. lat.\n",
      "error occured at porania (porania) pulvillus\n",
      "error occured at anisus (anisus) leucostoma\n",
      "error occured at zostera (zostera) marina\n",
      "error occured at neuroterus albipes f. agamic\n",
      "error occured at motacilla alba subsp. yarrellii\n",
      "error occured at rhodophycota indet. (non-calc. crusts)\n",
      "error occured at pectenia plumbea s. lat.\n",
      "error occured at anthyllis vulneraria vulneraria langei\n",
      "error occured at betula pendula x pubescens = b. x aurata\n",
      "error occured at rosa spinosissima x mollis = r. x sabinii\n",
      "error occured at rosa canina group transitoriae\n",
      "error occured at arion (carinarion) circumscriptus silvaticus\n",
      "error occured at cirrhia icteritia\n",
      "error occured at euphrasia officinalis agg.\n",
      "error occured at caloplaca ferruginea s. lat.\n",
      "error occured at corvus corone subsp. corone\n",
      "error occured at coeloglossum viride x dactylorhiza purpurella = x dactyloglossum viridella\n",
      "error occured at sticta fuliginosa s. lat.\n",
      "error occured at rosa canina agg.\n",
      "error occured at lichenicolous fungus (unidentified)\n",
      "error occured at myxilla (myxilla) incrustans\n",
      "error occured at lecidea fuscoatra s. lat.\n",
      "error occured at mentha aquatica x spicata = m. x piperita\n",
      "error occured at campylopus atrovirens var. falcatus\n",
      "error occured at calathus melanocephalus agg.\n",
      "error occured at arion (carinarion) agg.\n",
      "error occured at branta bernicla subsp. bernicla\n",
      "error occured at juncus bufonius agg.\n",
      "error occured at lepraria incana s. lat.\n",
      "error occured at sphagnum capillifolium subsp. rubellum\n",
      "error occured at cladonia squamosa s. lat.\n",
      "error occured at lecidea lactea s. lat.\n",
      "error occured at ajuga reptans x pyramidalis = a. x pseudopyramidalis\n",
      "error occured at fontinalis antipyretica var. gracilis\n",
      "error occured at atriplex prostrata agg.\n",
      "error occured at stachys sylvatica x palustris = s. x ambigua\n",
      "error occured at maerl indet\n",
      "error occured at haliclona (haliclona) urceolus\n",
      "error occured at leiostyla (leiostyla) anglica\n",
      "error occured at pterostichus nigrita agg.\n",
      "error occured at aphodius fimetarius/pedellus agg.\n",
      "error occured at arion (arion) ater\n",
      "error occured at euphrasia tetraquetra x confusa\n",
      "error occured at trapelia glebulosa s. lat.\n",
      "error occured at arion (kobeltia) agg.\n",
      "error occured at sorbus aria agg.\n",
      "error occured at lithobius (lithobius) melanops\n",
      "error occured at sticta canariensis (dufourii)\n",
      "error occured at carex hostiana x viridula = c. x fulva\n",
      "error occured at acanthis flammea subsp. flammea\n",
      "error occured at punctelia subrudecta s. str.\n",
      "error occured at euphrasia arctica x scottica = e. x venusta\n",
      "error occured at euphrasia frigida x micrantha\n",
      "error occured at rosa canina group lutetianae\n",
      "error occured at sphagnum capillifolium subsp. capillifolium\n",
      "error occured at dryopteris filix-mas agg.\n",
      "error occured at cochlicopa cf. lubrica\n",
      "error occured at caryophyllia (caryophyllia) smithii\n",
      "error occured at gyraulus (armiger) crista\n",
      "error occured at cetrelia olivetorum s. lat.\n",
      "error occured at euconulus (euconulus) cf. fulvus\n",
      "error occured at platyhypnidium ripariodes\n",
      "error occured at crocosmia pottsii x aurea = c. x crocosmiiflora\n",
      "error occured at epilobium obscurum x ciliatum = e. x vicinum\n",
      "error occured at chara virgata var. virgata\n",
      "error occured at caloplaca ferruginea s. str.\n",
      "error occured at rorippa nasturtium-aquaticum agg.\n",
      "error occured at hymedesmia (hymedesmia) paupertas\n",
      "error occured at geum rivale x urbanum = g. x intermedium\n",
      "error occured at rubus sect. corylifolii\n",
      "error occured at erodium cicutarium agg.\n",
      "error occured at rosa mollis agg.\n",
      "error occured at mustela furo x putorius\n",
      "error occured at raphanus raphanistrum var. aureus\n",
      "error occured at drosera rotundifolia x anglica = d. x obovata\n",
      "error occured at diatoms film\n",
      "error occured at leiocolea collaris\n",
      "error occured at syntrichia ruralis var. ruraliformis\n",
      "error occured at filamentous brown algae\n",
      "error occured at rhinanthus minor subsp. stenophyllus\n",
      "error occured at trochulus (trochulus) hispidus\n",
      "error occured at leiocolea fitzgeraldiae\n",
      "error occured at festuca rubra agg.\n",
      "error occured at lepidochitona (lepidochitona) cinerea\n",
      "error occured at carex flava agg.\n",
      "error occured at stellaria media agg.\n",
      "error occured at lepus timidus subsp. scoticus\n",
      "error occured at caloplaca holocarpa s. str.\n",
      "error occured at sagina subulata var. glabrata\n",
      "error occured at hypotrachyna revoluta s. lat.\n",
      "error occured at rosa spinosissima x sherardii = r. x involuta\n",
      "error occured at cladonia chlorophaea s. lat.\n",
      "error occured at lepraria incana s. str.\n",
      "error occured at mentha arvensis x aquatica = m. x verticillata\n",
      "error occured at diatoms colonial\n",
      "error occured at larix decidua x kaempferi = l. x marschlinsii\n",
      "error occured at anthus spinoletta/petrosus agg.\n",
      "error occured at cochlicopa cf. lubricella\n",
      "error occured at encrusting algae indet.\n",
      "error occured at bryozoa indet crusts\n",
      "error occured at aphanes arvensis agg.\n",
      "error occured at equisetum fluviatile x arvense = e. x litorale\n",
      "error occured at scoloplos (scoloplos) armiger\n",
      "error occured at dactylorhiza maculata x purpurella = d. x formosa\n",
      "error occured at salix cinerea x aurita = s. x multinervis\n",
      "error occured at anacaena limbata agg.\n",
      "error occured at porifera indet crusts\n",
      "error occured at rosa canina x caesia = r. x dumalis\n",
      "error occured at rosa arvensis x canina = r. x irregularis\n",
      "error occured at tilia platyphyllos x cordata = t. x europaea\n",
      "error occured at salix aurita x repens = s. x ambigua\n",
      "error occured at mustela putorius subsp. furo\n",
      "error occured at centaurea nigra sens. lat. (=nigra/debauxii)\n",
      "error occured at tenellia caerulea\n",
      "error occured at oxychilus (oxychilus) alliarius\n",
      "error occured at haliclona (rhizoniera) viscosa\n",
      "error occured at notonecta (notonecta) obliqua\n",
      "error occured at galeopsis tetrahit agg.\n",
      "error occured at cupressus macrocarpa x xanthocyparis nootkatensis = x cuprocyparis leylandii\n",
      "error occured at trochulus (trochulus) striolatus\n",
      "error occured at arion ater agg.\n",
      "error occured at symphytum officinale x asperum = s. x uplandicum\n",
      "error occured at euphrasia nemorosa x confusa\n",
      "error occured at equisetum fluviatile x palustre = e. x dycei\n",
      "error occured at alchemilla vulgaris agg.\n",
      "error occured at euconulus agg.\n",
      "error occured at rosa caesia vosagiaca x canina\n",
      "error occured at arion (arion) flagellus\n",
      "error occured at mentha spicata x suaveolens = m. x villosa\n",
      "error occured at corvus corone x cornix\n",
      "error occured at ulota crispa (hedw.) brid. sensu smith (2004) / bruchii agg.\n",
      "error occured at rosa canina group dumales\n",
      "error occured at gymnadenia conopsea x dactylorhiza maculata = x dactylodenia legrandiana\n",
      "error occured at polygonum aviculare agg.\n",
      "error occured at grimmia trichophylla agg.\n",
      "error occured at epilobium parviflorum x palustre = e. x rivulare\n",
      "error occured at spiraea salicifolia x douglasii = s. x pseudosalicifolia\n",
      "error occured at chara virgata var. annulata\n",
      "error occured at heterocladium heteropterum var. flaccidum\n",
      "error occured at salix euxina x alba = s. x fragilis\n",
      "error occured at elytrigia repens x juncea = e. x laxa\n",
      "error occured at lichen (unidentified)\n",
      "error occured at festuca ovina agg.\n",
      "error occured at lithobius (lithobius) forficatus\n",
      "error occured at chenopodium album agg.\n",
      "error occured at taraxacum agg.\n",
      "error occured at ctenidium molluscum var. condensatum\n",
      "error occured at ranunculus flammula subsp. scoticus\n",
      "error occured at quercus petraea x robur = q. x rosacea\n",
      "error occured at euphrasia arctica x confusa\n",
      "error occured at rhinanthus minor subsp. lintonii\n",
      "error occured at leiocolea turbinata\n",
      "error occured at columella agg.\n",
      "3177\n"
     ]
    }
   ],
   "source": [
    "failedComputations = validateListedEiggSpecies(eiggRawData)"
   ]
  },
  {
   "cell_type": "code",
   "execution_count": 17,
   "metadata": {},
   "outputs": [
    {
     "data": {
      "text/plain": [
       "163"
      ]
     },
     "execution_count": 17,
     "metadata": {},
     "output_type": "execute_result"
    }
   ],
   "source": [
    "len(failedComputations)"
   ]
  },
  {
   "cell_type": "markdown",
   "metadata": {},
   "source": [
    "# How do we deal with these 163 failed entries?\n",
    "\n",
    "Doing it manually feels wrong...Google searching 113 records doesn't seem appealing\n",
    "\n",
    "We can notice; the first two keywords of the phrase indicate the species. Anything after that, which is what destroys the APIs ability to tell if it's correct, is metadata.\n",
    "\n",
    "Hence let's refire the requests, but only on the first two keywords"
   ]
  },
  {
   "cell_type": "code",
   "execution_count": 18,
   "metadata": {},
   "outputs": [
    {
     "data": {
      "text/plain": [
       "163"
      ]
     },
     "execution_count": 18,
     "metadata": {},
     "output_type": "execute_result"
    }
   ],
   "source": [
    "failedComputationDict = dict(zip(failedComputations, failedComputations))\n",
    "len(failedComputationDict)"
   ]
  },
  {
   "cell_type": "code",
   "execution_count": 19,
   "metadata": {},
   "outputs": [
    {
     "name": "stdout",
     "output_type": "stream",
     "text": [
      "error occured at cochlicella (cochlicella) acuta\n",
      "error occured at vertebrata fucoides\n",
      "error occured at porania (porania) pulvillus\n",
      "error occured at anisus (anisus) leucostoma\n",
      "error occured at zostera (zostera) marina\n",
      "error occured at rhodophycota indet. (non-calc. crusts)\n",
      "error occured at cirrhia icteritia\n",
      "error occured at lichenicolous fungus (unidentified)\n",
      "error occured at maerl indet\n",
      "error occured at leiostyla (leiostyla) anglica\n",
      "error occured at aphodius fimetarius/pedellus agg.\n",
      "error occured at lithobius (lithobius) melanops\n",
      "error occured at cochlicopa cf. lubrica\n",
      "error occured at gyraulus (armiger) crista\n",
      "error occured at euconulus (euconulus) cf. fulvus\n",
      "error occured at platyhypnidium ripariodes\n",
      "error occured at rubus sect. corylifolii\n",
      "error occured at diatoms film\n",
      "error occured at leiocolea collaris\n",
      "error occured at filamentous brown algae\n",
      "error occured at trochulus (trochulus) hispidus\n",
      "error occured at leiocolea fitzgeraldiae\n",
      "error occured at diatoms colonial\n",
      "error occured at anthus spinoletta/petrosus agg.\n",
      "error occured at cochlicopa cf. lubricella\n",
      "error occured at encrusting algae indet.\n",
      "error occured at bryozoa indet crusts\n",
      "error occured at porifera indet crusts\n",
      "error occured at tenellia caerulea\n",
      "error occured at haliclona (rhizoniera) viscosa\n",
      "error occured at notonecta (notonecta) obliqua\n",
      "error occured at trochulus (trochulus) striolatus\n",
      "error occured at euconulus agg.\n",
      "error occured at lichen (unidentified)\n",
      "error occured at lithobius (lithobius) forficatus\n",
      "error occured at taraxacum agg.\n",
      "error occured at leiocolea turbinata\n",
      "error occured at columella agg.\n"
     ]
    }
   ],
   "source": [
    "amendedDict = {}\n",
    "failed = []\n",
    "for failedName in failedComputationDict:\n",
    "    validatedName = validateSingleName(failedName,2)\n",
    "    if \"error_loc\" in validatedName:\n",
    "        failed.append(failedName)\n",
    "    else:\n",
    "        amendedDict[failedName] = validatedName"
   ]
  },
  {
   "cell_type": "code",
   "execution_count": 21,
   "metadata": {},
   "outputs": [
    {
     "name": "stdout",
     "output_type": "stream",
     "text": [
      "125\n",
      "carex hostiana\n"
     ]
    }
   ],
   "source": [
    "print(len(amendedDict))\n",
    "print(amendedDict['carex hostiana x viridula = c. x fulva'])"
   ]
  },
  {
   "cell_type": "markdown",
   "metadata": {},
   "source": [
    "# Result\n",
    "\n",
    "We saved 125 of the 163 errored plants. The tradeoff was technically some useful information- the metadata we saw, such as \"x fragilis\"- a specific type of the species we are studying.\n",
    "\n",
    "However, we will proceed with the assumption that animals don't particularly care what type of species something is, if it will be their dinner. E.g. a grasshopper won't particularly care what specific type of wheat it eats; as long as it's the same species, it will be valid in the food chain."
   ]
  },
  {
   "cell_type": "markdown",
   "metadata": {},
   "source": [
    "## I will fix the rest manually"
   ]
  },
  {
   "cell_type": "code",
   "execution_count": 22,
   "metadata": {},
   "outputs": [
    {
     "data": {
      "text/plain": [
       "['cochlicella (cochlicella) acuta',\n",
       " 'vertebrata fucoides',\n",
       " 'porania (porania) pulvillus',\n",
       " 'anisus (anisus) leucostoma',\n",
       " 'zostera (zostera) marina',\n",
       " 'rhodophycota indet. (non-calc. crusts)',\n",
       " 'cirrhia icteritia',\n",
       " 'lichenicolous fungus (unidentified)',\n",
       " 'maerl indet',\n",
       " 'leiostyla (leiostyla) anglica',\n",
       " 'aphodius fimetarius/pedellus agg.',\n",
       " 'lithobius (lithobius) melanops',\n",
       " 'cochlicopa cf. lubrica',\n",
       " 'gyraulus (armiger) crista',\n",
       " 'euconulus (euconulus) cf. fulvus',\n",
       " 'platyhypnidium ripariodes',\n",
       " 'rubus sect. corylifolii',\n",
       " 'diatoms film',\n",
       " 'leiocolea collaris',\n",
       " 'filamentous brown algae',\n",
       " 'trochulus (trochulus) hispidus',\n",
       " 'leiocolea fitzgeraldiae',\n",
       " 'diatoms colonial',\n",
       " 'anthus spinoletta/petrosus agg.',\n",
       " 'cochlicopa cf. lubricella',\n",
       " 'encrusting algae indet.',\n",
       " 'bryozoa indet crusts',\n",
       " 'porifera indet crusts',\n",
       " 'tenellia caerulea',\n",
       " 'haliclona (rhizoniera) viscosa',\n",
       " 'notonecta (notonecta) obliqua',\n",
       " 'trochulus (trochulus) striolatus',\n",
       " 'euconulus agg.',\n",
       " 'lichen (unidentified)',\n",
       " 'lithobius (lithobius) forficatus',\n",
       " 'taraxacum agg.',\n",
       " 'leiocolea turbinata',\n",
       " 'columella agg.']"
      ]
     },
     "execution_count": 22,
     "metadata": {},
     "output_type": "execute_result"
    }
   ],
   "source": [
    "failed"
   ]
  },
  {
   "cell_type": "code",
   "execution_count": 23,
   "metadata": {
    "collapsed": true
   },
   "outputs": [],
   "source": [
    "amendedDict['trochulus (trochulus) hispidus'] = 'trochulus hispidus'\n",
    "amendedDict['porifera indet crusts'] = 'porifera indet crusts' #essentially a sea sponge- not recognized by resolver\n",
    "amendedDict['cochlicopa cf. lubricella'] = 'cochlicopa lubricella'\n",
    "amendedDict['anisus (anisus) leucostoma'] = 'anisus leucostoma'\n",
    "amendedDict['rhodophycota indet. (non-calc. crusts)'] = 'rhodophycota'\n",
    "amendedDict['taraxacum agg.'] = 'taraxacum officinale'\n",
    "amendedDict['aphodius fimetarius/pedellus agg.'] = 'aphodius fimetarius'\n",
    "amendedDict['cochlicopa cf. lubrica'] = 'cochlicopa lubrica'\n",
    "amendedDict['trochulus (trochulus) striolatus'] = 'trochulus striolatus'\n",
    "amendedDict['maerl indet'] = 'maerl'\n",
    "amendedDict['bryozoa indet crusts'] = 'bryozoa'\n",
    "amendedDict['euconulus (euconulus) cf. fulvus'] = 'euconulus fulvus'\n",
    "amendedDict['notonecta (notonecta) obliqua'] = 'notonecta obliqua'\n",
    "amendedDict['leiostyla (leiostyla) anglica'] = 'leiostyla anglica'\n",
    "amendedDict['anthus spinoletta/petrosus agg.'] = 'anthus spinoletta'\n",
    "amendedDict['lithobius (lithobius) forficatus'] = 'lithobius forficatus'\n",
    "amendedDict['gyraulus (armiger) crista'] = 'gyraulus crista'\n",
    "amendedDict['cochlicella (cochlicella) acuta'] = 'cochlicella acuta'\n",
    "amendedDict['haliclona (rhizoniera) viscosa'] = 'haliclona viscosa'\n",
    "amendedDict['columella agg.'] = 'columella'\n",
    "amendedDict['zostera (zostera) marina'] = 'zostera marina'\n",
    "amendedDict['porania (porania) pulvillus'] = 'porania pulvillus'\n",
    "amendedDict['platyhypnidium ripariodes'] = 'platyhypnidium ripariodes'\n",
    "amendedDict['vertebrata fucoides'] = 'vertebrata fucoides'"
   ]
  },
  {
   "cell_type": "code",
   "execution_count": 24,
   "metadata": {},
   "outputs": [
    {
     "data": {
      "text/plain": [
       "149"
      ]
     },
     "execution_count": 24,
     "metadata": {},
     "output_type": "execute_result"
    }
   ],
   "source": [
    "len(amendedDict)"
   ]
  },
  {
   "cell_type": "code",
   "execution_count": 25,
   "metadata": {
    "collapsed": true
   },
   "outputs": [],
   "source": [
    "fullSpeciesOfEiggDict = {}\n",
    "\n",
    "with open(\"PartialEiggVerified\",'rb') as f:\n",
    "    partialDict = pickle.load(f)\n",
    "\n",
    "for item in partialDict:\n",
    "    if \"error_loc\" not in partialDict[item]:\n",
    "        fullSpeciesOfEiggDict[item] = partialDict[item]\n",
    "    \n",
    "for item in amendedDict:\n",
    "    fullSpeciesOfEiggDict[item] = amendedDict[item]\n",
    "    \n",
    "with open(\"EiggVerifiedSpeciesList\",'wb') as f:\n",
    "    pickle.dump(fullSpeciesOfEiggDict,f)\n"
   ]
  },
  {
   "cell_type": "code",
   "execution_count": 26,
   "metadata": {},
   "outputs": [
    {
     "data": {
      "text/plain": [
       "'carex hostiana'"
      ]
     },
     "execution_count": 26,
     "metadata": {},
     "output_type": "execute_result"
    }
   ],
   "source": [
    "fullSpeciesOfEiggDict['carex hostiana x viridula = c. x fulva']"
   ]
  },
  {
   "cell_type": "code",
   "execution_count": 77,
   "metadata": {},
   "outputs": [
    {
     "data": {
      "text/plain": [
       "2452"
      ]
     },
     "execution_count": 77,
     "metadata": {},
     "output_type": "execute_result"
    }
   ],
   "source": [
    "len(fullSpeciesOfEiggDict)"
   ]
  },
  {
   "cell_type": "code",
   "execution_count": 27,
   "metadata": {},
   "outputs": [
    {
     "name": "stdout",
     "output_type": "stream",
     "text": [
      "3163\n"
     ]
    }
   ],
   "source": [
    "with open(\"EiggVerifiedSpeciesList\",'rb') as f:\n",
    "    testingPickleWrite = pickle.load(f)\n",
    "    \n",
    "print(len(testingPickleWrite))"
   ]
  }
 ],
 "metadata": {
  "kernelspec": {
   "display_name": "Python 3",
   "language": "python",
   "name": "python3"
  },
  "language_info": {
   "codemirror_mode": {
    "name": "ipython",
    "version": 3
   },
   "file_extension": ".py",
   "mimetype": "text/x-python",
   "name": "python",
   "nbconvert_exporter": "python",
   "pygments_lexer": "ipython3",
   "version": "3.6.3"
  }
 },
 "nbformat": 4,
 "nbformat_minor": 2
}
