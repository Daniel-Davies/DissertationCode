{
 "cells": [
  {
   "cell_type": "code",
   "execution_count": 1,
   "metadata": {
    "collapsed": true
   },
   "outputs": [],
   "source": [
    "import json\n",
    "import requests\n",
    "import time\n",
    "from data import *\n",
    "from trophics import *\n",
    "import pickle"
   ]
  },
  {
   "cell_type": "code",
   "execution_count": 2,
   "metadata": {},
   "outputs": [
    {
     "name": "stderr",
     "output_type": "stream",
     "text": [
      "C:\\Users\\davie\\Anaconda3\\lib\\site-packages\\IPython\\core\\interactiveshell.py:2862: DtypeWarning: Columns (9,22) have mixed types. Specify dtype option on import or set low_memory=False.\n",
      "  exec(code_obj, self.user_global_ns, self.user_ns)\n"
     ]
    },
    {
     "data": {
      "text/plain": [
       "3177"
      ]
     },
     "execution_count": 2,
     "metadata": {},
     "output_type": "execute_result"
    }
   ],
   "source": [
    "eiggRawData = eiggRawData()\n",
    "eiggRawData = eiggRawData[\"Scientific name\"].str.lower()\n",
    "eiggRawData = set(eiggRawData)\n",
    "len(eiggRawData)"
   ]
  },
  {
   "cell_type": "code",
   "execution_count": 3,
   "metadata": {},
   "outputs": [],
   "source": [
    "def validateListedEiggSpecies(speciesList):\n",
    "    validatedSpeciesResultDict = {}\n",
    "    counter = 0\n",
    "    for species in eiggRawData:\n",
    "        if counter % 100 == 0: print(\"Step \" + str(counter))\n",
    "        indivResult = cleanSpeciesName(species)\n",
    "        validatedSpeciesResultDict[species] = indivResult\n",
    "        counter += 1\n",
    "    \n",
    "    print(len(validatedSpeciesResultDict))\n",
    "    with open(\"PartialEiggVerified\",'wb') as f:\n",
    "        pickle.dump(validatedSpeciesResultDict,f)"
   ]
  },
  {
   "cell_type": "code",
   "execution_count": 4,
   "metadata": {},
   "outputs": [
    {
     "name": "stdout",
     "output_type": "stream",
     "text": [
      "Step 0\n",
      "Step 100\n",
      "Step 200\n",
      "Step 300\n",
      "error occured at bryozoa crusts\n",
      "Step 400\n",
      "Step 500\n",
      "error occured at rubus sect.\n",
      "Step 600\n",
      "error occured at leiocolea collaris\n",
      "Step 700\n",
      "Step 800\n",
      "Step 900\n",
      "Step 1000\n",
      "Step 1100\n",
      "Step 1200\n",
      "Step 1300\n",
      "Step 1400\n",
      "error occured at leiocolea fitzgeraldiae\n",
      "Step 1500\n",
      "Step 1600\n",
      "Step 1700\n",
      "error occured at rubus sect.\n",
      "Step 1800\n",
      "error occured at platyhypnidium ripariodes\n",
      "Step 1900\n",
      "error occured at diatoms film\n",
      "Step 2000\n",
      "error occured at vertebrata fucoides\n",
      "Step 2100\n",
      "error occured at porifera crusts\n",
      "error occured at filamentous brown\n",
      "Step 2200\n",
      "Step 2300\n",
      "Step 2400\n",
      "error occured at diatoms colonial\n",
      "error occured at lichenicolous fungus\n",
      "error occured at cirrhia icteritia\n",
      "Step 2500\n",
      "Step 2600\n",
      "error occured at leiocolea turbinata\n",
      "Step 2700\n",
      "error occured at maerl\n",
      "Step 2800\n",
      "error occured at encrusting algae\n",
      "error occured at tenellia caerulea\n",
      "Step 2900\n",
      "Step 3000\n",
      "Step 3100\n",
      "3177\n"
     ]
    }
   ],
   "source": [
    "validateListedEiggSpecies(eiggRawData)"
   ]
  },
  {
   "cell_type": "markdown",
   "metadata": {},
   "source": [
    "# How do we deal with the failed entries?\n",
    "\n",
    "Some are genuinely incorrect- some on the other hand the API itself didnt catch,\n",
    "so I will manually add in the ones that are valid"
   ]
  },
  {
   "cell_type": "markdown",
   "metadata": {},
   "source": [
    "## I will fix the rest manually"
   ]
  },
  {
   "cell_type": "markdown",
   "metadata": {
    "collapsed": true
   },
   "source": [
    "error occured at tenellia caerulea\n",
    "error occured at leiocolea turbinata\n",
    "error occured at vertebrata fucoides\n",
    "error occured at diatoms film\n",
    "error occured at porifera indet\n",
    "error occured at aphodius fimetarius/pedellus\n",
    "error occured at leiocolea fitzgeraldiae\n",
    "error occured at rubus sect.\n",
    "error occured at cirrhia icteritia\n",
    "error occured at platyhypnidium ripariodes\n",
    "error occured at diatoms colonial\n",
    "error occured at rubus sect.\n",
    "error occured at anthus spinoletta/petrosus\n",
    "error occured at filamentous brown\n",
    "error occured at leiocolea collaris"
   ]
  },
  {
   "cell_type": "code",
   "execution_count": 5,
   "metadata": {},
   "outputs": [],
   "source": [
    "amendedDict = {}\n",
    "amendedDict['bryozoa crusts'] = 'bryozoa'\n",
    "amendedDict['rubus sect.'] = 'rubus'\n",
    "amendedDict['leiocolea collaris'] = 'leiocolea collaris'\n",
    "amendedDict['leiocolea fitzgeraldiae'] = 'leiocolea fitzgeraldiae'\n",
    "amendedDict['platyhypnidium ripariodes'] = 'platyhypnidium ripariodes'\n",
    "amendedDict['vertebrata fucoides'] = 'vertebrata fucoides'\n",
    "amendedDict['porifera crusts'] = 'porifera'\n",
    "amendedDict['diatoms brown'] = 'diatoms'\n",
    "amendedDict['diatoms colonial'] = 'diatoms'\n",
    "amendedDict['cirrhia icteritia'] = 'cirrhia icteritia'\n",
    "amendedDict['leiocolea turbinata'] = 'leiocolea turbinata'\n",
    "amendedDict['maerl'] = 'maerl'\n",
    "amendedDict['tenellia caerulea'] = 'tenellia caerulea'"
   ]
  },
  {
   "cell_type": "code",
   "execution_count": 7,
   "metadata": {},
   "outputs": [],
   "source": [
    "fullSpeciesOfEiggDict = {}\n",
    "\n",
    "with open(\"PartialEiggVerified\",'rb') as f:\n",
    "    partialDict = pickle.load(f)\n",
    "\n",
    "for item in partialDict:\n",
    "    if len(partialDict[item]) > 0:\n",
    "        fullSpeciesOfEiggDict[item] = partialDict[item]\n",
    "    \n",
    "for item in amendedDict:\n",
    "    fullSpeciesOfEiggDict[item] = amendedDict[item]\n",
    "    \n",
    "with open(\"EiggVerifiedSpeciesList\",'wb') as f:\n",
    "    pickle.dump(fullSpeciesOfEiggDict,f)\n"
   ]
  },
  {
   "cell_type": "code",
   "execution_count": null,
   "metadata": {},
   "outputs": [],
   "source": [
    "fullSpeciesOfEiggDict['carex hostiana x viridula = c. x fulva']"
   ]
  },
  {
   "cell_type": "code",
   "execution_count": null,
   "metadata": {},
   "outputs": [],
   "source": [
    "len(fullSpeciesOfEiggDict)"
   ]
  },
  {
   "cell_type": "code",
   "execution_count": 8,
   "metadata": {},
   "outputs": [
    {
     "name": "stdout",
     "output_type": "stream",
     "text": [
      "3173\n"
     ]
    }
   ],
   "source": [
    "with open(\"EiggVerifiedSpeciesList\",'rb') as f:\n",
    "    testingPickleWrite = pickle.load(f)\n",
    "    \n",
    "print(len(testingPickleWrite))"
   ]
  },
  {
   "cell_type": "markdown",
   "metadata": {},
   "source": [
    "# Conclusion; missing 4 species (X crusts + X film)"
   ]
  }
 ],
 "metadata": {
  "kernelspec": {
   "display_name": "Python 3",
   "language": "python",
   "name": "python3"
  },
  "language_info": {
   "codemirror_mode": {
    "name": "ipython",
    "version": 3
   },
   "file_extension": ".py",
   "mimetype": "text/x-python",
   "name": "python",
   "nbconvert_exporter": "python",
   "pygments_lexer": "ipython3",
   "version": "3.6.3"
  }
 },
 "nbformat": 4,
 "nbformat_minor": 2
}
