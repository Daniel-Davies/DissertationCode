{
 "cells": [
  {
   "cell_type": "code",
   "execution_count": 1,
   "metadata": {
    "collapsed": true
   },
   "outputs": [],
   "source": [
    "%matplotlib inline\n",
    "import sys\n",
    "sys.path.insert(1,'./Utilities')\n",
    "# notebook\n",
    "import matplotlib.pylab as pylab\n",
    "import matplotlib.pyplot as plt\n",
    "from collections import Counter, defaultdict\n",
    "import numpy as np\n",
    "from sklearn.decomposition import PCA\n",
    "import pandas as pd\n",
    "import networkx as nx\n",
    "import json\n",
    "from math import sin, cos, sqrt, atan2, radians\n",
    "from utils import *\n",
    "from data import *\n",
    "from metaNetBusinessSide import *\n",
    "from foodWebGraphing import *\n",
    "#make the graphs bigger\n",
    "pylab.rcParams['figure.figsize'] = (32.0, 24.0)\n",
    "pylab.rcParams['font.size'] = 24"
   ]
  },
  {
   "cell_type": "code",
   "execution_count": 14,
   "metadata": {
    "collapsed": true
   },
   "outputs": [],
   "source": [
    "from data import validatedEiggData\n",
    "import requests\n",
    "import pickle\n",
    "\n",
    "def findType(groups,values,granularity=None):\n",
    "    if granularity is None:\n",
    "        return [groups,values]\n",
    "\n",
    "    consumableGroup = groups.lower().split(\"|\")\n",
    "    consumableValues = values.lower().split(\"|\")\n",
    "    \n",
    "    accessable = dict(zip(consumableGroup,consumableValues))\n",
    "    if granularity in accessable:\n",
    "        return accessable[granularity]\n",
    "    else:\n",
    "        return [groups,values]\n",
    "    \n",
    "def getSpeciesType(name, granularity=None):\n",
    "    callToValidateName = requests.get('http://resolver.globalnames.org/name_resolvers.json?names='+name)\n",
    "    try:\n",
    "        jsonRes = callToValidateName.json()['data'][0][\"results\"][0]\n",
    "        groups,values = jsonRes[\"classification_path_ranks\"], jsonRes[\"classification_path\"]\n",
    "        return findType(groups,values,granularity)\n",
    "    except:\n",
    "        return ['','']\n",
    "\n",
    "def groupDataByType(species,granularity):\n",
    "    types = list(map(lambda x: getSpeciesType(x, granularity), species))\n",
    "    return dict(zip(species,types))\n",
    "\n",
    "# politeness function- avoid hitting servers manually every time\n",
    "def buildEiggTaxonomicIndex():\n",
    "    taxonomicIndex = {}\n",
    "    speciesScientificNames = validatedEiggData()\n",
    "    animals = set(speciesScientificNames[\"Scientific name\"].values.tolist())\n",
    "    total = 0\n",
    "    for s in animals:\n",
    "        taxonomicIndex[s] = getSpeciesType(s)\n",
    "        total += 1\n",
    "        if total % 100 == 0:\n",
    "            print(\"Step: \" + str(total))\n",
    "    \n",
    "    with open(\"taxonomicIndexEigg\", \"wb\") as f:\n",
    "        pickle.dump(taxonomicIndex,f)\n",
    "\n",
    "    with open(\"taxonomicIndexEigg\", \"rb\") as f:\n",
    "        print(len(pickle.load(f)))\n",
    "\n",
    "    return taxonomicIndexs\n",
    "\n",
    "def getSpeciesTaxonomicCategorty(name,category):\n",
    "    with open(\"taxonomicIndexEigg\", \"rb\") as f:\n",
    "        ctx = pickle.load(f)\n",
    "\n",
    "    groups,values = ctx[name]\n",
    "    groups = groups.lower().split(\"|\") \n",
    "    # ['', 'superkingdom', 'kingdom', 'phylum', 'subphylum', '', '', '', '', '', '', '', '', '', '', '', 'order', 'family', 'subfamily', '', 'genus', 'species']\n",
    "    values = values.lower().split(\"|\")\n",
    "\n",
    "    taxonomy = dict(zip(groups,values))\n",
    "\n",
    "    if category in taxonomy:\n",
    "        return taxonomy[category]"
   ]
  },
  {
   "cell_type": "code",
   "execution_count": 15,
   "metadata": {},
   "outputs": [
    {
     "name": "stderr",
     "output_type": "stream",
     "text": [
      "C:\\Users\\davie\\Anaconda3\\lib\\site-packages\\IPython\\core\\interactiveshell.py:2862: DtypeWarning: Columns (9,22) have mixed types. Specify dtype option on import or set low_memory=False.\n",
      "  exec(code_obj, self.user_global_ns, self.user_ns)\n"
     ]
    }
   ],
   "source": [
    "df = eiggRawDataa()"
   ]
  },
  {
   "cell_type": "code",
   "execution_count": 18,
   "metadata": {},
   "outputs": [],
   "source": [
    "for index, row in df.iterrows():\n",
    "    try:\n",
    "        print(row['Family'], getTaxonomyForAnimal(row['Scientific name'])['family'])\n",
    "    except:\n",
    "        pass\n"
   ]
  }
 ],
 "metadata": {
  "kernelspec": {
   "display_name": "Python 3",
   "language": "python",
   "name": "python3"
  },
  "language_info": {
   "codemirror_mode": {
    "name": "ipython",
    "version": 3
   },
   "file_extension": ".py",
   "mimetype": "text/x-python",
   "name": "python",
   "nbconvert_exporter": "python",
   "pygments_lexer": "ipython3",
   "version": "3.6.3"
  }
 },
 "nbformat": 4,
 "nbformat_minor": 2
}
