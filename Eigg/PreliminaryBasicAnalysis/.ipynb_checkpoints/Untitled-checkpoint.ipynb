{
 "cells": [
  {
   "cell_type": "code",
   "execution_count": 14,
   "metadata": {
    "collapsed": true
   },
   "outputs": [],
   "source": [
    "import sys\n",
    "sys.path.insert(1,'../Utilities')\n",
    "import json\n",
    "import requests\n",
    "import time\n",
    "from data import *\n",
    "from trophics import *\n",
    "from ecoNameManipulations import *\n",
    "import pickle\n",
    "import numpy as np"
   ]
  },
  {
   "cell_type": "code",
   "execution_count": 27,
   "metadata": {
    "collapsed": true
   },
   "outputs": [],
   "source": [
    "def rawObsData(filename):\n",
    "    data = pd.read_csv(filename) \n",
    "    return data\n",
    "islandDatasets = \"C:/Users/davie/Desktop/Masters/Dissertation/Code/DissertationCode/Eigg/IslandDatasets/\""
   ]
  },
  {
   "cell_type": "code",
   "execution_count": 51,
   "metadata": {},
   "outputs": [
    {
     "name": "stderr",
     "output_type": "stream",
     "text": [
      "C:\\Users\\davie\\Anaconda3\\lib\\site-packages\\IPython\\core\\interactiveshell.py:2802: DtypeWarning: Columns (9,22) have mixed types. Specify dtype option on import or set low_memory=False.\n",
      "  if self.run_code(code, result):\n"
     ]
    },
    {
     "data": {
      "text/plain": [
       "{nan,\n",
       " 1.0,\n",
       " 100000.0,\n",
       " nan,\n",
       " 100.0,\n",
       " nan,\n",
       " nan,\n",
       " nan,\n",
       " 10.0,\n",
       " 500.0,\n",
       " 1000.0,\n",
       " 5000.0,\n",
       " nan,\n",
       " nan,\n",
       " nan,\n",
       " nan,\n",
       " 2000.0,\n",
       " 10000.0,\n",
       " 50100.0}"
      ]
     },
     "execution_count": 51,
     "metadata": {},
     "output_type": "execute_result"
    }
   ],
   "source": [
    "df = rawObsData(islandDatasets+\"eigg.csv\")\n",
    "df = df['Coordinate uncertainty (m)'].values.tolist()\n",
    "set(df)"
   ]
  },
  {
   "cell_type": "markdown",
   "metadata": {},
   "source": [
    "# Testing recorder"
   ]
  },
  {
   "cell_type": "code",
   "execution_count": 45,
   "metadata": {},
   "outputs": [
    {
     "name": "stdout",
     "output_type": "stream",
     "text": [
      "0.20268535358938697\n"
     ]
    },
    {
     "name": "stderr",
     "output_type": "stream",
     "text": [
      "C:\\Users\\davie\\Anaconda3\\lib\\site-packages\\IPython\\core\\interactiveshell.py:2802: DtypeWarning: Columns (9,22) have mixed types. Specify dtype option on import or set low_memory=False.\n",
      "  if self.run_code(code, result):\n"
     ]
    }
   ],
   "source": [
    "df = rawObsData(islandDatasets+\"eigg.csv\")\n",
    "x = len(df)\n",
    "df = df[df['End date year'] != df['Start date year']]\n",
    "print((x - len(df)) / x)"
   ]
  },
  {
   "cell_type": "code",
   "execution_count": 28,
   "metadata": {},
   "outputs": [
    {
     "name": "stdout",
     "output_type": "stream",
     "text": [
      "15\n"
     ]
    },
    {
     "name": "stderr",
     "output_type": "stream",
     "text": [
      "C:\\Users\\davie\\Anaconda3\\lib\\site-packages\\IPython\\core\\interactiveshell.py:2802: DtypeWarning: Columns (9,22) have mixed types. Specify dtype option on import or set low_memory=False.\n",
      "  if self.run_code(code, result):\n"
     ]
    },
    {
     "data": {
      "text/html": [
       "<div>\n",
       "<style>\n",
       "    .dataframe thead tr:only-child th {\n",
       "        text-align: right;\n",
       "    }\n",
       "\n",
       "    .dataframe thead th {\n",
       "        text-align: left;\n",
       "    }\n",
       "\n",
       "    .dataframe tbody tr th {\n",
       "        vertical-align: top;\n",
       "    }\n",
       "</style>\n",
       "<table border=\"1\" class=\"dataframe\">\n",
       "  <thead>\n",
       "    <tr style=\"text-align: right;\">\n",
       "      <th></th>\n",
       "      <th>Recorder</th>\n",
       "      <th>Determiner</th>\n",
       "    </tr>\n",
       "  </thead>\n",
       "  <tbody>\n",
       "    <tr>\n",
       "      <th>146</th>\n",
       "      <td>NaN</td>\n",
       "      <td>S.M. Walters</td>\n",
       "    </tr>\n",
       "    <tr>\n",
       "      <th>157</th>\n",
       "      <td>NaN</td>\n",
       "      <td>J. Cullen</td>\n",
       "    </tr>\n",
       "    <tr>\n",
       "      <th>173</th>\n",
       "      <td>NaN</td>\n",
       "      <td>F.H. Perring</td>\n",
       "    </tr>\n",
       "    <tr>\n",
       "      <th>212</th>\n",
       "      <td>NaN</td>\n",
       "      <td>J.D. Lovis</td>\n",
       "    </tr>\n",
       "    <tr>\n",
       "      <th>220</th>\n",
       "      <td>NaN</td>\n",
       "      <td>Pont, A.C.</td>\n",
       "    </tr>\n",
       "    <tr>\n",
       "      <th>225</th>\n",
       "      <td>NaN</td>\n",
       "      <td>Pont, A.C.</td>\n",
       "    </tr>\n",
       "    <tr>\n",
       "      <th>551</th>\n",
       "      <td>NaN</td>\n",
       "      <td>H.A. McAllister</td>\n",
       "    </tr>\n",
       "    <tr>\n",
       "      <th>552</th>\n",
       "      <td>NaN</td>\n",
       "      <td>H.A. McAllister</td>\n",
       "    </tr>\n",
       "    <tr>\n",
       "      <th>28885</th>\n",
       "      <td>NaN</td>\n",
       "      <td>A. Newton|Eric S. Edees</td>\n",
       "    </tr>\n",
       "    <tr>\n",
       "      <th>29762</th>\n",
       "      <td>NaN</td>\n",
       "      <td>D.J. McCosh</td>\n",
       "    </tr>\n",
       "    <tr>\n",
       "      <th>31148</th>\n",
       "      <td>NaN</td>\n",
       "      <td>D.J. McCosh</td>\n",
       "    </tr>\n",
       "    <tr>\n",
       "      <th>31202</th>\n",
       "      <td>NaN</td>\n",
       "      <td>F.H. Perring</td>\n",
       "    </tr>\n",
       "    <tr>\n",
       "      <th>31974</th>\n",
       "      <td>NaN</td>\n",
       "      <td>S.M. Walters|F.H. Perring</td>\n",
       "    </tr>\n",
       "    <tr>\n",
       "      <th>33473</th>\n",
       "      <td>NaN</td>\n",
       "      <td>D.J. McCosh</td>\n",
       "    </tr>\n",
       "    <tr>\n",
       "      <th>35661</th>\n",
       "      <td>NaN</td>\n",
       "      <td>D.J. McCosh</td>\n",
       "    </tr>\n",
       "  </tbody>\n",
       "</table>\n",
       "</div>"
      ],
      "text/plain": [
       "      Recorder                 Determiner\n",
       "146        NaN               S.M. Walters\n",
       "157        NaN                  J. Cullen\n",
       "173        NaN               F.H. Perring\n",
       "212        NaN                 J.D. Lovis\n",
       "220        NaN                 Pont, A.C.\n",
       "225        NaN                 Pont, A.C.\n",
       "551        NaN            H.A. McAllister\n",
       "552        NaN            H.A. McAllister\n",
       "28885      NaN    A. Newton|Eric S. Edees\n",
       "29762      NaN                D.J. McCosh\n",
       "31148      NaN                D.J. McCosh\n",
       "31202      NaN               F.H. Perring\n",
       "31974      NaN  S.M. Walters|F.H. Perring\n",
       "33473      NaN                D.J. McCosh\n",
       "35661      NaN                D.J. McCosh"
      ]
     },
     "execution_count": 28,
     "metadata": {},
     "output_type": "execute_result"
    }
   ],
   "source": [
    "df = rawObsData(islandDatasets+\"eigg.csv\")\n",
    "df = df[df['Recorder'].isnull()]\n",
    "df = df[['Recorder', 'Determiner']]\n",
    "\n",
    "df = df.dropna(subset=['Determiner'])\n",
    "print(len(df))\n",
    "df"
   ]
  },
  {
   "cell_type": "code",
   "execution_count": 41,
   "metadata": {},
   "outputs": [
    {
     "name": "stdout",
     "output_type": "stream",
     "text": [
      "139\n"
     ]
    },
    {
     "name": "stderr",
     "output_type": "stream",
     "text": [
      "C:\\Users\\davie\\Anaconda3\\lib\\site-packages\\IPython\\core\\interactiveshell.py:2802: DtypeWarning: Columns (9,22) have mixed types. Specify dtype option on import or set low_memory=False.\n",
      "  if self.run_code(code, result):\n"
     ]
    },
    {
     "data": {
      "text/plain": [
       "138"
      ]
     },
     "execution_count": 41,
     "metadata": {},
     "output_type": "execute_result"
    }
   ],
   "source": [
    "df = rawObsData(islandDatasets+\"eigg.csv\")\n",
    "x = len(df)\n",
    "df = df[df['Start date year'].isnull()]\n",
    "print(len(df))\n",
    "df = df.dropna(subset=['End date year'])\n",
    "len(df)"
   ]
  },
  {
   "cell_type": "code",
   "execution_count": 36,
   "metadata": {},
   "outputs": [
    {
     "name": "stderr",
     "output_type": "stream",
     "text": [
      "C:\\Users\\davie\\Anaconda3\\lib\\site-packages\\IPython\\core\\interactiveshell.py:2802: DtypeWarning: Columns (9,22) have mixed types. Specify dtype option on import or set low_memory=False.\n",
      "  if self.run_code(code, result):\n"
     ]
    },
    {
     "data": {
      "text/plain": [
       "(0, 0)"
      ]
     },
     "execution_count": 36,
     "metadata": {},
     "output_type": "execute_result"
    }
   ],
   "source": [
    "df = rawObsData(islandDatasets+\"eigg.csv\")\n",
    "dfLat = df[df['Longitude (WGS84)'].isnull()]\n",
    "dfLon = df[df['Longitude (WGS84)'].isnull()]\n",
    "len(dfLon), len(dfLat)\n",
    "#df = df.dropna(subset=['Start date year'])"
   ]
  },
  {
   "cell_type": "code",
   "execution_count": 37,
   "metadata": {},
   "outputs": [
    {
     "name": "stderr",
     "output_type": "stream",
     "text": [
      "C:\\Users\\davie\\Anaconda3\\lib\\site-packages\\IPython\\core\\interactiveshell.py:2802: DtypeWarning: Columns (9,22) have mixed types. Specify dtype option on import or set low_memory=False.\n",
      "  if self.run_code(code, result):\n"
     ]
    },
    {
     "data": {
      "text/plain": [
       "0"
      ]
     },
     "execution_count": 37,
     "metadata": {},
     "output_type": "execute_result"
    }
   ],
   "source": [
    "df = rawObsData(islandDatasets+\"eigg.csv\")\n",
    "x = len(df)\n",
    "df = df[df['Scientific name'].isnull()]\n",
    "len(df)"
   ]
  },
  {
   "cell_type": "code",
   "execution_count": 38,
   "metadata": {},
   "outputs": [
    {
     "name": "stderr",
     "output_type": "stream",
     "text": [
      "C:\\Users\\davie\\Anaconda3\\lib\\site-packages\\IPython\\core\\interactiveshell.py:2802: DtypeWarning: Columns (9,22) have mixed types. Specify dtype option on import or set low_memory=False.\n",
      "  if self.run_code(code, result):\n"
     ]
    },
    {
     "data": {
      "text/plain": [
       "5224"
      ]
     },
     "execution_count": 38,
     "metadata": {},
     "output_type": "execute_result"
    }
   ],
   "source": [
    "df = rawObsData(islandDatasets+\"eigg.csv\")\n",
    "x = len(df)\n",
    "df = df[df['Common name'].isnull()]\n",
    "len(df)"
   ]
  },
  {
   "cell_type": "code",
   "execution_count": 3,
   "metadata": {},
   "outputs": [
    {
     "data": {
      "text/plain": [
       "{1650,\n",
       " 1670,\n",
       " 1720,\n",
       " 1800,\n",
       " 1801,\n",
       " 1808,\n",
       " 1849,\n",
       " 1850,\n",
       " 1856,\n",
       " 1869,\n",
       " 1870,\n",
       " 1885,\n",
       " 1889,\n",
       " 1890,\n",
       " 1892,\n",
       " 1893,\n",
       " 1894,\n",
       " 1895,\n",
       " 1897,\n",
       " 1900,\n",
       " 1901,\n",
       " 1905,\n",
       " 1910,\n",
       " 1911,\n",
       " 1912,\n",
       " 1913,\n",
       " 1930,\n",
       " 1931,\n",
       " 1935,\n",
       " 1936,\n",
       " 1937,\n",
       " 1938,\n",
       " 1939,\n",
       " 1940,\n",
       " 1941,\n",
       " 1942,\n",
       " 1943,\n",
       " 1945,\n",
       " 1947,\n",
       " 1949,\n",
       " 1950,\n",
       " 1951,\n",
       " 1952,\n",
       " 1953,\n",
       " 1954,\n",
       " 1955,\n",
       " 1957,\n",
       " 1959,\n",
       " 1960,\n",
       " 1961,\n",
       " 1963,\n",
       " 1964,\n",
       " 1965,\n",
       " 1966,\n",
       " 1968,\n",
       " 1969,\n",
       " 1970,\n",
       " 1971,\n",
       " 1972,\n",
       " 1973,\n",
       " 1974,\n",
       " 1975,\n",
       " 1977,\n",
       " 1978,\n",
       " 1979,\n",
       " 1980,\n",
       " 1981,\n",
       " 1982,\n",
       " 1983,\n",
       " 1985,\n",
       " 1986,\n",
       " 1987,\n",
       " 1988,\n",
       " 1989,\n",
       " 1990,\n",
       " 1991,\n",
       " 1992,\n",
       " 1993,\n",
       " 1994,\n",
       " 1995,\n",
       " 1996,\n",
       " 1997,\n",
       " 1998,\n",
       " 1999,\n",
       " 2000,\n",
       " 2001,\n",
       " 2002,\n",
       " 2003,\n",
       " 2004,\n",
       " 2005,\n",
       " 2006,\n",
       " 2007,\n",
       " 2008,\n",
       " 2009,\n",
       " 2010,\n",
       " 2011,\n",
       " 2012,\n",
       " 2013,\n",
       " 2014,\n",
       " 2015,\n",
       " 2016,\n",
       " 2017,\n",
       " 2018,\n",
       " 2019}"
      ]
     },
     "execution_count": 3,
     "metadata": {},
     "output_type": "execute_result"
    }
   ],
   "source": []
  }
 ],
 "metadata": {
  "kernelspec": {
   "display_name": "Python 3",
   "language": "python",
   "name": "python3"
  },
  "language_info": {
   "codemirror_mode": {
    "name": "ipython",
    "version": 3
   },
   "file_extension": ".py",
   "mimetype": "text/x-python",
   "name": "python",
   "nbconvert_exporter": "python",
   "pygments_lexer": "ipython3",
   "version": "3.6.3"
  }
 },
 "nbformat": 4,
 "nbformat_minor": 2
}
