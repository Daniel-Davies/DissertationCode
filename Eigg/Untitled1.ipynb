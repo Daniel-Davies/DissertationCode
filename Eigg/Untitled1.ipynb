{
 "cells": [
  {
   "cell_type": "markdown",
   "metadata": {},
   "source": [
    "# Plot a given set of lat lons as a network"
   ]
  },
  {
   "cell_type": "code",
   "execution_count": 1,
   "metadata": {
    "collapsed": true
   },
   "outputs": [],
   "source": [
    "%matplotlib inline\n",
    "# notebook\n",
    "import matplotlib.pylab as pylab\n",
    "import sklearn\n",
    "import matplotlib.pyplot as plt\n",
    "from collections import Counter\n",
    "import numpy as np\n",
    "import pandas as pd\n",
    "import networkx as nx\n",
    "from math import sin, cos, sqrt, atan2, radians\n",
    "#make the graphs bigger\n",
    "pylab.rcParams['figure.figsize'] = (32.0, 24.0)\n",
    "pylab.rcParams['font.size'] = 24"
   ]
  },
  {
   "cell_type": "code",
   "execution_count": null,
   "metadata": {
    "collapsed": true
   },
   "outputs": [],
   "source": [
    "def generateMappableNetwork(processedCoordsList, G, filename):\n",
    "    linkMatrix = list(map(lambda x: [processedCoordsList[x[0]],processedCoordsList[x[1]]],G.edges()))\n",
    "    locs = list(map(lambda x: {\"location\": \",\".join([str(x[0]),str(x[1])]), \"desc\":0.03},processedCoordsList))\n",
    "    building = {}\n",
    "    building[\"result\"] = [{\"plots\":{\"locs\":locs,\"linkMatrix\":linkMatrix}}]\n",
    "    content = json.dumps(building)\n",
    "        \n",
    "    with open(filename, \"a\") as f:\n",
    "        f.write(content)"
   ]
  }
 ],
 "metadata": {
  "kernelspec": {
   "display_name": "Python 3",
   "language": "python",
   "name": "python3"
  },
  "language_info": {
   "codemirror_mode": {
    "name": "ipython",
    "version": 3
   },
   "file_extension": ".py",
   "mimetype": "text/x-python",
   "name": "python",
   "nbconvert_exporter": "python",
   "pygments_lexer": "ipython3",
   "version": "3.6.3"
  }
 },
 "nbformat": 4,
 "nbformat_minor": 2
}
