{
 "cells": [
  {
   "cell_type": "code",
   "execution_count": 1,
   "metadata": {},
   "outputs": [],
   "source": [
    "%matplotlib inline\n",
    "import sys\n",
    "sys.path.insert(1,'../Utilities')\n",
    "# notebook\n",
    "import matplotlib.pylab as pylab\n",
    "import matplotlib.pyplot as plt\n",
    "from collections import Counter, defaultdict\n",
    "import numpy as np\n",
    "from sklearn.decomposition import PCA\n",
    "import pandas as pd\n",
    "import networkx as nx\n",
    "import json\n",
    "from math import sin, cos, sqrt, atan2, radians\n",
    "from utils import *\n",
    "from data import *\n",
    "from foodWebGraphing import *\n",
    "#make the graphs bigger\n",
    "pylab.rcParams['figure.figsize'] = (32.0, 24.0)\n",
    "pylab.rcParams['font.size'] = 24"
   ]
  },
  {
   "cell_type": "code",
   "execution_count": 2,
   "metadata": {},
   "outputs": [
    {
     "name": "stderr",
     "output_type": "stream",
     "text": [
      "C:\\Users\\davie\\Anaconda3\\lib\\site-packages\\IPython\\core\\interactiveshell.py:2862: DtypeWarning: Columns (9,22) have mixed types. Specify dtype option on import or set low_memory=False.\n",
      "  exec(code_obj, self.user_global_ns, self.user_ns)\n"
     ]
    },
    {
     "data": {
      "text/plain": [
       "2019.0"
      ]
     },
     "execution_count": 2,
     "metadata": {},
     "output_type": "execute_result"
    }
   ],
   "source": [
    "dta = validatedEiggData()\n",
    "dta = dta.dropna(subset=['Start date year'])\n",
    "sorted(filter(lambda x: type(x) == np.float64,list(Counter(dta[\"Start date year\"]).keys())))[-1]"
   ]
  },
  {
   "cell_type": "markdown",
   "metadata": {},
   "source": [
    "### Decision 1: Time frame for Eco Net\n",
    "\n",
    "Let's say we take the last 5 years of available data (start date year)\n",
    "\n",
    "### Decision 2: Who's included in Business Net\n",
    "\n",
    "A lot of people on Eigg are involved in the ecological preservation; here we only look at people specifically on commitees (who wield most protection power) and hence have most power to protect the ecology.\n",
    "\n",
    "### Decision 3: Meta - Net links\n",
    "\n",
    "This will be anyone who has a direct dependance on the Ecology of Eigg; again this definition needs to be constrained, since technically everyone does, hence we constrain it here to be those who directly take the resource; fishermen, sightseeing organisations"
   ]
  },
  {
   "cell_type": "code",
   "execution_count": 4,
   "metadata": {},
   "outputs": [
    {
     "data": {
      "text/plain": [
       "{'Alex Boden': ['Eigg Shed', 'Sandavore Farm', 'Eigg Huts', 'Hebnet Cic'],\n",
       " 'Celia Bull': ['Selkie Explorers'],\n",
       " 'Eddie Scott': [\"Sweeney's Bothy\",\n",
       "  \"Eddie's Eigg Croft\",\n",
       "  'Eigg Electric',\n",
       "  'Eigg Shop'],\n",
       " 'Elizabeth Boden': ['Eigg Huts',\n",
       "  'Heritage Trust',\n",
       "  'Eigg Shed',\n",
       "  'Eigg Primary School',\n",
       "  'Sandavore Farm',\n",
       "  'Eigg Trading'],\n",
       " 'George Carr': ['Laig Farm', 'Eigg Shop'],\n",
       " 'Laraine Wyn-Jones': ['Eigg Adventures', 'Eigg Camping Pods', 'Eigg Trading'],\n",
       " 'Lucy Conway': ['Heritage Trust',\n",
       "  'Lagerona',\n",
       "  \"Sweeney's Bothy\",\n",
       "  \"Eddie's Eigg Croft\",\n",
       "  'Eigg Primary School',\n",
       "  'Eigg Shop'],\n",
       " 'Neil Robertson': ['Eigg Organics', 'Roadworks'],\n",
       " 'Owain Wyn-Jones': ['Eigg Adventures', 'Eigg Camping Pods'],\n",
       " 'Saira Renny': ['Laig Farm', 'Eigg Shop'],\n",
       " 'Sarah Boden': ['Eigg Huts',\n",
       "  'Heritage Trust',\n",
       "  'Eigg Electric',\n",
       "  'Sandavore Farm',\n",
       "  'Kildonnan Bay Oysters'],\n",
       " 'Stuart Millar': ['Fishing Co', 'Galmisdale Cafe', 'Lagerona'],\n",
       " 'Sue Hollands': ['Eigg Organics', 'Eigg Electric']}"
      ]
     },
     "execution_count": 4,
     "metadata": {},
     "output_type": "execute_result"
    }
   ],
   "source": [
    "environmentallyDependant = getEnvironmentallyInvolvedPeople()\n",
    "environmentallyDependant"
   ]
  },
  {
   "cell_type": "code",
   "execution_count": 5,
   "metadata": {
    "collapsed": true
   },
   "outputs": [],
   "source": [
    "def getSpecificDependanciesFromEnv():\n",
    "    # nodes in the examinable period for manual search\n",
    "    #Will automate later\n",
    "#       ['aurelia aurita',\n",
    "#      'larus argentatus',\n",
    "#      'lanice conchilega',\n",
    "#      'luidia ciliaris',\n",
    "#      'turdus merula',\n",
    "#      'jassa falcata',\n",
    "#      'callionymus lyra',\n",
    "#      'rosa spinosissima',\n",
    "#      'trisopterus minutus',\n",
    "#      'spirorbis',\n",
    "#      'dictyota dichotoma',\n",
    "#      'asterias rubens',\n",
    "#      'pecten maximus',\n",
    "#      'nephrops norvegicus',\n",
    "#      'phalacrocorax aristotelis',\n",
    "#      'cyanea capillata',\n",
    "#      'marthasterias glacialis',\n",
    "#      'caprella',\n",
    "#      'porifera',\n",
    "#      'ophiothrix fragilis',\n",
    "#      'calliostoma zizyphinum',\n",
    "#      'phrynorhombus norvegicus',\n",
    "#      'larus marinus',\n",
    "#      'echinus esculentus',\n",
    "#      'cancer pagurus',\n",
    "#      'necora puber',\n",
    "#      'labrus mixtus',\n",
    "#      'electra pilosa',\n",
    "#      'pagurus',\n",
    "#      'onchidoris bilamellata',\n",
    "#      'somateria mollissima']\n",
    "\n",
    "    relationships = {}\n",
    "    \n",
    "    relationships['Alex Boden'] = ['Eigg Shed', 'Sandavore Farm', 'Eigg Huts', 'Hebnet Cic']\n",
    "    relationships['Celia Bull'] = ['Selkie Explorers']\n",
    "    relationships['Eddie Scott'] = [\"Sweeney's Bothy\",\"Eddie's Eigg Croft\",'Eigg Electric','Eigg Shop']\n",
    "    relationships['Elizabeth Boden'] = ['Eigg Huts','Heritage Trust','Eigg Shed','Eigg Primary School','Sandavore Farm','Eigg Trading']\n",
    "    relationships['George Carr'] = ['Laig Farm', 'Eigg Shop']\n",
    "    relationships['Laraine Wyn-Jones'] = ['Eigg Adventures', 'Eigg Camping Pods', 'Eigg Trading']\n",
    "    relationships[']Lucy Conway'] = ['Heritage Trust','Lagerona',\"Sweeney's Bothy\",\"Eddie's Eigg Croft\",'Eigg Primary School','Eigg Shop']\n",
    "    relationships['Neil Robertson'] = ['Eigg Organics', 'Roadworks']\n",
    "    relationships['Owain Wyn-Jones'] = ['Eigg Adventures', 'Eigg Camping Pods']\n",
    "    relationships['Saira Renny'] = ['Laig Farm', 'Eigg Shop']\n",
    "    relationships['Sarah Boden'] = ['Eigg Huts','Heritage Trust','Eigg Electric','Sandavore Farm','Kildonnan Bay Oysters']\n",
    "    relationships['Stuart Millar'] = ['Fishing Co', 'Galmisdale Cafe', 'Lagerona']\n",
    "    relationships['Sue Hollands'] = ['Eigg Organics', 'Eigg Electric']\n",
    "\n",
    "    return relationships"
   ]
  },
  {
   "cell_type": "code",
   "execution_count": 8,
   "metadata": {},
   "outputs": [
    {
     "name": "stderr",
     "output_type": "stream",
     "text": [
      "C:\\Users\\davie\\Anaconda3\\lib\\site-packages\\ipykernel_launcher.py:1: DtypeWarning: Columns (9,22) have mixed types. Specify dtype option on import or set low_memory=False.\n",
      "  \"\"\"Entry point for launching an IPython kernel.\n"
     ]
    },
    {
     "data": {
      "text/plain": [
       "['aurelia aurita',\n",
       " 'larus argentatus',\n",
       " 'lanice conchilega',\n",
       " 'luidia ciliaris',\n",
       " 'turdus merula',\n",
       " 'jassa falcata',\n",
       " 'callionymus lyra',\n",
       " 'rosa spinosissima',\n",
       " 'trisopterus minutus',\n",
       " 'spirorbis',\n",
       " 'dictyota dichotoma',\n",
       " 'asterias rubens',\n",
       " 'pecten maximus',\n",
       " 'nephrops norvegicus',\n",
       " 'phalacrocorax aristotelis',\n",
       " 'cyanea capillata',\n",
       " 'marthasterias glacialis',\n",
       " 'caprella',\n",
       " 'porifera',\n",
       " 'ophiothrix fragilis',\n",
       " 'calliostoma zizyphinum',\n",
       " 'phrynorhombus norvegicus',\n",
       " 'larus marinus',\n",
       " 'echinus esculentus',\n",
       " 'cancer pagurus',\n",
       " 'necora puber',\n",
       " 'labrus mixtus',\n",
       " 'electra pilosa',\n",
       " 'pagurus',\n",
       " 'onchidoris bilamellata',\n",
       " 'somateria mollissima']"
      ]
     },
     "execution_count": 8,
     "metadata": {},
     "output_type": "execute_result"
    }
   ],
   "source": [
    "G,mapping = graphFoodWeb(dateRange=(2014,2021))\n",
    "pos=nx.spring_layout(G,k=1)\n",
    "nx.draw(G,pos)\n",
    "for label in pos:\n",
    "    x,y = pos[label]\n",
    "    plt.text(x,y+0.035,s=mapping[label],horizontalalignment='center',fontsize=24)\n",
    "    \n",
    "saveGraphToFile(G,'animals.txt')\n",
    "labelsInOrder = list(G.nodes())\n",
    "np.savetxt('animalsForFun.txt', labelsInOrder, '%s')"
   ]
  }
 ],
 "metadata": {
  "kernelspec": {
   "display_name": "Python 3",
   "language": "python",
   "name": "python3"
  },
  "language_info": {
   "codemirror_mode": {
    "name": "ipython",
    "version": 3
   },
   "file_extension": ".py",
   "mimetype": "text/x-python",
   "name": "python",
   "nbconvert_exporter": "python",
   "pygments_lexer": "ipython3",
   "version": "3.6.3"
  }
 },
 "nbformat": 4,
 "nbformat_minor": 2
}
