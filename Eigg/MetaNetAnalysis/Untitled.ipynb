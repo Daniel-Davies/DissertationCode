{
 "cells": [
  {
   "cell_type": "code",
   "execution_count": 1,
   "metadata": {},
   "outputs": [],
   "source": [
    "%matplotlib inline\n",
    "import sys\n",
    "sys.path.insert(1,'../Utilities')\n",
    "# notebook\n",
    "import matplotlib.pylab as pylab\n",
    "import matplotlib.pyplot as plt\n",
    "from collections import Counter, defaultdict\n",
    "import numpy as np\n",
    "from sklearn.decomposition import PCA\n",
    "import pandas as pd\n",
    "import networkx as nx\n",
    "import json\n",
    "from math import sin, cos, sqrt, atan2, radians\n",
    "from utils import *\n",
    "from data import *\n",
    "from metaNetBusinessSide import *\n",
    "from foodWebGraphing import *\n",
    "#make the graphs bigger\n",
    "pylab.rcParams['figure.figsize'] = (32.0, 24.0)\n",
    "pylab.rcParams['font.size'] = 24"
   ]
  },
  {
   "cell_type": "code",
   "execution_count": 2,
   "metadata": {},
   "outputs": [
    {
     "name": "stderr",
     "output_type": "stream",
     "text": [
      "C:\\Users\\davie\\Anaconda3\\lib\\site-packages\\IPython\\core\\interactiveshell.py:2862: DtypeWarning: Columns (9,22) have mixed types. Specify dtype option on import or set low_memory=False.\n",
      "  exec(code_obj, self.user_global_ns, self.user_ns)\n"
     ]
    },
    {
     "data": {
      "text/plain": [
       "2019.0"
      ]
     },
     "execution_count": 2,
     "metadata": {},
     "output_type": "execute_result"
    }
   ],
   "source": [
    "dta = validatedEiggData()\n",
    "dta = dta.dropna(subset=['Start date year'])\n",
    "sorted(filter(lambda x: type(x) == np.float64,list(Counter(dta[\"Start date year\"]).keys())))[-1]"
   ]
  },
  {
   "cell_type": "markdown",
   "metadata": {},
   "source": [
    "### Decision 1: Time frame for Eco Net\n",
    "\n",
    "Let's say we take the last 10 years of available data (start date year) so that we can be reasonably sure those species are still there\n",
    "\n",
    "### Decision 2: Who's included in Business Net\n",
    "\n",
    "A lot of people on Eigg are involved in the ecological preservation/ have their livelihood tie to it since thats why tourists come; here we only look at people specifically on commitees (who wield most protection power) and hence have most power to protect the ecology.\n",
    "\n",
    "### Decision 3: Meta - Net links\n",
    "\n",
    "This will be anyone who has a direct dependance on the Ecology of Eigg; again this definition needs to be constrained, since technically everyone does, hence we constrain it here to be those who directly take the resource; fishermen, sightseeing organisations"
   ]
  },
  {
   "cell_type": "code",
   "execution_count": 3,
   "metadata": {},
   "outputs": [
    {
     "ename": "NameError",
     "evalue": "name 'inferredNamesGraph' is not defined",
     "output_type": "error",
     "traceback": [
      "\u001b[1;31m---------------------------------------------------------------------------\u001b[0m",
      "\u001b[1;31mNameError\u001b[0m                                 Traceback (most recent call last)",
      "\u001b[1;32m<ipython-input-3-fa6f1c3fa54f>\u001b[0m in \u001b[0;36m<module>\u001b[1;34m()\u001b[0m\n\u001b[1;32m----> 1\u001b[1;33m \u001b[0menvironmentallyDependant\u001b[0m \u001b[1;33m=\u001b[0m \u001b[0mgetEnvironmentallyInvolvedPeople\u001b[0m\u001b[1;33m(\u001b[0m\u001b[1;33m)\u001b[0m\u001b[1;33m\u001b[0m\u001b[0m\n\u001b[0m\u001b[0;32m      2\u001b[0m \u001b[0menvironmentallyDependant\u001b[0m\u001b[1;33m\u001b[0m\u001b[0m\n\u001b[0;32m      3\u001b[0m     \u001b[1;31m# nodes in the examinable period for manual search\u001b[0m\u001b[1;33m\u001b[0m\u001b[1;33m\u001b[0m\u001b[0m\n\u001b[0;32m      4\u001b[0m     \u001b[1;31m#Will automate later\u001b[0m\u001b[1;33m\u001b[0m\u001b[1;33m\u001b[0m\u001b[0m\n\u001b[0;32m      5\u001b[0m \u001b[1;31m#       ['aurelia aurita', => Moon jelly\u001b[0m\u001b[1;33m\u001b[0m\u001b[1;33m\u001b[0m\u001b[0m\n",
      "\u001b[1;32m~\\Desktop\\Masters\\Dissertation\\Code\\DissertationCode\\Eigg\\Utilities\\metaNetBusinessSide.py\u001b[0m in \u001b[0;36mgetEnvironmentallyInvolvedPeople\u001b[1;34m()\u001b[0m\n\u001b[0;32m    156\u001b[0m \u001b[1;33m\u001b[0m\u001b[0m\n\u001b[0;32m    157\u001b[0m \u001b[1;32mdef\u001b[0m \u001b[0mgetEnvironmentallyInvolvedPeople\u001b[0m\u001b[1;33m(\u001b[0m\u001b[1;33m)\u001b[0m\u001b[1;33m:\u001b[0m\u001b[1;33m\u001b[0m\u001b[0m\n\u001b[1;32m--> 158\u001b[1;33m     \u001b[0mrelationships\u001b[0m \u001b[1;33m=\u001b[0m \u001b[0minferredNamesGraph\u001b[0m\u001b[1;33m(\u001b[0m\u001b[1;33m)\u001b[0m\u001b[1;33m\u001b[0m\u001b[0m\n\u001b[0m\u001b[0;32m    159\u001b[0m     \u001b[0menvironmentalOrgs\u001b[0m \u001b[1;33m=\u001b[0m \u001b[0mdependDirectlyOnNaturalResources\u001b[0m\u001b[1;33m(\u001b[0m\u001b[1;33m)\u001b[0m\u001b[1;33m\u001b[0m\u001b[0m\n\u001b[0;32m    160\u001b[0m \u001b[1;33m\u001b[0m\u001b[0m\n",
      "\u001b[1;31mNameError\u001b[0m: name 'inferredNamesGraph' is not defined"
     ]
    }
   ],
   "source": [
    "environmentallyDependant = getEnvironmentallyInvolvedPeople()\n",
    "environmentallyDependant\n",
    "    # nodes in the examinable period for manual search\n",
    "    #Will automate later\n",
    "#       ['aurelia aurita', => Moon jelly\n",
    "#      'larus argentatus', => Herring gull (seagull)\n",
    "#      'lanice conchilega', => Sand Worm\n",
    "#      'luidia ciliaris', => Starfish\n",
    "#      'turdus merula', => Blackbird\n",
    "#      'jassa falcata', => Scud\n",
    "#      'callionymus lyra', => Dragonet fish\n",
    "#      'rosa spinosissima', => Wild (white) rose\n",
    "#      'trisopterus minutus', => Cod\n",
    "#      'spirorbis', => Little sea worm\n",
    "#      'dictyota dichotoma', => Forkweed (algae) / seaweed\n",
    "#      'asterias rubens', => Starfish\n",
    "#      'pecten maximus', => Scallop\n",
    "#      'nephrops norvegicus', => Lobster\n",
    "#      'phalacrocorax aristotelis', => Shag\n",
    "#      'cyanea capillata', => jellyfish\n",
    "#      'marthasterias glacialis', => starfish\n",
    "#      'caprella', => Shrimp\n",
    "#      'porifera', => Sponge\n",
    "#      'ophiothrix fragilis', => Starfish\n",
    "#      'calliostoma zizyphinum', => Sea snail\n",
    "#      'phrynorhombus norvegicus', => Flatfish\n",
    "#      'larus marinus', => other seagull\n",
    "#      'echinus esculentus', => Sea urchin\n",
    "#      'cancer pagurus', => crab\n",
    "#      'necora puber', => Crab\n",
    "#      'labrus mixtus', => coloured small fish\n",
    "#      'electra pilosa', => hairy sea mat\n",
    "#      'pagurus', => Hermit crab\n",
    "#      'onchidoris bilamellata', => Sea slug\n",
    "#      'somateria mollissima'] => Eider (duck)\n"
   ]
  },
  {
   "cell_type": "code",
   "execution_count": null,
   "metadata": {},
   "outputs": [],
   "source": [
    "G,mapping = graphFoodWeb(dateRange=(2014,2021))\n",
    "pos=nx.spring_layout(G,k=1)\n",
    "nx.draw(G,pos)\n",
    "for label in pos:\n",
    "    x,y = pos[label]\n",
    "    plt.text(x,y+0.035,s=mapping[label],horizontalalignment='center',fontsize=24)\n",
    "    \n",
    "    \n",
    "dta = validatedEiggData()\n",
    "dta = dta[dta['Start date year'] >= 2014]\n",
    "dta = Counter([(x.split(\" \"))[0] for x in dta['Scientific name']])\n",
    "dta\n",
    "\n",
    "# saveGraphToFile(G,'animals.txt')\n",
    "# labelsInOrder = list(G.nodes())\n",
    "# np.savetxt('animalsForFun.txt', labelsInOrder, '%s')\n",
    "\n",
    "## supplement them here with all of the nodes (involving isolates that arent constructed by routine)"
   ]
  },
  {
   "cell_type": "code",
   "execution_count": 8,
   "metadata": {},
   "outputs": [
    {
     "name": "stderr",
     "output_type": "stream",
     "text": [
      "C:\\Users\\davie\\Anaconda3\\lib\\site-packages\\IPython\\core\\interactiveshell.py:2862: DtypeWarning: Columns (9,22) have mixed types. Specify dtype option on import or set low_memory=False.\n",
      "  exec(code_obj, self.user_global_ns, self.user_ns)\n"
     ]
    },
    {
     "data": {
      "text/plain": [
       "57"
      ]
     },
     "execution_count": 8,
     "metadata": {},
     "output_type": "execute_result"
    }
   ],
   "source": [
    "df = validatedEiggData()\n",
    "res = constrainByTaxonomy(df, (\"Family\", \"Sulidae\"))\n",
    "len(res)"
   ]
  }
 ],
 "metadata": {
  "kernelspec": {
   "display_name": "Python 3",
   "language": "python",
   "name": "python3"
  },
  "language_info": {
   "codemirror_mode": {
    "name": "ipython",
    "version": 3
   },
   "file_extension": ".py",
   "mimetype": "text/x-python",
   "name": "python",
   "nbconvert_exporter": "python",
   "pygments_lexer": "ipython3",
   "version": "3.6.3"
  }
 },
 "nbformat": 4,
 "nbformat_minor": 2
}
